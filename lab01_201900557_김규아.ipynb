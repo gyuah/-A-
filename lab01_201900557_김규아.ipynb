{
  "nbformat": 4,
  "nbformat_minor": 0,
  "metadata": {
    "colab": {
      "name": "lab01_201900557_김규아.ipynb",
      "provenance": [],
      "collapsed_sections": [],
      "authorship_tag": "ABX9TyMs+W3SxHPFX604FxwvGbSJ",
      "include_colab_link": true
    },
    "kernelspec": {
      "name": "python3",
      "display_name": "Python 3"
    },
    "language_info": {
      "name": "python"
    }
  },
  "cells": [
    {
      "cell_type": "markdown",
      "metadata": {
        "id": "view-in-github",
        "colab_type": "text"
      },
      "source": [
        "<a href=\"https://colab.research.google.com/github/gyuah/-A-/blob/master/lab01_201900557_%EA%B9%80%EA%B7%9C%EC%95%84.ipynb\" target=\"_parent\"><img src=\"https://colab.research.google.com/assets/colab-badge.svg\" alt=\"Open In Colab\"/></a>"
      ]
    },
    {
      "cell_type": "markdown",
      "metadata": {
        "id": "X065Lmmh512X"
      },
      "source": [
        "#2-1 Data Manipulation"
      ]
    },
    {
      "cell_type": "code",
      "metadata": {
        "id": "pCGktlgR5kEU"
      },
      "source": [
        "import torch"
      ],
      "execution_count": 1,
      "outputs": []
    },
    {
      "cell_type": "markdown",
      "metadata": {
        "id": "tPk9YnvV5ypV"
      },
      "source": [
        ""
      ]
    },
    {
      "cell_type": "code",
      "metadata": {
        "colab": {
          "base_uri": "https://localhost:8080/"
        },
        "id": "rIvYjIBs6DDu",
        "outputId": "4851a7ba-6b20-4f28-9952-f02df57b361f"
      },
      "source": [
        "x=torch.arange(12)\n",
        "x"
      ],
      "execution_count": 2,
      "outputs": [
        {
          "output_type": "execute_result",
          "data": {
            "text/plain": [
              "tensor([ 0,  1,  2,  3,  4,  5,  6,  7,  8,  9, 10, 11])"
            ]
          },
          "metadata": {
            "tags": []
          },
          "execution_count": 2
        }
      ]
    },
    {
      "cell_type": "code",
      "metadata": {
        "colab": {
          "base_uri": "https://localhost:8080/"
        },
        "id": "ADWSD5MN6HBx",
        "outputId": "ac058d0e-99e4-4f47-8ec8-253077dd2a03"
      },
      "source": [
        "x.shape"
      ],
      "execution_count": 3,
      "outputs": [
        {
          "output_type": "execute_result",
          "data": {
            "text/plain": [
              "torch.Size([12])"
            ]
          },
          "metadata": {
            "tags": []
          },
          "execution_count": 3
        }
      ]
    },
    {
      "cell_type": "code",
      "metadata": {
        "colab": {
          "base_uri": "https://localhost:8080/"
        },
        "id": "YxT-vmai6JVn",
        "outputId": "741afa5e-b01a-45a7-e6f0-2a06d530b470"
      },
      "source": [
        "x.numel()"
      ],
      "execution_count": 4,
      "outputs": [
        {
          "output_type": "execute_result",
          "data": {
            "text/plain": [
              "12"
            ]
          },
          "metadata": {
            "tags": []
          },
          "execution_count": 4
        }
      ]
    },
    {
      "cell_type": "code",
      "metadata": {
        "colab": {
          "base_uri": "https://localhost:8080/"
        },
        "id": "cPt8EkYq6oyC",
        "outputId": "2d822b50-3022-4ce5-f506-a71e07499c4a"
      },
      "source": [
        "X=x.reshape(3,4)\n",
        "X"
      ],
      "execution_count": 5,
      "outputs": [
        {
          "output_type": "execute_result",
          "data": {
            "text/plain": [
              "tensor([[ 0,  1,  2,  3],\n",
              "        [ 4,  5,  6,  7],\n",
              "        [ 8,  9, 10, 11]])"
            ]
          },
          "metadata": {
            "tags": []
          },
          "execution_count": 5
        }
      ]
    },
    {
      "cell_type": "code",
      "metadata": {
        "colab": {
          "base_uri": "https://localhost:8080/"
        },
        "id": "IO7Tttnw6s40",
        "outputId": "63bf9325-b67f-4793-d842-2f5065d784d0"
      },
      "source": [
        "torch.zeros((2,3,4))"
      ],
      "execution_count": 6,
      "outputs": [
        {
          "output_type": "execute_result",
          "data": {
            "text/plain": [
              "tensor([[[0., 0., 0., 0.],\n",
              "         [0., 0., 0., 0.],\n",
              "         [0., 0., 0., 0.]],\n",
              "\n",
              "        [[0., 0., 0., 0.],\n",
              "         [0., 0., 0., 0.],\n",
              "         [0., 0., 0., 0.]]])"
            ]
          },
          "metadata": {
            "tags": []
          },
          "execution_count": 6
        }
      ]
    },
    {
      "cell_type": "code",
      "metadata": {
        "colab": {
          "base_uri": "https://localhost:8080/"
        },
        "id": "MR1_TaY_65ql",
        "outputId": "43fac4af-a5de-4008-d3c1-c813fa1144fb"
      },
      "source": [
        "torch.ones((2,3,4))"
      ],
      "execution_count": 7,
      "outputs": [
        {
          "output_type": "execute_result",
          "data": {
            "text/plain": [
              "tensor([[[1., 1., 1., 1.],\n",
              "         [1., 1., 1., 1.],\n",
              "         [1., 1., 1., 1.]],\n",
              "\n",
              "        [[1., 1., 1., 1.],\n",
              "         [1., 1., 1., 1.],\n",
              "         [1., 1., 1., 1.]]])"
            ]
          },
          "metadata": {
            "tags": []
          },
          "execution_count": 7
        }
      ]
    },
    {
      "cell_type": "code",
      "metadata": {
        "colab": {
          "base_uri": "https://localhost:8080/"
        },
        "id": "nKPbCjED680K",
        "outputId": "7b5afd39-38f2-4202-e031-4e855e092ad8"
      },
      "source": [
        "torch.randn(3,4) #N(0,1)을 따르는 number를 random하게 3x4 배열로 생성"
      ],
      "execution_count": 9,
      "outputs": [
        {
          "output_type": "execute_result",
          "data": {
            "text/plain": [
              "tensor([[ 0.0385,  2.1766,  1.2666,  1.7121],\n",
              "        [-0.2930, -0.3802,  0.2057, -0.4963],\n",
              "        [-1.1004,  1.2340,  0.5921,  2.2161]])"
            ]
          },
          "metadata": {
            "tags": []
          },
          "execution_count": 9
        }
      ]
    },
    {
      "cell_type": "code",
      "metadata": {
        "colab": {
          "base_uri": "https://localhost:8080/"
        },
        "id": "7WIKk2Wb7AGu",
        "outputId": "25c7c312-6122-429f-b325-4885382493ae"
      },
      "source": [
        "torch.tensor([[2, 1, 4, 3], [1, 2, 3, 4], [4, 3, 2, 1]])"
      ],
      "execution_count": 10,
      "outputs": [
        {
          "output_type": "execute_result",
          "data": {
            "text/plain": [
              "tensor([[2, 1, 4, 3],\n",
              "        [1, 2, 3, 4],\n",
              "        [4, 3, 2, 1]])"
            ]
          },
          "metadata": {
            "tags": []
          },
          "execution_count": 10
        }
      ]
    },
    {
      "cell_type": "code",
      "metadata": {
        "colab": {
          "base_uri": "https://localhost:8080/"
        },
        "id": "xMNiYRkr7b8o",
        "outputId": "85a1e39e-e9f8-400d-c57d-3077c812a9c1"
      },
      "source": [
        "x=torch.tensor([1.0,2,4,8])\n",
        "y=torch.tensor([2,2,2,2])\n",
        "x+y,x-y,x*y,x/y,x**y"
      ],
      "execution_count": 11,
      "outputs": [
        {
          "output_type": "execute_result",
          "data": {
            "text/plain": [
              "(tensor([ 3.,  4.,  6., 10.]),\n",
              " tensor([-1.,  0.,  2.,  6.]),\n",
              " tensor([ 2.,  4.,  8., 16.]),\n",
              " tensor([0.5000, 1.0000, 2.0000, 4.0000]),\n",
              " tensor([ 1.,  4., 16., 64.]))"
            ]
          },
          "metadata": {
            "tags": []
          },
          "execution_count": 11
        }
      ]
    },
    {
      "cell_type": "code",
      "metadata": {
        "colab": {
          "base_uri": "https://localhost:8080/"
        },
        "id": "am0diQnZ7sXa",
        "outputId": "5703c42e-0981-4011-fc47-f3dafb8de8be"
      },
      "source": [
        "torch.exp(x)"
      ],
      "execution_count": 12,
      "outputs": [
        {
          "output_type": "execute_result",
          "data": {
            "text/plain": [
              "tensor([2.7183e+00, 7.3891e+00, 5.4598e+01, 2.9810e+03])"
            ]
          },
          "metadata": {
            "tags": []
          },
          "execution_count": 12
        }
      ]
    },
    {
      "cell_type": "code",
      "metadata": {
        "colab": {
          "base_uri": "https://localhost:8080/"
        },
        "id": "pYsoYtvg7y-A",
        "outputId": "e50611b5-eaa9-434d-c085-efdee7c805c5"
      },
      "source": [
        "X=torch.arange(12,dtype=torch.float32).reshape((3,4))\n",
        "Y=torch.tensor([[2.0,1,4,3],[1,2,3,4],[4,3,2,1]])\n",
        "torch.cat((X,Y),dim=0),torch.cat((X,Y),dim=1)"
      ],
      "execution_count": 14,
      "outputs": [
        {
          "output_type": "execute_result",
          "data": {
            "text/plain": [
              "(tensor([[ 0.,  1.,  2.,  3.],\n",
              "         [ 4.,  5.,  6.,  7.],\n",
              "         [ 8.,  9., 10., 11.],\n",
              "         [ 2.,  1.,  4.,  3.],\n",
              "         [ 1.,  2.,  3.,  4.],\n",
              "         [ 4.,  3.,  2.,  1.]]),\n",
              " tensor([[ 0.,  1.,  2.,  3.,  2.,  1.,  4.,  3.],\n",
              "         [ 4.,  5.,  6.,  7.,  1.,  2.,  3.,  4.],\n",
              "         [ 8.,  9., 10., 11.,  4.,  3.,  2.,  1.]]))"
            ]
          },
          "metadata": {
            "tags": []
          },
          "execution_count": 14
        }
      ]
    },
    {
      "cell_type": "code",
      "metadata": {
        "colab": {
          "base_uri": "https://localhost:8080/"
        },
        "id": "645oBB7f8s6y",
        "outputId": "fc07fb95-6a99-4cac-d01f-7148b51cebf1"
      },
      "source": [
        "X==Y"
      ],
      "execution_count": 15,
      "outputs": [
        {
          "output_type": "execute_result",
          "data": {
            "text/plain": [
              "tensor([[False,  True, False,  True],\n",
              "        [False, False, False, False],\n",
              "        [False, False, False, False]])"
            ]
          },
          "metadata": {
            "tags": []
          },
          "execution_count": 15
        }
      ]
    },
    {
      "cell_type": "code",
      "metadata": {
        "colab": {
          "base_uri": "https://localhost:8080/"
        },
        "id": "5j0_nii69Orh",
        "outputId": "11f2487d-5113-41f9-b4ff-f57f80435461"
      },
      "source": [
        "X.sum()"
      ],
      "execution_count": 16,
      "outputs": [
        {
          "output_type": "execute_result",
          "data": {
            "text/plain": [
              "tensor(66.)"
            ]
          },
          "metadata": {
            "tags": []
          },
          "execution_count": 16
        }
      ]
    },
    {
      "cell_type": "code",
      "metadata": {
        "colab": {
          "base_uri": "https://localhost:8080/"
        },
        "id": "qba3wrRf9VcL",
        "outputId": "1edb5def-a9bd-4728-ef3c-a0d7e4e9a194"
      },
      "source": [
        "a = torch.arange(3).reshape((3, 1))\n",
        "b = torch.arange(2).reshape((1, 2))\n",
        "a, b"
      ],
      "execution_count": 17,
      "outputs": [
        {
          "output_type": "execute_result",
          "data": {
            "text/plain": [
              "(tensor([[0],\n",
              "         [1],\n",
              "         [2]]), tensor([[0, 1]]))"
            ]
          },
          "metadata": {
            "tags": []
          },
          "execution_count": 17
        }
      ]
    },
    {
      "cell_type": "code",
      "metadata": {
        "colab": {
          "base_uri": "https://localhost:8080/"
        },
        "id": "JriSTcK19Zce",
        "outputId": "a4a74472-c3e1-447a-823c-f0b3d57d90bb"
      },
      "source": [
        "a+b"
      ],
      "execution_count": 18,
      "outputs": [
        {
          "output_type": "execute_result",
          "data": {
            "text/plain": [
              "tensor([[0, 1],\n",
              "        [1, 2],\n",
              "        [2, 3]])"
            ]
          },
          "metadata": {
            "tags": []
          },
          "execution_count": 18
        }
      ]
    },
    {
      "cell_type": "code",
      "metadata": {
        "colab": {
          "base_uri": "https://localhost:8080/"
        },
        "id": "r8d3kYWg9c0y",
        "outputId": "079b806e-bbff-424d-accf-7afc17895a7e"
      },
      "source": [
        "X[-1], X[1:3]"
      ],
      "execution_count": 19,
      "outputs": [
        {
          "output_type": "execute_result",
          "data": {
            "text/plain": [
              "(tensor([ 8.,  9., 10., 11.]), tensor([[ 4.,  5.,  6.,  7.],\n",
              "         [ 8.,  9., 10., 11.]]))"
            ]
          },
          "metadata": {
            "tags": []
          },
          "execution_count": 19
        }
      ]
    },
    {
      "cell_type": "code",
      "metadata": {
        "colab": {
          "base_uri": "https://localhost:8080/"
        },
        "id": "Vp0x3XwA9kcJ",
        "outputId": "72ef0430-7441-4c69-d00c-46a0c20a001c"
      },
      "source": [
        "X[1, 2] = 9\n",
        "X"
      ],
      "execution_count": 20,
      "outputs": [
        {
          "output_type": "execute_result",
          "data": {
            "text/plain": [
              "tensor([[ 0.,  1.,  2.,  3.],\n",
              "        [ 4.,  5.,  9.,  7.],\n",
              "        [ 8.,  9., 10., 11.]])"
            ]
          },
          "metadata": {
            "tags": []
          },
          "execution_count": 20
        }
      ]
    },
    {
      "cell_type": "code",
      "metadata": {
        "colab": {
          "base_uri": "https://localhost:8080/"
        },
        "id": "lUAc7Bpm9nUG",
        "outputId": "08a3c5f2-7f90-4b22-8455-44b419b7c338"
      },
      "source": [
        "X[0:2, :] = 12\n",
        "X"
      ],
      "execution_count": 21,
      "outputs": [
        {
          "output_type": "execute_result",
          "data": {
            "text/plain": [
              "tensor([[12., 12., 12., 12.],\n",
              "        [12., 12., 12., 12.],\n",
              "        [ 8.,  9., 10., 11.]])"
            ]
          },
          "metadata": {
            "tags": []
          },
          "execution_count": 21
        }
      ]
    },
    {
      "cell_type": "code",
      "metadata": {
        "colab": {
          "base_uri": "https://localhost:8080/"
        },
        "id": "8XV7Znbl9vfS",
        "outputId": "b906a034-aca9-4d4b-ac85-4b66b8bb7def"
      },
      "source": [
        "before = id(Y) #id():메모리 상의 저장된 주소를 제공하는 function\n",
        "Y = Y + X\n",
        "id(Y) == before"
      ],
      "execution_count": 22,
      "outputs": [
        {
          "output_type": "execute_result",
          "data": {
            "text/plain": [
              "False"
            ]
          },
          "metadata": {
            "tags": []
          },
          "execution_count": 22
        }
      ]
    },
    {
      "cell_type": "code",
      "metadata": {
        "colab": {
          "base_uri": "https://localhost:8080/"
        },
        "id": "exsJ53X_-B5W",
        "outputId": "7b8e4a28-25fa-4027-bcbe-4429c091f57a"
      },
      "source": [
        "Z = torch.zeros_like(Y) #zeros_like():()와 같은 shape matrix를 생성하고 모두 0대입\n",
        "print('id(Z):', id(Z))\n",
        "Z[:] = X + Y #기존 저장 주소에 새로운 값을 가지는 Z \n",
        "print('id(Z):', id(Z))"
      ],
      "execution_count": 24,
      "outputs": [
        {
          "output_type": "stream",
          "text": [
            "id(Z): 139788618483584\n",
            "id(Z): 139788618483584\n"
          ],
          "name": "stdout"
        }
      ]
    },
    {
      "cell_type": "code",
      "metadata": {
        "colab": {
          "base_uri": "https://localhost:8080/"
        },
        "id": "RbXgDsf0-zKB",
        "outputId": "cbb58e69-48bd-48b7-d33a-9468e59b2ee4"
      },
      "source": [
        "before = id(X)\n",
        "X += Y #or X[:]=X+Y\n",
        "id(X) == before"
      ],
      "execution_count": 26,
      "outputs": [
        {
          "output_type": "execute_result",
          "data": {
            "text/plain": [
              "True"
            ]
          },
          "metadata": {
            "tags": []
          },
          "execution_count": 26
        }
      ]
    },
    {
      "cell_type": "code",
      "metadata": {
        "colab": {
          "base_uri": "https://localhost:8080/"
        },
        "id": "s1_QKWnF_sI8",
        "outputId": "4a7caeb3-3cf1-4f8d-e841-3c150dfe6f88"
      },
      "source": [
        "A = X.numpy()\n",
        "B = torch.tensor(A)\n",
        "type(A), type(B)"
      ],
      "execution_count": 27,
      "outputs": [
        {
          "output_type": "execute_result",
          "data": {
            "text/plain": [
              "(numpy.ndarray, torch.Tensor)"
            ]
          },
          "metadata": {
            "tags": []
          },
          "execution_count": 27
        }
      ]
    },
    {
      "cell_type": "code",
      "metadata": {
        "colab": {
          "base_uri": "https://localhost:8080/"
        },
        "id": "7gZcnqJQ_1Jk",
        "outputId": "da98fc10-92e4-4a7e-ce23-0acb25819473"
      },
      "source": [
        "a = torch.tensor([3.5])\n",
        "a, a.item(), float(a), int(a)"
      ],
      "execution_count": 28,
      "outputs": [
        {
          "output_type": "execute_result",
          "data": {
            "text/plain": [
              "(tensor([3.5000]), 3.5, 3.5, 3)"
            ]
          },
          "metadata": {
            "tags": []
          },
          "execution_count": 28
        }
      ]
    },
    {
      "cell_type": "markdown",
      "metadata": {
        "id": "RG4RcDlDAHOY"
      },
      "source": [
        "torch에서는 data를 tensor에 담는다. \n",
        "arange나 reshape 등의 함수를 사용하여 tensor를 생성하고 재구성할 수 있다.\n",
        "변수의 값을 update하고 싶을 때는 메모리가 낭비되지 않도록 주의한다."
      ]
    },
    {
      "cell_type": "markdown",
      "metadata": {
        "id": "AM_tzwTMXOgM"
      },
      "source": [
        "#2-2 Data Preprocessing"
      ]
    },
    {
      "cell_type": "code",
      "metadata": {
        "id": "lIryUhX___6S"
      },
      "source": [
        "import os\n",
        "\n",
        "os.makedirs(os.path.join('..','data'),exist_ok=True)\n",
        "data_file=os.path.join('..','data','house_tiny.csv')\n",
        "with open(data_file,'w') as f :\n",
        "  f.write('NumRooms,Alley,Price\\n')  \n",
        "  f.write('NA,Pave,127500\\n') \n",
        "  f.write('2,NA,106000\\n')\n",
        "  f.write('4,NA,178100\\n')\n",
        "  f.write('NA,NA,140000\\n')"
      ],
      "execution_count": 30,
      "outputs": []
    },
    {
      "cell_type": "code",
      "metadata": {
        "colab": {
          "base_uri": "https://localhost:8080/"
        },
        "id": "75-5gL_GZNH6",
        "outputId": "88611dd7-a731-4c96-d975-37e1657e25d4"
      },
      "source": [
        "import pandas as pd #read_csv function을 사용하기 위해 import\n",
        "\n",
        "data = pd.read_csv(data_file)\n",
        "print(data)"
      ],
      "execution_count": 31,
      "outputs": [
        {
          "output_type": "stream",
          "text": [
            "   NumRooms Alley   Price\n",
            "0       NaN  Pave  127500\n",
            "1       2.0   NaN  106000\n",
            "2       4.0   NaN  178100\n",
            "3       NaN   NaN  140000\n"
          ],
          "name": "stdout"
        }
      ]
    },
    {
      "cell_type": "code",
      "metadata": {
        "colab": {
          "base_uri": "https://localhost:8080/"
        },
        "id": "xJL5ijH2aEKz",
        "outputId": "e20d9f51-e49e-426b-8237-324ddf2c156b"
      },
      "source": [
        "inputs, outputs = data.iloc[:, 0:2], data.iloc[:, 2]\n",
        "#NumRooms와 Alley를 input으로, Price를 output으로 지정\n",
        "inputs = inputs.fillna(inputs.mean()) \n",
        "#NumRooms의 NaN 값을 다른 값들의 평균으로 대체\n",
        "print(inputs)"
      ],
      "execution_count": 32,
      "outputs": [
        {
          "output_type": "stream",
          "text": [
            "   NumRooms Alley\n",
            "0       3.0  Pave\n",
            "1       2.0   NaN\n",
            "2       4.0   NaN\n",
            "3       3.0   NaN\n"
          ],
          "name": "stdout"
        }
      ]
    },
    {
      "cell_type": "code",
      "metadata": {
        "colab": {
          "base_uri": "https://localhost:8080/"
        },
        "id": "3iAfQ2u5bp4k",
        "outputId": "f27ac435-755e-431e-e95a-7e20f40ef2b4"
      },
      "source": [
        "inputs = pd.get_dummies(inputs, dummy_na=True)\n",
        "#Alley column을 Pave와 nan 값을 기준으로 column 2개로 대체\n",
        "print(inputs)"
      ],
      "execution_count": 33,
      "outputs": [
        {
          "output_type": "stream",
          "text": [
            "   NumRooms  Alley_Pave  Alley_nan\n",
            "0       3.0           1          0\n",
            "1       2.0           0          1\n",
            "2       4.0           0          1\n",
            "3       3.0           0          1\n"
          ],
          "name": "stdout"
        }
      ]
    },
    {
      "cell_type": "code",
      "metadata": {
        "colab": {
          "base_uri": "https://localhost:8080/"
        },
        "id": "Vy0umZNacqVg",
        "outputId": "f2679e59-9145-4aa4-beaf-d085251b051d"
      },
      "source": [
        "#input, output 값들을 모두 숫자 형식으로 바꿨으니 tensor 형식으로 변환\n",
        "import torch\n",
        "\n",
        "X, y = torch.tensor(inputs.values), torch.tensor(outputs.values)\n",
        "X, y"
      ],
      "execution_count": 34,
      "outputs": [
        {
          "output_type": "execute_result",
          "data": {
            "text/plain": [
              "(tensor([[3., 1., 0.],\n",
              "         [2., 0., 1.],\n",
              "         [4., 0., 1.],\n",
              "         [3., 0., 1.]], dtype=torch.float64),\n",
              " tensor([127500, 106000, 178100, 140000]))"
            ]
          },
          "metadata": {
            "tags": []
          },
          "execution_count": 34
        }
      ]
    },
    {
      "cell_type": "markdown",
      "metadata": {
        "id": "zbBAtwGic5-j"
      },
      "source": [
        "csv형식의 파일을 생성하고 pandas에 포함된 function을 사용하여 파일을 읽는다. data file에서 numerical하지 않은 data를 preprocessing하여 모두 numerical하게 만들고\n",
        "이를 tensor 형식으로 옮긴다. "
      ]
    },
    {
      "cell_type": "markdown",
      "metadata": {
        "id": "MZv3GUzQfOTZ"
      },
      "source": [
        "#2.3 Linear Algebra"
      ]
    },
    {
      "cell_type": "code",
      "metadata": {
        "colab": {
          "base_uri": "https://localhost:8080/"
        },
        "id": "jXfCHIx9c4_D",
        "outputId": "346a32ec-4705-4901-c229-01447b817311"
      },
      "source": [
        "import torch\n",
        "\n",
        "x = torch.tensor([3.0]) #scalar 생성\n",
        "y = torch.tensor([2.0])\n",
        "\n",
        "x + y, x * y, x / y, x**y"
      ],
      "execution_count": 35,
      "outputs": [
        {
          "output_type": "execute_result",
          "data": {
            "text/plain": [
              "(tensor([5.]), tensor([6.]), tensor([1.5000]), tensor([9.]))"
            ]
          },
          "metadata": {
            "tags": []
          },
          "execution_count": 35
        }
      ]
    },
    {
      "cell_type": "code",
      "metadata": {
        "colab": {
          "base_uri": "https://localhost:8080/"
        },
        "id": "Rx2aviFKfzVi",
        "outputId": "035e4272-0c83-4275-9d6f-544d60c16857"
      },
      "source": [
        "x = torch.arange(4) #vector 생성\n",
        "x"
      ],
      "execution_count": 36,
      "outputs": [
        {
          "output_type": "execute_result",
          "data": {
            "text/plain": [
              "tensor([0, 1, 2, 3])"
            ]
          },
          "metadata": {
            "tags": []
          },
          "execution_count": 36
        }
      ]
    },
    {
      "cell_type": "code",
      "metadata": {
        "colab": {
          "base_uri": "https://localhost:8080/"
        },
        "id": "8n3WNMSEf9XX",
        "outputId": "7992bd24-0e1c-448d-cb63-00af91572c9f"
      },
      "source": [
        "x[3]"
      ],
      "execution_count": 39,
      "outputs": [
        {
          "output_type": "execute_result",
          "data": {
            "text/plain": [
              "tensor(3)"
            ]
          },
          "metadata": {
            "tags": []
          },
          "execution_count": 39
        }
      ]
    },
    {
      "cell_type": "code",
      "metadata": {
        "colab": {
          "base_uri": "https://localhost:8080/"
        },
        "id": "-FmS7pvOgAZs",
        "outputId": "50b26bdd-0b21-4f9a-87ce-2a718aa978a5"
      },
      "source": [
        "len(x)"
      ],
      "execution_count": 40,
      "outputs": [
        {
          "output_type": "execute_result",
          "data": {
            "text/plain": [
              "4"
            ]
          },
          "metadata": {
            "tags": []
          },
          "execution_count": 40
        }
      ]
    },
    {
      "cell_type": "code",
      "metadata": {
        "colab": {
          "base_uri": "https://localhost:8080/"
        },
        "id": "KBlPvg5uggui",
        "outputId": "c66dd4d9-289b-4bcb-c519-2df02bef7c8f"
      },
      "source": [
        "x.shape"
      ],
      "execution_count": 41,
      "outputs": [
        {
          "output_type": "execute_result",
          "data": {
            "text/plain": [
              "torch.Size([4])"
            ]
          },
          "metadata": {
            "tags": []
          },
          "execution_count": 41
        }
      ]
    },
    {
      "cell_type": "code",
      "metadata": {
        "colab": {
          "base_uri": "https://localhost:8080/"
        },
        "id": "E3pl2RqygiyL",
        "outputId": "2d0b571a-3a52-4692-b4e1-582c6f321398"
      },
      "source": [
        "A=torch.arange(20).reshape(5,4) #matrix\n",
        "A"
      ],
      "execution_count": 43,
      "outputs": [
        {
          "output_type": "execute_result",
          "data": {
            "text/plain": [
              "tensor([[ 0,  1,  2,  3],\n",
              "        [ 4,  5,  6,  7],\n",
              "        [ 8,  9, 10, 11],\n",
              "        [12, 13, 14, 15],\n",
              "        [16, 17, 18, 19]])"
            ]
          },
          "metadata": {
            "tags": []
          },
          "execution_count": 43
        }
      ]
    },
    {
      "cell_type": "code",
      "metadata": {
        "colab": {
          "base_uri": "https://localhost:8080/"
        },
        "id": "LbOmyh2bgtms",
        "outputId": "79ad1284-5017-441c-db8b-68ff380f4967"
      },
      "source": [
        "A.T #transpose"
      ],
      "execution_count": 45,
      "outputs": [
        {
          "output_type": "execute_result",
          "data": {
            "text/plain": [
              "tensor([[ 0,  4,  8, 12, 16],\n",
              "        [ 1,  5,  9, 13, 17],\n",
              "        [ 2,  6, 10, 14, 18],\n",
              "        [ 3,  7, 11, 15, 19]])"
            ]
          },
          "metadata": {
            "tags": []
          },
          "execution_count": 45
        }
      ]
    },
    {
      "cell_type": "code",
      "metadata": {
        "colab": {
          "base_uri": "https://localhost:8080/"
        },
        "id": "U_0pJyG4g0XX",
        "outputId": "39395b53-9750-4ca3-ef5a-8da742213c35"
      },
      "source": [
        "B=torch.tensor([[1,2,3],[2,0,4],[3,4,5]])\n",
        "B"
      ],
      "execution_count": 47,
      "outputs": [
        {
          "output_type": "execute_result",
          "data": {
            "text/plain": [
              "tensor([[1, 2, 3],\n",
              "        [2, 0, 4],\n",
              "        [3, 4, 5]])"
            ]
          },
          "metadata": {
            "tags": []
          },
          "execution_count": 47
        }
      ]
    },
    {
      "cell_type": "code",
      "metadata": {
        "colab": {
          "base_uri": "https://localhost:8080/"
        },
        "id": "P7kCB-Dng9vf",
        "outputId": "ab01a442-50f8-43f3-8309-fdb5103bf071"
      },
      "source": [
        "B==B.T #B와 B의 transpose를 비교"
      ],
      "execution_count": 49,
      "outputs": [
        {
          "output_type": "execute_result",
          "data": {
            "text/plain": [
              "tensor([[True, True, True],\n",
              "        [True, True, True],\n",
              "        [True, True, True]])"
            ]
          },
          "metadata": {
            "tags": []
          },
          "execution_count": 49
        }
      ]
    },
    {
      "cell_type": "code",
      "metadata": {
        "colab": {
          "base_uri": "https://localhost:8080/"
        },
        "id": "qhMvbrUxhCP6",
        "outputId": "4be917fc-2859-4f79-b86f-eb68fd10076f"
      },
      "source": [
        "X = torch.arange(24).reshape(2, 3, 4) #tensor:n-dimensional arrays\n",
        "X"
      ],
      "execution_count": 50,
      "outputs": [
        {
          "output_type": "execute_result",
          "data": {
            "text/plain": [
              "tensor([[[ 0,  1,  2,  3],\n",
              "         [ 4,  5,  6,  7],\n",
              "         [ 8,  9, 10, 11]],\n",
              "\n",
              "        [[12, 13, 14, 15],\n",
              "         [16, 17, 18, 19],\n",
              "         [20, 21, 22, 23]]])"
            ]
          },
          "metadata": {
            "tags": []
          },
          "execution_count": 50
        }
      ]
    },
    {
      "cell_type": "code",
      "metadata": {
        "colab": {
          "base_uri": "https://localhost:8080/"
        },
        "id": "vga5pv9Chotx",
        "outputId": "c3241ecb-0583-4cf9-d63d-57d1218480de"
      },
      "source": [
        "A = torch.arange(20, dtype=torch.float32).reshape(5, 4)\n",
        "B = A.clone()  # Assign a copy of `A` to `B` by allocating new memory\n",
        "A, A + B"
      ],
      "execution_count": 51,
      "outputs": [
        {
          "output_type": "execute_result",
          "data": {
            "text/plain": [
              "(tensor([[ 0.,  1.,  2.,  3.],\n",
              "         [ 4.,  5.,  6.,  7.],\n",
              "         [ 8.,  9., 10., 11.],\n",
              "         [12., 13., 14., 15.],\n",
              "         [16., 17., 18., 19.]]), tensor([[ 0.,  2.,  4.,  6.],\n",
              "         [ 8., 10., 12., 14.],\n",
              "         [16., 18., 20., 22.],\n",
              "         [24., 26., 28., 30.],\n",
              "         [32., 34., 36., 38.]]))"
            ]
          },
          "metadata": {
            "tags": []
          },
          "execution_count": 51
        }
      ]
    },
    {
      "cell_type": "code",
      "metadata": {
        "colab": {
          "base_uri": "https://localhost:8080/"
        },
        "id": "j5ej4LE5hvFl",
        "outputId": "bd332b7c-e10a-4840-a66a-76769f7cebce"
      },
      "source": [
        "A*B"
      ],
      "execution_count": 52,
      "outputs": [
        {
          "output_type": "execute_result",
          "data": {
            "text/plain": [
              "tensor([[  0.,   1.,   4.,   9.],\n",
              "        [ 16.,  25.,  36.,  49.],\n",
              "        [ 64.,  81., 100., 121.],\n",
              "        [144., 169., 196., 225.],\n",
              "        [256., 289., 324., 361.]])"
            ]
          },
          "metadata": {
            "tags": []
          },
          "execution_count": 52
        }
      ]
    },
    {
      "cell_type": "code",
      "metadata": {
        "colab": {
          "base_uri": "https://localhost:8080/"
        },
        "id": "jlFKWQhAhxr9",
        "outputId": "ffdc9e94-b560-46e9-816e-000b87715c84"
      },
      "source": [
        "a = 2\n",
        "X = torch.arange(24).reshape(2, 3, 4)\n",
        "a + X, (a * X).shape #tensor에 scalar를 더해도 shape이 변하지 않는다"
      ],
      "execution_count": 54,
      "outputs": [
        {
          "output_type": "execute_result",
          "data": {
            "text/plain": [
              "(tensor([[[ 2,  3,  4,  5],\n",
              "          [ 6,  7,  8,  9],\n",
              "          [10, 11, 12, 13]],\n",
              " \n",
              "         [[14, 15, 16, 17],\n",
              "          [18, 19, 20, 21],\n",
              "          [22, 23, 24, 25]]]), torch.Size([2, 3, 4]))"
            ]
          },
          "metadata": {
            "tags": []
          },
          "execution_count": 54
        }
      ]
    },
    {
      "cell_type": "code",
      "metadata": {
        "colab": {
          "base_uri": "https://localhost:8080/"
        },
        "id": "cHP9NGaSiMYU",
        "outputId": "3baec0c9-6768-4e46-9ee1-77ac62f16609"
      },
      "source": [
        "x = torch.arange(4, dtype=torch.float32)\n",
        "x, x.sum()"
      ],
      "execution_count": 55,
      "outputs": [
        {
          "output_type": "execute_result",
          "data": {
            "text/plain": [
              "(tensor([0., 1., 2., 3.]), tensor(6.))"
            ]
          },
          "metadata": {
            "tags": []
          },
          "execution_count": 55
        }
      ]
    },
    {
      "cell_type": "code",
      "metadata": {
        "colab": {
          "base_uri": "https://localhost:8080/"
        },
        "id": "5XkPDsY0isKT",
        "outputId": "f98be28e-46c3-4e23-c9ce-fd5aac34ad05"
      },
      "source": [
        "A.shape, A.sum()"
      ],
      "execution_count": 56,
      "outputs": [
        {
          "output_type": "execute_result",
          "data": {
            "text/plain": [
              "(torch.Size([5, 4]), tensor(190.))"
            ]
          },
          "metadata": {
            "tags": []
          },
          "execution_count": 56
        }
      ]
    },
    {
      "cell_type": "code",
      "metadata": {
        "colab": {
          "base_uri": "https://localhost:8080/"
        },
        "id": "NlcS6Bn0jDRY",
        "outputId": "d8e21eee-70a9-4a85-9ab2-08e97b32c7b4"
      },
      "source": [
        "A_sum_axis0 = A.sum(axis=0) #row 기준으로 더함\n",
        "A_sum_axis0, A_sum_axis0.shape #shape이 달라짐"
      ],
      "execution_count": 57,
      "outputs": [
        {
          "output_type": "execute_result",
          "data": {
            "text/plain": [
              "(tensor([40., 45., 50., 55.]), torch.Size([4]))"
            ]
          },
          "metadata": {
            "tags": []
          },
          "execution_count": 57
        }
      ]
    },
    {
      "cell_type": "code",
      "metadata": {
        "colab": {
          "base_uri": "https://localhost:8080/"
        },
        "id": "OGHSpfy0kHCC",
        "outputId": "09503f86-d5e5-456c-cffa-23ab81d9833b"
      },
      "source": [
        "A_sum_axis1 = A.sum(axis=1) #column 기준으로 더함\n",
        "A_sum_axis1, A_sum_axis1.shape #shape이 달라짐"
      ],
      "execution_count": 58,
      "outputs": [
        {
          "output_type": "execute_result",
          "data": {
            "text/plain": [
              "(tensor([ 6., 22., 38., 54., 70.]), torch.Size([5]))"
            ]
          },
          "metadata": {
            "tags": []
          },
          "execution_count": 58
        }
      ]
    },
    {
      "cell_type": "code",
      "metadata": {
        "colab": {
          "base_uri": "https://localhost:8080/"
        },
        "id": "-T8cwNdKkTqL",
        "outputId": "e1be3e6c-aab4-42f2-f645-d546d9bd0e4a"
      },
      "source": [
        "A.sum(axis=[0, 1])  # row와 column 모두를 더한다. A.sum과 동일"
      ],
      "execution_count": 59,
      "outputs": [
        {
          "output_type": "execute_result",
          "data": {
            "text/plain": [
              "tensor(190.)"
            ]
          },
          "metadata": {
            "tags": []
          },
          "execution_count": 59
        }
      ]
    },
    {
      "cell_type": "code",
      "metadata": {
        "colab": {
          "base_uri": "https://localhost:8080/"
        },
        "id": "iik31X-jk58r",
        "outputId": "0009860d-b841-4c03-a0e9-d8190f99c205"
      },
      "source": [
        "A.mean(), A.sum() / A.numel()"
      ],
      "execution_count": 60,
      "outputs": [
        {
          "output_type": "execute_result",
          "data": {
            "text/plain": [
              "(tensor(9.5000), tensor(9.5000))"
            ]
          },
          "metadata": {
            "tags": []
          },
          "execution_count": 60
        }
      ]
    },
    {
      "cell_type": "code",
      "metadata": {
        "colab": {
          "base_uri": "https://localhost:8080/"
        },
        "id": "Pem2jI-_pr9J",
        "outputId": "e043e4a0-7039-4151-d96c-146c10d8be7a"
      },
      "source": [
        "A.mean(axis=0), A.sum(axis=0) / A.shape[0]"
      ],
      "execution_count": 61,
      "outputs": [
        {
          "output_type": "execute_result",
          "data": {
            "text/plain": [
              "(tensor([ 8.,  9., 10., 11.]), tensor([ 8.,  9., 10., 11.]))"
            ]
          },
          "metadata": {
            "tags": []
          },
          "execution_count": 61
        }
      ]
    },
    {
      "cell_type": "code",
      "metadata": {
        "colab": {
          "base_uri": "https://localhost:8080/"
        },
        "id": "C2GMVtjhpxKi",
        "outputId": "6a8bc928-9722-4910-8bd5-f04c4ed1be2b"
      },
      "source": [
        "sum_A = A.sum(axis=1, keepdims=True)\n",
        "sum_A"
      ],
      "execution_count": 62,
      "outputs": [
        {
          "output_type": "execute_result",
          "data": {
            "text/plain": [
              "tensor([[ 6.],\n",
              "        [22.],\n",
              "        [38.],\n",
              "        [54.],\n",
              "        [70.]])"
            ]
          },
          "metadata": {
            "tags": []
          },
          "execution_count": 62
        }
      ]
    },
    {
      "cell_type": "code",
      "metadata": {
        "colab": {
          "base_uri": "https://localhost:8080/"
        },
        "id": "ltO7cwiVqH-R",
        "outputId": "f562c047-655c-49e2-fefd-f53635732086"
      },
      "source": [
        "A / sum_A"
      ],
      "execution_count": 63,
      "outputs": [
        {
          "output_type": "execute_result",
          "data": {
            "text/plain": [
              "tensor([[0.0000, 0.1667, 0.3333, 0.5000],\n",
              "        [0.1818, 0.2273, 0.2727, 0.3182],\n",
              "        [0.2105, 0.2368, 0.2632, 0.2895],\n",
              "        [0.2222, 0.2407, 0.2593, 0.2778],\n",
              "        [0.2286, 0.2429, 0.2571, 0.2714]])"
            ]
          },
          "metadata": {
            "tags": []
          },
          "execution_count": 63
        }
      ]
    },
    {
      "cell_type": "code",
      "metadata": {
        "colab": {
          "base_uri": "https://localhost:8080/"
        },
        "id": "TcEoiQ7tqNqs",
        "outputId": "e573f06e-5248-43aa-db44-6120d24d2a86"
      },
      "source": [
        "A.cumsum(axis=0) #row 기준으로 축적되는 sum"
      ],
      "execution_count": 65,
      "outputs": [
        {
          "output_type": "execute_result",
          "data": {
            "text/plain": [
              "tensor([[ 0.,  1.,  2.,  3.],\n",
              "        [ 4.,  6.,  8., 10.],\n",
              "        [12., 15., 18., 21.],\n",
              "        [24., 28., 32., 36.],\n",
              "        [40., 45., 50., 55.]])"
            ]
          },
          "metadata": {
            "tags": []
          },
          "execution_count": 65
        }
      ]
    },
    {
      "cell_type": "code",
      "metadata": {
        "colab": {
          "base_uri": "https://localhost:8080/"
        },
        "id": "ZOMmCGq0qjW9",
        "outputId": "5859ea20-9325-44e2-ef81-b93d77b24def"
      },
      "source": [
        "y = torch.ones(4, dtype = torch.float32)\n",
        "x, y, torch.dot(x, y) #x,y dot product"
      ],
      "execution_count": 66,
      "outputs": [
        {
          "output_type": "execute_result",
          "data": {
            "text/plain": [
              "(tensor([0., 1., 2., 3.]), tensor([1., 1., 1., 1.]), tensor(6.))"
            ]
          },
          "metadata": {
            "tags": []
          },
          "execution_count": 66
        }
      ]
    },
    {
      "cell_type": "code",
      "metadata": {
        "colab": {
          "base_uri": "https://localhost:8080/"
        },
        "id": "i1eCBV5wqwjS",
        "outputId": "5e5ce6a9-d7df-447f-a0f8-f9322b835f0e"
      },
      "source": [
        "torch.sum(x * y) #==torch.dot(x,y)"
      ],
      "execution_count": 68,
      "outputs": [
        {
          "output_type": "execute_result",
          "data": {
            "text/plain": [
              "tensor(6.)"
            ]
          },
          "metadata": {
            "tags": []
          },
          "execution_count": 68
        }
      ]
    },
    {
      "cell_type": "code",
      "metadata": {
        "colab": {
          "base_uri": "https://localhost:8080/"
        },
        "id": "Fl86xU4TqzNg",
        "outputId": "1d72371d-131b-4071-fa2b-1b935427bccd"
      },
      "source": [
        "A.shape, x.shape, torch.mv(A, x) #matrix-vector product"
      ],
      "execution_count": 69,
      "outputs": [
        {
          "output_type": "execute_result",
          "data": {
            "text/plain": [
              "(torch.Size([5, 4]), torch.Size([4]), tensor([ 14.,  38.,  62.,  86., 110.]))"
            ]
          },
          "metadata": {
            "tags": []
          },
          "execution_count": 69
        }
      ]
    },
    {
      "cell_type": "code",
      "metadata": {
        "colab": {
          "base_uri": "https://localhost:8080/"
        },
        "id": "_wmgwBM7rkqs",
        "outputId": "6b4a10f4-ce55-4347-e41f-4c801412c18d"
      },
      "source": [
        "B = torch.ones(4, 3)\n",
        "torch.mm(A, B) #matrix-matrix product"
      ],
      "execution_count": 70,
      "outputs": [
        {
          "output_type": "execute_result",
          "data": {
            "text/plain": [
              "tensor([[ 6.,  6.,  6.],\n",
              "        [22., 22., 22.],\n",
              "        [38., 38., 38.],\n",
              "        [54., 54., 54.],\n",
              "        [70., 70., 70.]])"
            ]
          },
          "metadata": {
            "tags": []
          },
          "execution_count": 70
        }
      ]
    },
    {
      "cell_type": "code",
      "metadata": {
        "colab": {
          "base_uri": "https://localhost:8080/"
        },
        "id": "lqO0TR7TuCJx",
        "outputId": "326613d6-8b8f-4015-97a8-add97dfdd47a"
      },
      "source": [
        "u = torch.tensor([3.0, -4.0])\n",
        "torch.norm(u) #L2 norm"
      ],
      "execution_count": 71,
      "outputs": [
        {
          "output_type": "execute_result",
          "data": {
            "text/plain": [
              "tensor(5.)"
            ]
          },
          "metadata": {
            "tags": []
          },
          "execution_count": 71
        }
      ]
    },
    {
      "cell_type": "code",
      "metadata": {
        "colab": {
          "base_uri": "https://localhost:8080/"
        },
        "id": "TUYwhqgVuVdx",
        "outputId": "4101e576-6c94-4700-89f5-295a668183a9"
      },
      "source": [
        "torch.abs(u).sum() #L1 norm"
      ],
      "execution_count": 72,
      "outputs": [
        {
          "output_type": "execute_result",
          "data": {
            "text/plain": [
              "tensor(7.)"
            ]
          },
          "metadata": {
            "tags": []
          },
          "execution_count": 72
        }
      ]
    },
    {
      "cell_type": "code",
      "metadata": {
        "colab": {
          "base_uri": "https://localhost:8080/"
        },
        "id": "HZqipWF8ujYZ",
        "outputId": "830ce64c-1f6c-4585-978d-0192a29f0ffa"
      },
      "source": [
        "torch.norm(torch.ones((4, 9)))"
      ],
      "execution_count": 74,
      "outputs": [
        {
          "output_type": "execute_result",
          "data": {
            "text/plain": [
              "tensor(6.)"
            ]
          },
          "metadata": {
            "tags": []
          },
          "execution_count": 74
        }
      ]
    },
    {
      "cell_type": "markdown",
      "metadata": {
        "id": "AGo3DdeEu_yf"
      },
      "source": [
        "scalar,vector, matrix 간의 연산을 해봤다. sum,mean,dot product,norm 등의 연산을 통해 tensor의 연산에 익숙해질 수 있었다."
      ]
    },
    {
      "cell_type": "markdown",
      "metadata": {
        "id": "Fo8Yh5KQ4yOr"
      },
      "source": [
        "#2.5 Calculus"
      ]
    },
    {
      "cell_type": "code",
      "metadata": {
        "colab": {
          "base_uri": "https://localhost:8080/"
        },
        "id": "78SV1fZhuz5O",
        "outputId": "52257ac2-3ac3-43cf-e265-029d761970f0"
      },
      "source": [
        "!pip install d2l==0.16.1"
      ],
      "execution_count": 75,
      "outputs": [
        {
          "output_type": "stream",
          "text": [
            "Collecting d2l==0.16.1\n",
            "\u001b[?25l  Downloading https://files.pythonhosted.org/packages/30/2b/3515cd6f2898bf95306a5c58b065aeb045fdc25516f2b68b0f8409e320c3/d2l-0.16.1-py3-none-any.whl (76kB)\n",
            "\r\u001b[K     |████▎                           | 10kB 17.6MB/s eta 0:00:01\r\u001b[K     |████████▌                       | 20kB 23.3MB/s eta 0:00:01\r\u001b[K     |████████████▉                   | 30kB 11.7MB/s eta 0:00:01\r\u001b[K     |█████████████████               | 40kB 9.1MB/s eta 0:00:01\r\u001b[K     |█████████████████████▍          | 51kB 6.9MB/s eta 0:00:01\r\u001b[K     |█████████████████████████▋      | 61kB 7.3MB/s eta 0:00:01\r\u001b[K     |██████████████████████████████  | 71kB 7.7MB/s eta 0:00:01\r\u001b[K     |████████████████████████████████| 81kB 4.9MB/s \n",
            "\u001b[?25hRequirement already satisfied: pandas in /usr/local/lib/python3.7/dist-packages (from d2l==0.16.1) (1.1.5)\n",
            "Requirement already satisfied: numpy in /usr/local/lib/python3.7/dist-packages (from d2l==0.16.1) (1.19.5)\n",
            "Requirement already satisfied: jupyter in /usr/local/lib/python3.7/dist-packages (from d2l==0.16.1) (1.0.0)\n",
            "Requirement already satisfied: matplotlib in /usr/local/lib/python3.7/dist-packages (from d2l==0.16.1) (3.2.2)\n",
            "Requirement already satisfied: pytz>=2017.2 in /usr/local/lib/python3.7/dist-packages (from pandas->d2l==0.16.1) (2018.9)\n",
            "Requirement already satisfied: python-dateutil>=2.7.3 in /usr/local/lib/python3.7/dist-packages (from pandas->d2l==0.16.1) (2.8.1)\n",
            "Requirement already satisfied: jupyter-console in /usr/local/lib/python3.7/dist-packages (from jupyter->d2l==0.16.1) (5.2.0)\n",
            "Requirement already satisfied: nbconvert in /usr/local/lib/python3.7/dist-packages (from jupyter->d2l==0.16.1) (5.6.1)\n",
            "Requirement already satisfied: notebook in /usr/local/lib/python3.7/dist-packages (from jupyter->d2l==0.16.1) (5.3.1)\n",
            "Requirement already satisfied: ipywidgets in /usr/local/lib/python3.7/dist-packages (from jupyter->d2l==0.16.1) (7.6.3)\n",
            "Requirement already satisfied: qtconsole in /usr/local/lib/python3.7/dist-packages (from jupyter->d2l==0.16.1) (5.0.3)\n",
            "Requirement already satisfied: ipykernel in /usr/local/lib/python3.7/dist-packages (from jupyter->d2l==0.16.1) (4.10.1)\n",
            "Requirement already satisfied: kiwisolver>=1.0.1 in /usr/local/lib/python3.7/dist-packages (from matplotlib->d2l==0.16.1) (1.3.1)\n",
            "Requirement already satisfied: pyparsing!=2.0.4,!=2.1.2,!=2.1.6,>=2.0.1 in /usr/local/lib/python3.7/dist-packages (from matplotlib->d2l==0.16.1) (2.4.7)\n",
            "Requirement already satisfied: cycler>=0.10 in /usr/local/lib/python3.7/dist-packages (from matplotlib->d2l==0.16.1) (0.10.0)\n",
            "Requirement already satisfied: six>=1.5 in /usr/local/lib/python3.7/dist-packages (from python-dateutil>=2.7.3->pandas->d2l==0.16.1) (1.15.0)\n",
            "Requirement already satisfied: jupyter-client in /usr/local/lib/python3.7/dist-packages (from jupyter-console->jupyter->d2l==0.16.1) (5.3.5)\n",
            "Requirement already satisfied: pygments in /usr/local/lib/python3.7/dist-packages (from jupyter-console->jupyter->d2l==0.16.1) (2.6.1)\n",
            "Requirement already satisfied: ipython in /usr/local/lib/python3.7/dist-packages (from jupyter-console->jupyter->d2l==0.16.1) (5.5.0)\n",
            "Requirement already satisfied: prompt-toolkit<2.0.0,>=1.0.0 in /usr/local/lib/python3.7/dist-packages (from jupyter-console->jupyter->d2l==0.16.1) (1.0.18)\n",
            "Requirement already satisfied: jupyter-core in /usr/local/lib/python3.7/dist-packages (from nbconvert->jupyter->d2l==0.16.1) (4.7.1)\n",
            "Requirement already satisfied: testpath in /usr/local/lib/python3.7/dist-packages (from nbconvert->jupyter->d2l==0.16.1) (0.4.4)\n",
            "Requirement already satisfied: entrypoints>=0.2.2 in /usr/local/lib/python3.7/dist-packages (from nbconvert->jupyter->d2l==0.16.1) (0.3)\n",
            "Requirement already satisfied: nbformat>=4.4 in /usr/local/lib/python3.7/dist-packages (from nbconvert->jupyter->d2l==0.16.1) (5.1.2)\n",
            "Requirement already satisfied: traitlets>=4.2 in /usr/local/lib/python3.7/dist-packages (from nbconvert->jupyter->d2l==0.16.1) (5.0.5)\n",
            "Requirement already satisfied: mistune<2,>=0.8.1 in /usr/local/lib/python3.7/dist-packages (from nbconvert->jupyter->d2l==0.16.1) (0.8.4)\n",
            "Requirement already satisfied: jinja2>=2.4 in /usr/local/lib/python3.7/dist-packages (from nbconvert->jupyter->d2l==0.16.1) (2.11.3)\n",
            "Requirement already satisfied: bleach in /usr/local/lib/python3.7/dist-packages (from nbconvert->jupyter->d2l==0.16.1) (3.3.0)\n",
            "Requirement already satisfied: defusedxml in /usr/local/lib/python3.7/dist-packages (from nbconvert->jupyter->d2l==0.16.1) (0.7.1)\n",
            "Requirement already satisfied: pandocfilters>=1.4.1 in /usr/local/lib/python3.7/dist-packages (from nbconvert->jupyter->d2l==0.16.1) (1.4.3)\n",
            "Requirement already satisfied: tornado>=4 in /usr/local/lib/python3.7/dist-packages (from notebook->jupyter->d2l==0.16.1) (5.1.1)\n",
            "Requirement already satisfied: terminado>=0.8.1 in /usr/local/lib/python3.7/dist-packages (from notebook->jupyter->d2l==0.16.1) (0.9.2)\n",
            "Requirement already satisfied: ipython-genutils in /usr/local/lib/python3.7/dist-packages (from notebook->jupyter->d2l==0.16.1) (0.2.0)\n",
            "Requirement already satisfied: Send2Trash in /usr/local/lib/python3.7/dist-packages (from notebook->jupyter->d2l==0.16.1) (1.5.0)\n",
            "Requirement already satisfied: jupyterlab-widgets>=1.0.0; python_version >= \"3.6\" in /usr/local/lib/python3.7/dist-packages (from ipywidgets->jupyter->d2l==0.16.1) (1.0.0)\n",
            "Requirement already satisfied: widgetsnbextension~=3.5.0 in /usr/local/lib/python3.7/dist-packages (from ipywidgets->jupyter->d2l==0.16.1) (3.5.1)\n",
            "Requirement already satisfied: pyzmq>=17.1 in /usr/local/lib/python3.7/dist-packages (from qtconsole->jupyter->d2l==0.16.1) (22.0.3)\n",
            "Requirement already satisfied: qtpy in /usr/local/lib/python3.7/dist-packages (from qtconsole->jupyter->d2l==0.16.1) (1.9.0)\n",
            "Requirement already satisfied: pexpect; sys_platform != \"win32\" in /usr/local/lib/python3.7/dist-packages (from ipython->jupyter-console->jupyter->d2l==0.16.1) (4.8.0)\n",
            "Requirement already satisfied: pickleshare in /usr/local/lib/python3.7/dist-packages (from ipython->jupyter-console->jupyter->d2l==0.16.1) (0.7.5)\n",
            "Requirement already satisfied: setuptools>=18.5 in /usr/local/lib/python3.7/dist-packages (from ipython->jupyter-console->jupyter->d2l==0.16.1) (54.1.2)\n",
            "Requirement already satisfied: decorator in /usr/local/lib/python3.7/dist-packages (from ipython->jupyter-console->jupyter->d2l==0.16.1) (4.4.2)\n",
            "Requirement already satisfied: simplegeneric>0.8 in /usr/local/lib/python3.7/dist-packages (from ipython->jupyter-console->jupyter->d2l==0.16.1) (0.8.1)\n",
            "Requirement already satisfied: wcwidth in /usr/local/lib/python3.7/dist-packages (from prompt-toolkit<2.0.0,>=1.0.0->jupyter-console->jupyter->d2l==0.16.1) (0.2.5)\n",
            "Requirement already satisfied: jsonschema!=2.5.0,>=2.4 in /usr/local/lib/python3.7/dist-packages (from nbformat>=4.4->nbconvert->jupyter->d2l==0.16.1) (2.6.0)\n",
            "Requirement already satisfied: MarkupSafe>=0.23 in /usr/local/lib/python3.7/dist-packages (from jinja2>=2.4->nbconvert->jupyter->d2l==0.16.1) (1.1.1)\n",
            "Requirement already satisfied: packaging in /usr/local/lib/python3.7/dist-packages (from bleach->nbconvert->jupyter->d2l==0.16.1) (20.9)\n",
            "Requirement already satisfied: webencodings in /usr/local/lib/python3.7/dist-packages (from bleach->nbconvert->jupyter->d2l==0.16.1) (0.5.1)\n",
            "Requirement already satisfied: ptyprocess; os_name != \"nt\" in /usr/local/lib/python3.7/dist-packages (from terminado>=0.8.1->notebook->jupyter->d2l==0.16.1) (0.7.0)\n",
            "Installing collected packages: d2l\n",
            "Successfully installed d2l-0.16.1\n"
          ],
          "name": "stdout"
        }
      ]
    },
    {
      "cell_type": "code",
      "metadata": {
        "id": "ECzEwcc04325"
      },
      "source": [
        "%matplotlib inline\n",
        "from d2l import torch as d2l\n",
        "from IPython import display\n",
        "import numpy as np\n",
        "\n",
        "def f(x): #함수 선언\n",
        "    return 3 * x ** 2 - 4 * x"
      ],
      "execution_count": 76,
      "outputs": []
    },
    {
      "cell_type": "code",
      "metadata": {
        "colab": {
          "base_uri": "https://localhost:8080/"
        },
        "id": "ZXJAMqlv5fqf",
        "outputId": "36f418a4-9bb8-4931-9df0-1802de6865c0"
      },
      "source": [
        "def numerical_lim(f, x, h):\n",
        "    return (f(x + h) - f(x)) / h\n",
        "\n",
        "#x=1일 때, h가 0에 가까워질수록 f(x)함수 값이 2에 가까워진다. f(x)의 \n",
        "#x=1일 때와 같은 값. \n",
        "h = 0.1\n",
        "for i in range(5):\n",
        "    print(f'h={h:.5f}, numerical limit={numerical_lim(f, 1, h):.5f}')\n",
        "    h *= 0.1"
      ],
      "execution_count": 77,
      "outputs": [
        {
          "output_type": "stream",
          "text": [
            "h=0.10000, numerical limit=2.30000\n",
            "h=0.01000, numerical limit=2.03000\n",
            "h=0.00100, numerical limit=2.00300\n",
            "h=0.00010, numerical limit=2.00030\n",
            "h=0.00001, numerical limit=2.00003\n"
          ],
          "name": "stdout"
        }
      ]
    },
    {
      "cell_type": "code",
      "metadata": {
        "id": "KPcwHeCP7Bwf"
      },
      "source": [
        "def use_svg_display():  #@save\n",
        "    \"\"\"Use the svg format to display a plot in Jupyter.\"\"\"\n",
        "    display.set_matplotlib_formats('svg')\n",
        "#추후에 재정의 하지 않아도 호출 가능"
      ],
      "execution_count": 78,
      "outputs": []
    },
    {
      "cell_type": "code",
      "metadata": {
        "id": "B_xltQwJ7tyZ"
      },
      "source": [
        "def set_figsize(figsize=(3.5, 2.5)):  #@save\n",
        "    \"\"\"Set the figure size for matplotlib.\"\"\"\n",
        "    use_svg_display()\n",
        "    d2l.plt.rcParams['figure.figsize'] = figsize"
      ],
      "execution_count": 79,
      "outputs": []
    },
    {
      "cell_type": "code",
      "metadata": {
        "id": "Lc6dsICG9LB-"
      },
      "source": [
        "#@save\n",
        "def set_axes(axes, xlabel, ylabel, xlim, ylim, xscale, yscale, legend):\n",
        "    \"\"\"Set the axes for matplotlib.\"\"\"\n",
        "    axes.set_xlabel(xlabel)\n",
        "    axes.set_ylabel(ylabel)\n",
        "    axes.set_xscale(xscale)\n",
        "    axes.set_yscale(yscale)\n",
        "    axes.set_xlim(xlim)\n",
        "    axes.set_ylim(ylim)\n",
        "    if legend:\n",
        "        axes.legend(legend)\n",
        "    axes.grid()"
      ],
      "execution_count": 80,
      "outputs": []
    },
    {
      "cell_type": "code",
      "metadata": {
        "id": "ucSOAUhk-FOc"
      },
      "source": [
        "#@save\n",
        "def plot(X, Y=None, xlabel=None, ylabel=None, legend=None, xlim=None,\n",
        "         ylim=None, xscale='linear', yscale='linear',\n",
        "         fmts=('-', 'm--', 'g-.', 'r:'), figsize=(3.5, 2.5), axes=None):\n",
        "    \"\"\"Plot data points.\"\"\"\n",
        "    if legend is None:\n",
        "        legend = []\n",
        "\n",
        "    set_figsize(figsize)\n",
        "    axes = axes if axes else d2l.plt.gca()\n",
        "\n",
        "    # Return True if `X` (tensor or list) has 1 axis\n",
        "    def has_one_axis(X):\n",
        "        return (hasattr(X, \"ndim\") and X.ndim == 1 or isinstance(X, list)\n",
        "                and not hasattr(X[0], \"__len__\"))\n",
        "\n",
        "    if has_one_axis(X):\n",
        "        X = [X]\n",
        "    if Y is None:\n",
        "        X, Y = [[]] * len(X), X\n",
        "    elif has_one_axis(Y):\n",
        "        Y = [Y]\n",
        "    if len(X) != len(Y):\n",
        "        X = X * len(Y)\n",
        "    axes.cla()\n",
        "    for x, y, fmt in zip(X, Y, fmts):\n",
        "        if len(x):\n",
        "            axes.plot(x, y, fmt)\n",
        "        else:\n",
        "            axes.plot(y, fmt)\n",
        "    set_axes(axes, xlabel, ylabel, xlim, ylim, xscale, yscale, legend)"
      ],
      "execution_count": 81,
      "outputs": []
    },
    {
      "cell_type": "code",
      "metadata": {
        "colab": {
          "base_uri": "https://localhost:8080/",
          "height": 261
        },
        "id": "WkZc3_P5-IoD",
        "outputId": "1927d889-4c7c-4fa5-af0a-eb3cf4e12c01"
      },
      "source": [
        "x = np.arange(0, 3, 0.1)\n",
        "plot(x, [f(x), 2 * x - 3], 'x', 'f(x)', legend=['f(x)', 'Tangent line (x=1)'])"
      ],
      "execution_count": 82,
      "outputs": [
        {
          "output_type": "display_data",
          "data": {
            "text/plain": [
              "<Figure size 252x180 with 1 Axes>"
            ],
            "image/svg+xml": "<?xml version=\"1.0\" encoding=\"utf-8\" standalone=\"no\"?>\n<!DOCTYPE svg PUBLIC \"-//W3C//DTD SVG 1.1//EN\"\n  \"http://www.w3.org/Graphics/SVG/1.1/DTD/svg11.dtd\">\n<!-- Created with matplotlib (https://matplotlib.org/) -->\n<svg height=\"180.65625pt\" version=\"1.1\" viewBox=\"0 0 243.529359 180.65625\" width=\"243.529359pt\" xmlns=\"http://www.w3.org/2000/svg\" xmlns:xlink=\"http://www.w3.org/1999/xlink\">\n <defs>\n  <style type=\"text/css\">\n*{stroke-linecap:butt;stroke-linejoin:round;}\n  </style>\n </defs>\n <g id=\"figure_1\">\n  <g id=\"patch_1\">\n   <path d=\"M 0 180.65625 \nL 243.529359 180.65625 \nL 243.529359 0 \nL 0 0 \nz\n\" style=\"fill:none;\"/>\n  </g>\n  <g id=\"axes_1\">\n   <g id=\"patch_2\">\n    <path d=\"M 40.603125 143.1 \nL 235.903125 143.1 \nL 235.903125 7.2 \nL 40.603125 7.2 \nz\n\" style=\"fill:#ffffff;\"/>\n   </g>\n   <g id=\"matplotlib.axis_1\">\n    <g id=\"xtick_1\">\n     <g id=\"line2d_1\">\n      <path clip-path=\"url(#p4eea340669)\" d=\"M 49.480398 143.1 \nL 49.480398 7.2 \n\" style=\"fill:none;stroke:#b0b0b0;stroke-linecap:square;stroke-width:0.8;\"/>\n     </g>\n     <g id=\"line2d_2\">\n      <defs>\n       <path d=\"M 0 0 \nL 0 3.5 \n\" id=\"m96c5b31970\" style=\"stroke:#000000;stroke-width:0.8;\"/>\n      </defs>\n      <g>\n       <use style=\"stroke:#000000;stroke-width:0.8;\" x=\"49.480398\" xlink:href=\"#m96c5b31970\" y=\"143.1\"/>\n      </g>\n     </g>\n     <g id=\"text_1\">\n      <!-- 0 -->\n      <defs>\n       <path d=\"M 31.78125 66.40625 \nQ 24.171875 66.40625 20.328125 58.90625 \nQ 16.5 51.421875 16.5 36.375 \nQ 16.5 21.390625 20.328125 13.890625 \nQ 24.171875 6.390625 31.78125 6.390625 \nQ 39.453125 6.390625 43.28125 13.890625 \nQ 47.125 21.390625 47.125 36.375 \nQ 47.125 51.421875 43.28125 58.90625 \nQ 39.453125 66.40625 31.78125 66.40625 \nz\nM 31.78125 74.21875 \nQ 44.046875 74.21875 50.515625 64.515625 \nQ 56.984375 54.828125 56.984375 36.375 \nQ 56.984375 17.96875 50.515625 8.265625 \nQ 44.046875 -1.421875 31.78125 -1.421875 \nQ 19.53125 -1.421875 13.0625 8.265625 \nQ 6.59375 17.96875 6.59375 36.375 \nQ 6.59375 54.828125 13.0625 64.515625 \nQ 19.53125 74.21875 31.78125 74.21875 \nz\n\" id=\"DejaVuSans-48\"/>\n      </defs>\n      <g transform=\"translate(46.299148 157.698438)scale(0.1 -0.1)\">\n       <use xlink:href=\"#DejaVuSans-48\"/>\n      </g>\n     </g>\n    </g>\n    <g id=\"xtick_2\">\n     <g id=\"line2d_3\">\n      <path clip-path=\"url(#p4eea340669)\" d=\"M 110.702968 143.1 \nL 110.702968 7.2 \n\" style=\"fill:none;stroke:#b0b0b0;stroke-linecap:square;stroke-width:0.8;\"/>\n     </g>\n     <g id=\"line2d_4\">\n      <g>\n       <use style=\"stroke:#000000;stroke-width:0.8;\" x=\"110.702968\" xlink:href=\"#m96c5b31970\" y=\"143.1\"/>\n      </g>\n     </g>\n     <g id=\"text_2\">\n      <!-- 1 -->\n      <defs>\n       <path d=\"M 12.40625 8.296875 \nL 28.515625 8.296875 \nL 28.515625 63.921875 \nL 10.984375 60.40625 \nL 10.984375 69.390625 \nL 28.421875 72.90625 \nL 38.28125 72.90625 \nL 38.28125 8.296875 \nL 54.390625 8.296875 \nL 54.390625 0 \nL 12.40625 0 \nz\n\" id=\"DejaVuSans-49\"/>\n      </defs>\n      <g transform=\"translate(107.521718 157.698438)scale(0.1 -0.1)\">\n       <use xlink:href=\"#DejaVuSans-49\"/>\n      </g>\n     </g>\n    </g>\n    <g id=\"xtick_3\">\n     <g id=\"line2d_5\">\n      <path clip-path=\"url(#p4eea340669)\" d=\"M 171.925539 143.1 \nL 171.925539 7.2 \n\" style=\"fill:none;stroke:#b0b0b0;stroke-linecap:square;stroke-width:0.8;\"/>\n     </g>\n     <g id=\"line2d_6\">\n      <g>\n       <use style=\"stroke:#000000;stroke-width:0.8;\" x=\"171.925539\" xlink:href=\"#m96c5b31970\" y=\"143.1\"/>\n      </g>\n     </g>\n     <g id=\"text_3\">\n      <!-- 2 -->\n      <defs>\n       <path d=\"M 19.1875 8.296875 \nL 53.609375 8.296875 \nL 53.609375 0 \nL 7.328125 0 \nL 7.328125 8.296875 \nQ 12.9375 14.109375 22.625 23.890625 \nQ 32.328125 33.6875 34.8125 36.53125 \nQ 39.546875 41.84375 41.421875 45.53125 \nQ 43.3125 49.21875 43.3125 52.78125 \nQ 43.3125 58.59375 39.234375 62.25 \nQ 35.15625 65.921875 28.609375 65.921875 \nQ 23.96875 65.921875 18.8125 64.3125 \nQ 13.671875 62.703125 7.8125 59.421875 \nL 7.8125 69.390625 \nQ 13.765625 71.78125 18.9375 73 \nQ 24.125 74.21875 28.421875 74.21875 \nQ 39.75 74.21875 46.484375 68.546875 \nQ 53.21875 62.890625 53.21875 53.421875 \nQ 53.21875 48.921875 51.53125 44.890625 \nQ 49.859375 40.875 45.40625 35.40625 \nQ 44.1875 33.984375 37.640625 27.21875 \nQ 31.109375 20.453125 19.1875 8.296875 \nz\n\" id=\"DejaVuSans-50\"/>\n      </defs>\n      <g transform=\"translate(168.744289 157.698438)scale(0.1 -0.1)\">\n       <use xlink:href=\"#DejaVuSans-50\"/>\n      </g>\n     </g>\n    </g>\n    <g id=\"xtick_4\">\n     <g id=\"line2d_7\">\n      <path clip-path=\"url(#p4eea340669)\" d=\"M 233.148109 143.1 \nL 233.148109 7.2 \n\" style=\"fill:none;stroke:#b0b0b0;stroke-linecap:square;stroke-width:0.8;\"/>\n     </g>\n     <g id=\"line2d_8\">\n      <g>\n       <use style=\"stroke:#000000;stroke-width:0.8;\" x=\"233.148109\" xlink:href=\"#m96c5b31970\" y=\"143.1\"/>\n      </g>\n     </g>\n     <g id=\"text_4\">\n      <!-- 3 -->\n      <defs>\n       <path d=\"M 40.578125 39.3125 \nQ 47.65625 37.796875 51.625 33 \nQ 55.609375 28.21875 55.609375 21.1875 \nQ 55.609375 10.40625 48.1875 4.484375 \nQ 40.765625 -1.421875 27.09375 -1.421875 \nQ 22.515625 -1.421875 17.65625 -0.515625 \nQ 12.796875 0.390625 7.625 2.203125 \nL 7.625 11.71875 \nQ 11.71875 9.328125 16.59375 8.109375 \nQ 21.484375 6.890625 26.8125 6.890625 \nQ 36.078125 6.890625 40.9375 10.546875 \nQ 45.796875 14.203125 45.796875 21.1875 \nQ 45.796875 27.640625 41.28125 31.265625 \nQ 36.765625 34.90625 28.71875 34.90625 \nL 20.21875 34.90625 \nL 20.21875 43.015625 \nL 29.109375 43.015625 \nQ 36.375 43.015625 40.234375 45.921875 \nQ 44.09375 48.828125 44.09375 54.296875 \nQ 44.09375 59.90625 40.109375 62.90625 \nQ 36.140625 65.921875 28.71875 65.921875 \nQ 24.65625 65.921875 20.015625 65.03125 \nQ 15.375 64.15625 9.8125 62.3125 \nL 9.8125 71.09375 \nQ 15.4375 72.65625 20.34375 73.4375 \nQ 25.25 74.21875 29.59375 74.21875 \nQ 40.828125 74.21875 47.359375 69.109375 \nQ 53.90625 64.015625 53.90625 55.328125 \nQ 53.90625 49.265625 50.4375 45.09375 \nQ 46.96875 40.921875 40.578125 39.3125 \nz\n\" id=\"DejaVuSans-51\"/>\n      </defs>\n      <g transform=\"translate(229.966859 157.698438)scale(0.1 -0.1)\">\n       <use xlink:href=\"#DejaVuSans-51\"/>\n      </g>\n     </g>\n    </g>\n    <g id=\"text_5\">\n     <!-- x -->\n     <defs>\n      <path d=\"M 54.890625 54.6875 \nL 35.109375 28.078125 \nL 55.90625 0 \nL 45.3125 0 \nL 29.390625 21.484375 \nL 13.484375 0 \nL 2.875 0 \nL 24.125 28.609375 \nL 4.6875 54.6875 \nL 15.28125 54.6875 \nL 29.78125 35.203125 \nL 44.28125 54.6875 \nz\n\" id=\"DejaVuSans-120\"/>\n     </defs>\n     <g transform=\"translate(135.29375 171.376563)scale(0.1 -0.1)\">\n      <use xlink:href=\"#DejaVuSans-120\"/>\n     </g>\n    </g>\n   </g>\n   <g id=\"matplotlib.axis_2\">\n    <g id=\"ytick_1\">\n     <g id=\"line2d_9\">\n      <path clip-path=\"url(#p4eea340669)\" d=\"M 40.603125 114.635514 \nL 235.903125 114.635514 \n\" style=\"fill:none;stroke:#b0b0b0;stroke-linecap:square;stroke-width:0.8;\"/>\n     </g>\n     <g id=\"line2d_10\">\n      <defs>\n       <path d=\"M 0 0 \nL -3.5 0 \n\" id=\"m8c6e898df6\" style=\"stroke:#000000;stroke-width:0.8;\"/>\n      </defs>\n      <g>\n       <use style=\"stroke:#000000;stroke-width:0.8;\" x=\"40.603125\" xlink:href=\"#m8c6e898df6\" y=\"114.635514\"/>\n      </g>\n     </g>\n     <g id=\"text_6\">\n      <!-- 0 -->\n      <g transform=\"translate(27.240625 118.434732)scale(0.1 -0.1)\">\n       <use xlink:href=\"#DejaVuSans-48\"/>\n      </g>\n     </g>\n    </g>\n    <g id=\"ytick_2\">\n     <g id=\"line2d_11\">\n      <path clip-path=\"url(#p4eea340669)\" d=\"M 40.603125 77.490157 \nL 235.903125 77.490157 \n\" style=\"fill:none;stroke:#b0b0b0;stroke-linecap:square;stroke-width:0.8;\"/>\n     </g>\n     <g id=\"line2d_12\">\n      <g>\n       <use style=\"stroke:#000000;stroke-width:0.8;\" x=\"40.603125\" xlink:href=\"#m8c6e898df6\" y=\"77.490157\"/>\n      </g>\n     </g>\n     <g id=\"text_7\">\n      <!-- 5 -->\n      <defs>\n       <path d=\"M 10.796875 72.90625 \nL 49.515625 72.90625 \nL 49.515625 64.59375 \nL 19.828125 64.59375 \nL 19.828125 46.734375 \nQ 21.96875 47.46875 24.109375 47.828125 \nQ 26.265625 48.1875 28.421875 48.1875 \nQ 40.625 48.1875 47.75 41.5 \nQ 54.890625 34.8125 54.890625 23.390625 \nQ 54.890625 11.625 47.5625 5.09375 \nQ 40.234375 -1.421875 26.90625 -1.421875 \nQ 22.3125 -1.421875 17.546875 -0.640625 \nQ 12.796875 0.140625 7.71875 1.703125 \nL 7.71875 11.625 \nQ 12.109375 9.234375 16.796875 8.0625 \nQ 21.484375 6.890625 26.703125 6.890625 \nQ 35.15625 6.890625 40.078125 11.328125 \nQ 45.015625 15.765625 45.015625 23.390625 \nQ 45.015625 31 40.078125 35.4375 \nQ 35.15625 39.890625 26.703125 39.890625 \nQ 22.75 39.890625 18.8125 39.015625 \nQ 14.890625 38.140625 10.796875 36.28125 \nz\n\" id=\"DejaVuSans-53\"/>\n      </defs>\n      <g transform=\"translate(27.240625 81.289376)scale(0.1 -0.1)\">\n       <use xlink:href=\"#DejaVuSans-53\"/>\n      </g>\n     </g>\n    </g>\n    <g id=\"ytick_3\">\n     <g id=\"line2d_13\">\n      <path clip-path=\"url(#p4eea340669)\" d=\"M 40.603125 40.344801 \nL 235.903125 40.344801 \n\" style=\"fill:none;stroke:#b0b0b0;stroke-linecap:square;stroke-width:0.8;\"/>\n     </g>\n     <g id=\"line2d_14\">\n      <g>\n       <use style=\"stroke:#000000;stroke-width:0.8;\" x=\"40.603125\" xlink:href=\"#m8c6e898df6\" y=\"40.344801\"/>\n      </g>\n     </g>\n     <g id=\"text_8\">\n      <!-- 10 -->\n      <g transform=\"translate(20.878125 44.14402)scale(0.1 -0.1)\">\n       <use xlink:href=\"#DejaVuSans-49\"/>\n       <use x=\"63.623047\" xlink:href=\"#DejaVuSans-48\"/>\n      </g>\n     </g>\n    </g>\n    <g id=\"text_9\">\n     <!-- f(x) -->\n     <defs>\n      <path d=\"M 37.109375 75.984375 \nL 37.109375 68.5 \nL 28.515625 68.5 \nQ 23.6875 68.5 21.796875 66.546875 \nQ 19.921875 64.59375 19.921875 59.515625 \nL 19.921875 54.6875 \nL 34.71875 54.6875 \nL 34.71875 47.703125 \nL 19.921875 47.703125 \nL 19.921875 0 \nL 10.890625 0 \nL 10.890625 47.703125 \nL 2.296875 47.703125 \nL 2.296875 54.6875 \nL 10.890625 54.6875 \nL 10.890625 58.5 \nQ 10.890625 67.625 15.140625 71.796875 \nQ 19.390625 75.984375 28.609375 75.984375 \nz\n\" id=\"DejaVuSans-102\"/>\n      <path d=\"M 31 75.875 \nQ 24.46875 64.65625 21.28125 53.65625 \nQ 18.109375 42.671875 18.109375 31.390625 \nQ 18.109375 20.125 21.3125 9.0625 \nQ 24.515625 -2 31 -13.1875 \nL 23.1875 -13.1875 \nQ 15.875 -1.703125 12.234375 9.375 \nQ 8.59375 20.453125 8.59375 31.390625 \nQ 8.59375 42.28125 12.203125 53.3125 \nQ 15.828125 64.359375 23.1875 75.875 \nz\n\" id=\"DejaVuSans-40\"/>\n      <path d=\"M 8.015625 75.875 \nL 15.828125 75.875 \nQ 23.140625 64.359375 26.78125 53.3125 \nQ 30.421875 42.28125 30.421875 31.390625 \nQ 30.421875 20.453125 26.78125 9.375 \nQ 23.140625 -1.703125 15.828125 -13.1875 \nL 8.015625 -13.1875 \nQ 14.5 -2 17.703125 9.0625 \nQ 20.90625 20.125 20.90625 31.390625 \nQ 20.90625 42.671875 17.703125 53.65625 \nQ 14.5 64.65625 8.015625 75.875 \nz\n\" id=\"DejaVuSans-41\"/>\n     </defs>\n     <g transform=\"translate(14.798437 83.771094)rotate(-90)scale(0.1 -0.1)\">\n      <use xlink:href=\"#DejaVuSans-102\"/>\n      <use x=\"35.205078\" xlink:href=\"#DejaVuSans-40\"/>\n      <use x=\"74.21875\" xlink:href=\"#DejaVuSans-120\"/>\n      <use x=\"133.398438\" xlink:href=\"#DejaVuSans-41\"/>\n     </g>\n    </g>\n   </g>\n   <g id=\"line2d_15\">\n    <path clip-path=\"url(#p4eea340669)\" d=\"M 49.480398 114.635514 \nL 55.602655 117.38427 \nL 61.724912 119.687282 \nL 67.847169 121.54455 \nL 73.969426 122.956073 \nL 80.091683 123.921853 \nL 86.21394 124.441888 \nL 92.336197 124.516178 \nL 98.458454 124.144725 \nL 104.580711 123.327527 \nL 110.702968 122.064585 \nL 116.825225 120.355898 \nL 122.947482 118.201468 \nL 129.069739 115.601293 \nL 135.191996 112.555374 \nL 141.314254 109.06371 \nL 147.436511 105.126302 \nL 153.558768 100.74315 \nL 159.681025 95.914254 \nL 165.803282 90.639614 \nL 171.925539 84.919229 \nL 178.047796 78.7531 \nL 184.170053 72.141226 \nL 190.29231 65.083608 \nL 196.414567 57.580247 \nL 202.536824 49.63114 \nL 208.659081 41.23629 \nL 214.781338 32.395695 \nL 220.903595 23.109356 \nL 227.025852 13.377273 \n\" style=\"fill:none;stroke:#1f77b4;stroke-linecap:square;stroke-width:1.5;\"/>\n   </g>\n   <g id=\"line2d_16\">\n    <path clip-path=\"url(#p4eea340669)\" d=\"M 49.480398 136.922727 \nL 55.602655 135.436913 \nL 61.724912 133.951099 \nL 67.847169 132.465285 \nL 73.969426 130.97947 \nL 80.091683 129.493656 \nL 86.21394 128.007842 \nL 92.336197 126.522028 \nL 98.458454 125.036213 \nL 104.580711 123.550399 \nL 110.702968 122.064585 \nL 116.825225 120.578771 \nL 122.947482 119.092956 \nL 129.069739 117.607142 \nL 135.191996 116.121328 \nL 141.314254 114.635514 \nL 147.436511 113.149699 \nL 153.558768 111.663885 \nL 159.681025 110.178071 \nL 165.803282 108.692257 \nL 171.925539 107.206442 \nL 178.047796 105.720628 \nL 184.170053 104.234814 \nL 190.29231 102.749 \nL 196.414567 101.263185 \nL 202.536824 99.777371 \nL 208.659081 98.291557 \nL 214.781338 96.805743 \nL 220.903595 95.319928 \nL 227.025852 93.834114 \n\" style=\"fill:none;stroke:#bf00bf;stroke-dasharray:5.55,2.4;stroke-dashoffset:0;stroke-width:1.5;\"/>\n   </g>\n   <g id=\"patch_3\">\n    <path d=\"M 40.603125 143.1 \nL 40.603125 7.2 \n\" style=\"fill:none;stroke:#000000;stroke-linecap:square;stroke-linejoin:miter;stroke-width:0.8;\"/>\n   </g>\n   <g id=\"patch_4\">\n    <path d=\"M 235.903125 143.1 \nL 235.903125 7.2 \n\" style=\"fill:none;stroke:#000000;stroke-linecap:square;stroke-linejoin:miter;stroke-width:0.8;\"/>\n   </g>\n   <g id=\"patch_5\">\n    <path d=\"M 40.603125 143.1 \nL 235.903125 143.1 \n\" style=\"fill:none;stroke:#000000;stroke-linecap:square;stroke-linejoin:miter;stroke-width:0.8;\"/>\n   </g>\n   <g id=\"patch_6\">\n    <path d=\"M 40.603125 7.2 \nL 235.903125 7.2 \n\" style=\"fill:none;stroke:#000000;stroke-linecap:square;stroke-linejoin:miter;stroke-width:0.8;\"/>\n   </g>\n   <g id=\"legend_1\">\n    <g id=\"patch_7\">\n     <path d=\"M 47.603125 44.55625 \nL 172.153125 44.55625 \nQ 174.153125 44.55625 174.153125 42.55625 \nL 174.153125 14.2 \nQ 174.153125 12.2 172.153125 12.2 \nL 47.603125 12.2 \nQ 45.603125 12.2 45.603125 14.2 \nL 45.603125 42.55625 \nQ 45.603125 44.55625 47.603125 44.55625 \nz\n\" style=\"fill:#ffffff;opacity:0.8;stroke:#cccccc;stroke-linejoin:miter;\"/>\n    </g>\n    <g id=\"line2d_17\">\n     <path d=\"M 49.603125 20.298437 \nL 69.603125 20.298437 \n\" style=\"fill:none;stroke:#1f77b4;stroke-linecap:square;stroke-width:1.5;\"/>\n    </g>\n    <g id=\"line2d_18\"/>\n    <g id=\"text_10\">\n     <!-- f(x) -->\n     <g transform=\"translate(77.603125 23.798437)scale(0.1 -0.1)\">\n      <use xlink:href=\"#DejaVuSans-102\"/>\n      <use x=\"35.205078\" xlink:href=\"#DejaVuSans-40\"/>\n      <use x=\"74.21875\" xlink:href=\"#DejaVuSans-120\"/>\n      <use x=\"133.398438\" xlink:href=\"#DejaVuSans-41\"/>\n     </g>\n    </g>\n    <g id=\"line2d_19\">\n     <path d=\"M 49.603125 34.976562 \nL 69.603125 34.976562 \n\" style=\"fill:none;stroke:#bf00bf;stroke-dasharray:5.55,2.4;stroke-dashoffset:0;stroke-width:1.5;\"/>\n    </g>\n    <g id=\"line2d_20\"/>\n    <g id=\"text_11\">\n     <!-- Tangent line (x=1) -->\n     <defs>\n      <path d=\"M -0.296875 72.90625 \nL 61.375 72.90625 \nL 61.375 64.59375 \nL 35.5 64.59375 \nL 35.5 0 \nL 25.59375 0 \nL 25.59375 64.59375 \nL -0.296875 64.59375 \nz\n\" id=\"DejaVuSans-84\"/>\n      <path d=\"M 34.28125 27.484375 \nQ 23.390625 27.484375 19.1875 25 \nQ 14.984375 22.515625 14.984375 16.5 \nQ 14.984375 11.71875 18.140625 8.90625 \nQ 21.296875 6.109375 26.703125 6.109375 \nQ 34.1875 6.109375 38.703125 11.40625 \nQ 43.21875 16.703125 43.21875 25.484375 \nL 43.21875 27.484375 \nz\nM 52.203125 31.203125 \nL 52.203125 0 \nL 43.21875 0 \nL 43.21875 8.296875 \nQ 40.140625 3.328125 35.546875 0.953125 \nQ 30.953125 -1.421875 24.3125 -1.421875 \nQ 15.921875 -1.421875 10.953125 3.296875 \nQ 6 8.015625 6 15.921875 \nQ 6 25.140625 12.171875 29.828125 \nQ 18.359375 34.515625 30.609375 34.515625 \nL 43.21875 34.515625 \nL 43.21875 35.40625 \nQ 43.21875 41.609375 39.140625 45 \nQ 35.0625 48.390625 27.6875 48.390625 \nQ 23 48.390625 18.546875 47.265625 \nQ 14.109375 46.140625 10.015625 43.890625 \nL 10.015625 52.203125 \nQ 14.9375 54.109375 19.578125 55.046875 \nQ 24.21875 56 28.609375 56 \nQ 40.484375 56 46.34375 49.84375 \nQ 52.203125 43.703125 52.203125 31.203125 \nz\n\" id=\"DejaVuSans-97\"/>\n      <path d=\"M 54.890625 33.015625 \nL 54.890625 0 \nL 45.90625 0 \nL 45.90625 32.71875 \nQ 45.90625 40.484375 42.875 44.328125 \nQ 39.84375 48.1875 33.796875 48.1875 \nQ 26.515625 48.1875 22.3125 43.546875 \nQ 18.109375 38.921875 18.109375 30.90625 \nL 18.109375 0 \nL 9.078125 0 \nL 9.078125 54.6875 \nL 18.109375 54.6875 \nL 18.109375 46.1875 \nQ 21.34375 51.125 25.703125 53.5625 \nQ 30.078125 56 35.796875 56 \nQ 45.21875 56 50.046875 50.171875 \nQ 54.890625 44.34375 54.890625 33.015625 \nz\n\" id=\"DejaVuSans-110\"/>\n      <path d=\"M 45.40625 27.984375 \nQ 45.40625 37.75 41.375 43.109375 \nQ 37.359375 48.484375 30.078125 48.484375 \nQ 22.859375 48.484375 18.828125 43.109375 \nQ 14.796875 37.75 14.796875 27.984375 \nQ 14.796875 18.265625 18.828125 12.890625 \nQ 22.859375 7.515625 30.078125 7.515625 \nQ 37.359375 7.515625 41.375 12.890625 \nQ 45.40625 18.265625 45.40625 27.984375 \nz\nM 54.390625 6.78125 \nQ 54.390625 -7.171875 48.1875 -13.984375 \nQ 42 -20.796875 29.203125 -20.796875 \nQ 24.46875 -20.796875 20.265625 -20.09375 \nQ 16.0625 -19.390625 12.109375 -17.921875 \nL 12.109375 -9.1875 \nQ 16.0625 -11.328125 19.921875 -12.34375 \nQ 23.78125 -13.375 27.78125 -13.375 \nQ 36.625 -13.375 41.015625 -8.765625 \nQ 45.40625 -4.15625 45.40625 5.171875 \nL 45.40625 9.625 \nQ 42.625 4.78125 38.28125 2.390625 \nQ 33.9375 0 27.875 0 \nQ 17.828125 0 11.671875 7.65625 \nQ 5.515625 15.328125 5.515625 27.984375 \nQ 5.515625 40.671875 11.671875 48.328125 \nQ 17.828125 56 27.875 56 \nQ 33.9375 56 38.28125 53.609375 \nQ 42.625 51.21875 45.40625 46.390625 \nL 45.40625 54.6875 \nL 54.390625 54.6875 \nz\n\" id=\"DejaVuSans-103\"/>\n      <path d=\"M 56.203125 29.59375 \nL 56.203125 25.203125 \nL 14.890625 25.203125 \nQ 15.484375 15.921875 20.484375 11.0625 \nQ 25.484375 6.203125 34.421875 6.203125 \nQ 39.59375 6.203125 44.453125 7.46875 \nQ 49.3125 8.734375 54.109375 11.28125 \nL 54.109375 2.78125 \nQ 49.265625 0.734375 44.1875 -0.34375 \nQ 39.109375 -1.421875 33.890625 -1.421875 \nQ 20.796875 -1.421875 13.15625 6.1875 \nQ 5.515625 13.8125 5.515625 26.8125 \nQ 5.515625 40.234375 12.765625 48.109375 \nQ 20.015625 56 32.328125 56 \nQ 43.359375 56 49.78125 48.890625 \nQ 56.203125 41.796875 56.203125 29.59375 \nz\nM 47.21875 32.234375 \nQ 47.125 39.59375 43.09375 43.984375 \nQ 39.0625 48.390625 32.421875 48.390625 \nQ 24.90625 48.390625 20.390625 44.140625 \nQ 15.875 39.890625 15.1875 32.171875 \nz\n\" id=\"DejaVuSans-101\"/>\n      <path d=\"M 18.3125 70.21875 \nL 18.3125 54.6875 \nL 36.8125 54.6875 \nL 36.8125 47.703125 \nL 18.3125 47.703125 \nL 18.3125 18.015625 \nQ 18.3125 11.328125 20.140625 9.421875 \nQ 21.96875 7.515625 27.59375 7.515625 \nL 36.8125 7.515625 \nL 36.8125 0 \nL 27.59375 0 \nQ 17.1875 0 13.234375 3.875 \nQ 9.28125 7.765625 9.28125 18.015625 \nL 9.28125 47.703125 \nL 2.6875 47.703125 \nL 2.6875 54.6875 \nL 9.28125 54.6875 \nL 9.28125 70.21875 \nz\n\" id=\"DejaVuSans-116\"/>\n      <path id=\"DejaVuSans-32\"/>\n      <path d=\"M 9.421875 75.984375 \nL 18.40625 75.984375 \nL 18.40625 0 \nL 9.421875 0 \nz\n\" id=\"DejaVuSans-108\"/>\n      <path d=\"M 9.421875 54.6875 \nL 18.40625 54.6875 \nL 18.40625 0 \nL 9.421875 0 \nz\nM 9.421875 75.984375 \nL 18.40625 75.984375 \nL 18.40625 64.59375 \nL 9.421875 64.59375 \nz\n\" id=\"DejaVuSans-105\"/>\n      <path d=\"M 10.59375 45.40625 \nL 73.1875 45.40625 \nL 73.1875 37.203125 \nL 10.59375 37.203125 \nz\nM 10.59375 25.484375 \nL 73.1875 25.484375 \nL 73.1875 17.1875 \nL 10.59375 17.1875 \nz\n\" id=\"DejaVuSans-61\"/>\n     </defs>\n     <g transform=\"translate(77.603125 38.476562)scale(0.1 -0.1)\">\n      <use xlink:href=\"#DejaVuSans-84\"/>\n      <use x=\"44.583984\" xlink:href=\"#DejaVuSans-97\"/>\n      <use x=\"105.863281\" xlink:href=\"#DejaVuSans-110\"/>\n      <use x=\"169.242188\" xlink:href=\"#DejaVuSans-103\"/>\n      <use x=\"232.71875\" xlink:href=\"#DejaVuSans-101\"/>\n      <use x=\"294.242188\" xlink:href=\"#DejaVuSans-110\"/>\n      <use x=\"357.621094\" xlink:href=\"#DejaVuSans-116\"/>\n      <use x=\"396.830078\" xlink:href=\"#DejaVuSans-32\"/>\n      <use x=\"428.617188\" xlink:href=\"#DejaVuSans-108\"/>\n      <use x=\"456.400391\" xlink:href=\"#DejaVuSans-105\"/>\n      <use x=\"484.183594\" xlink:href=\"#DejaVuSans-110\"/>\n      <use x=\"547.5625\" xlink:href=\"#DejaVuSans-101\"/>\n      <use x=\"609.085938\" xlink:href=\"#DejaVuSans-32\"/>\n      <use x=\"640.873047\" xlink:href=\"#DejaVuSans-40\"/>\n      <use x=\"679.886719\" xlink:href=\"#DejaVuSans-120\"/>\n      <use x=\"739.066406\" xlink:href=\"#DejaVuSans-61\"/>\n      <use x=\"822.855469\" xlink:href=\"#DejaVuSans-49\"/>\n      <use x=\"886.478516\" xlink:href=\"#DejaVuSans-41\"/>\n     </g>\n    </g>\n   </g>\n  </g>\n </g>\n <defs>\n  <clipPath id=\"p4eea340669\">\n   <rect height=\"135.9\" width=\"195.3\" x=\"40.603125\" y=\"7.2\"/>\n  </clipPath>\n </defs>\n</svg>\n"
          },
          "metadata": {
            "tags": [],
            "needs_background": "light"
          }
        }
      ]
    },
    {
      "cell_type": "markdown",
      "metadata": {
        "id": "_2sIkzhs-la4"
      },
      "source": [
        "#2.5 Automatic Differentiation"
      ]
    },
    {
      "cell_type": "code",
      "metadata": {
        "id": "Tg16Z7eH-MDy"
      },
      "source": [
        "import torch"
      ],
      "execution_count": 83,
      "outputs": []
    },
    {
      "cell_type": "code",
      "metadata": {
        "colab": {
          "base_uri": "https://localhost:8080/"
        },
        "id": "PMPy9r7p_Pd_",
        "outputId": "386c922f-5d6e-4b2b-d2e1-e1b41dfa0e42"
      },
      "source": [
        "x=torch.arange(4.0)\n",
        "x"
      ],
      "execution_count": 93,
      "outputs": [
        {
          "output_type": "execute_result",
          "data": {
            "text/plain": [
              "tensor([0., 1., 2., 3.])"
            ]
          },
          "metadata": {
            "tags": []
          },
          "execution_count": 93
        }
      ]
    },
    {
      "cell_type": "code",
      "metadata": {
        "id": "AJJxfLPY_TuV"
      },
      "source": [
        "x.requires_grad_(True) #이 tensor에서 이뤄지는 모든 연산을 추적함\n",
        "x.grad "
      ],
      "execution_count": 94,
      "outputs": []
    },
    {
      "cell_type": "code",
      "metadata": {
        "colab": {
          "base_uri": "https://localhost:8080/"
        },
        "id": "REVwE-83A1RI",
        "outputId": "262c838a-e3d5-4997-fffc-2bb2617527b3"
      },
      "source": [
        "y=2*torch.dot(x,x)\n",
        "y"
      ],
      "execution_count": 95,
      "outputs": [
        {
          "output_type": "execute_result",
          "data": {
            "text/plain": [
              "tensor(28., grad_fn=<MulBackward0>)"
            ]
          },
          "metadata": {
            "tags": []
          },
          "execution_count": 95
        }
      ]
    },
    {
      "cell_type": "code",
      "metadata": {
        "colab": {
          "base_uri": "https://localhost:8080/"
        },
        "id": "5-fvZxw-A6os",
        "outputId": "cbaa514f-5688-447c-a35d-9632fb922db6"
      },
      "source": [
        "y.backward() #자동 미분 수행\n",
        "x.grad"
      ],
      "execution_count": 96,
      "outputs": [
        {
          "output_type": "execute_result",
          "data": {
            "text/plain": [
              "tensor([ 0.,  4.,  8., 12.])"
            ]
          },
          "metadata": {
            "tags": []
          },
          "execution_count": 96
        }
      ]
    },
    {
      "cell_type": "code",
      "metadata": {
        "colab": {
          "base_uri": "https://localhost:8080/"
        },
        "id": "sZkTA8nOBOvF",
        "outputId": "d2a6c57b-5c65-4f17-d2bb-4e0fc1a03586"
      },
      "source": [
        "x.grad==4*x"
      ],
      "execution_count": 97,
      "outputs": [
        {
          "output_type": "execute_result",
          "data": {
            "text/plain": [
              "tensor([True, True, True, True])"
            ]
          },
          "metadata": {
            "tags": []
          },
          "execution_count": 97
        }
      ]
    },
    {
      "cell_type": "code",
      "metadata": {
        "colab": {
          "base_uri": "https://localhost:8080/"
        },
        "id": "gVxMHcJNCCyl",
        "outputId": "b458cf0e-ea51-4db0-cced-7de32f7f6806"
      },
      "source": [
        "x.grad.zero_() #초기화\n",
        "y = x.sum()\n",
        "y.backward()\n",
        "x.grad"
      ],
      "execution_count": 98,
      "outputs": [
        {
          "output_type": "execute_result",
          "data": {
            "text/plain": [
              "tensor([1., 1., 1., 1.])"
            ]
          },
          "metadata": {
            "tags": []
          },
          "execution_count": 98
        }
      ]
    },
    {
      "cell_type": "code",
      "metadata": {
        "colab": {
          "base_uri": "https://localhost:8080/"
        },
        "id": "T4MOlTwUC1T3",
        "outputId": "5b173714-307a-4969-d5b4-7e80517f0436"
      },
      "source": [
        "x.grad.zero_()\n",
        "y=x*x\n",
        "y.sum().backward()\n",
        "x.grad"
      ],
      "execution_count": 99,
      "outputs": [
        {
          "output_type": "execute_result",
          "data": {
            "text/plain": [
              "tensor([0., 2., 4., 6.])"
            ]
          },
          "metadata": {
            "tags": []
          },
          "execution_count": 99
        }
      ]
    },
    {
      "cell_type": "code",
      "metadata": {
        "colab": {
          "base_uri": "https://localhost:8080/"
        },
        "id": "Z31zYwZGEY1E",
        "outputId": "3e86910d-cb84-4404-d12d-c9eb959dd5cb"
      },
      "source": [
        "x.grad.zero_()\n",
        "y = x * x\n",
        "u = y.detach()\n",
        "z = u * x\n",
        "\n",
        "z.sum().backward()\n",
        "x.grad == u"
      ],
      "execution_count": 100,
      "outputs": [
        {
          "output_type": "execute_result",
          "data": {
            "text/plain": [
              "tensor([True, True, True, True])"
            ]
          },
          "metadata": {
            "tags": []
          },
          "execution_count": 100
        }
      ]
    },
    {
      "cell_type": "code",
      "metadata": {
        "colab": {
          "base_uri": "https://localhost:8080/"
        },
        "id": "vpydlu41F942",
        "outputId": "a735e414-66dc-4da8-884e-6600934afcf1"
      },
      "source": [
        "x.grad.zero_()\n",
        "y.sum().backward()\n",
        "x.grad == 2 * x"
      ],
      "execution_count": 101,
      "outputs": [
        {
          "output_type": "execute_result",
          "data": {
            "text/plain": [
              "tensor([True, True, True, True])"
            ]
          },
          "metadata": {
            "tags": []
          },
          "execution_count": 101
        }
      ]
    },
    {
      "cell_type": "code",
      "metadata": {
        "id": "2k2z1h1FGCVQ"
      },
      "source": [
        "def f(a):\n",
        "    b = a * 2\n",
        "    while b.norm() < 1000:\n",
        "        b = b * 2\n",
        "    if b.sum() > 0:\n",
        "        c = b\n",
        "    else:\n",
        "        c = 100 * b\n",
        "    return c"
      ],
      "execution_count": 102,
      "outputs": []
    },
    {
      "cell_type": "code",
      "metadata": {
        "id": "XAgaQZWCGZrT"
      },
      "source": [
        "a = torch.randn(size=(), requires_grad=True)\n",
        "d = f(a)\n",
        "d.backward()"
      ],
      "execution_count": 103,
      "outputs": []
    },
    {
      "cell_type": "code",
      "metadata": {
        "colab": {
          "base_uri": "https://localhost:8080/"
        },
        "id": "A--ufvD6GdNP",
        "outputId": "561cdc80-e708-43f9-8349-9afe434cdcb8"
      },
      "source": [
        "a.grad == d / a"
      ],
      "execution_count": 104,
      "outputs": [
        {
          "output_type": "execute_result",
          "data": {
            "text/plain": [
              "tensor(True)"
            ]
          },
          "metadata": {
            "tags": []
          },
          "execution_count": 104
        }
      ]
    },
    {
      "cell_type": "markdown",
      "metadata": {
        "id": "_eZvA0FDB3lv"
      },
      "source": [
        "#2.6 Probability"
      ]
    },
    {
      "cell_type": "code",
      "metadata": {
        "colab": {
          "base_uri": "https://localhost:8080/"
        },
        "id": "-ag74Yk1EM9V",
        "outputId": "a584a389-35ca-4ce9-aa39-42f7929fc05c"
      },
      "source": [
        "!pip install d2l==0.16.2"
      ],
      "execution_count": 2,
      "outputs": [
        {
          "output_type": "stream",
          "text": [
            "Collecting d2l==0.16.2\n",
            "\u001b[?25l  Downloading https://files.pythonhosted.org/packages/d0/1f/13de7e8cafaba15739caee0596032412aaf51a22726649b317bdb53c4f9a/d2l-0.16.2-py3-none-any.whl (77kB)\n",
            "\r\u001b[K     |████▎                           | 10kB 14.3MB/s eta 0:00:01\r\u001b[K     |████████▌                       | 20kB 12.6MB/s eta 0:00:01\r\u001b[K     |████████████▊                   | 30kB 8.8MB/s eta 0:00:01\r\u001b[K     |█████████████████               | 40kB 7.2MB/s eta 0:00:01\r\u001b[K     |█████████████████████▏          | 51kB 4.5MB/s eta 0:00:01\r\u001b[K     |█████████████████████████▌      | 61kB 5.1MB/s eta 0:00:01\r\u001b[K     |█████████████████████████████▊  | 71kB 5.1MB/s eta 0:00:01\r\u001b[K     |████████████████████████████████| 81kB 3.4MB/s \n",
            "\u001b[?25hRequirement already satisfied: numpy in /usr/local/lib/python3.7/dist-packages (from d2l==0.16.2) (1.19.5)\n",
            "Requirement already satisfied: requests in /usr/local/lib/python3.7/dist-packages (from d2l==0.16.2) (2.23.0)\n",
            "Requirement already satisfied: jupyter in /usr/local/lib/python3.7/dist-packages (from d2l==0.16.2) (1.0.0)\n",
            "Requirement already satisfied: pandas in /usr/local/lib/python3.7/dist-packages (from d2l==0.16.2) (1.1.5)\n",
            "Requirement already satisfied: matplotlib in /usr/local/lib/python3.7/dist-packages (from d2l==0.16.2) (3.2.2)\n",
            "Requirement already satisfied: certifi>=2017.4.17 in /usr/local/lib/python3.7/dist-packages (from requests->d2l==0.16.2) (2020.12.5)\n",
            "Requirement already satisfied: urllib3!=1.25.0,!=1.25.1,<1.26,>=1.21.1 in /usr/local/lib/python3.7/dist-packages (from requests->d2l==0.16.2) (1.24.3)\n",
            "Requirement already satisfied: chardet<4,>=3.0.2 in /usr/local/lib/python3.7/dist-packages (from requests->d2l==0.16.2) (3.0.4)\n",
            "Requirement already satisfied: idna<3,>=2.5 in /usr/local/lib/python3.7/dist-packages (from requests->d2l==0.16.2) (2.10)\n",
            "Requirement already satisfied: notebook in /usr/local/lib/python3.7/dist-packages (from jupyter->d2l==0.16.2) (5.3.1)\n",
            "Requirement already satisfied: ipywidgets in /usr/local/lib/python3.7/dist-packages (from jupyter->d2l==0.16.2) (7.6.3)\n",
            "Requirement already satisfied: jupyter-console in /usr/local/lib/python3.7/dist-packages (from jupyter->d2l==0.16.2) (5.2.0)\n",
            "Requirement already satisfied: nbconvert in /usr/local/lib/python3.7/dist-packages (from jupyter->d2l==0.16.2) (5.6.1)\n",
            "Requirement already satisfied: ipykernel in /usr/local/lib/python3.7/dist-packages (from jupyter->d2l==0.16.2) (4.10.1)\n",
            "Requirement already satisfied: qtconsole in /usr/local/lib/python3.7/dist-packages (from jupyter->d2l==0.16.2) (5.0.3)\n",
            "Requirement already satisfied: python-dateutil>=2.7.3 in /usr/local/lib/python3.7/dist-packages (from pandas->d2l==0.16.2) (2.8.1)\n",
            "Requirement already satisfied: pytz>=2017.2 in /usr/local/lib/python3.7/dist-packages (from pandas->d2l==0.16.2) (2018.9)\n",
            "Requirement already satisfied: pyparsing!=2.0.4,!=2.1.2,!=2.1.6,>=2.0.1 in /usr/local/lib/python3.7/dist-packages (from matplotlib->d2l==0.16.2) (2.4.7)\n",
            "Requirement already satisfied: kiwisolver>=1.0.1 in /usr/local/lib/python3.7/dist-packages (from matplotlib->d2l==0.16.2) (1.3.1)\n",
            "Requirement already satisfied: cycler>=0.10 in /usr/local/lib/python3.7/dist-packages (from matplotlib->d2l==0.16.2) (0.10.0)\n",
            "Requirement already satisfied: terminado>=0.8.1 in /usr/local/lib/python3.7/dist-packages (from notebook->jupyter->d2l==0.16.2) (0.9.2)\n",
            "Requirement already satisfied: nbformat in /usr/local/lib/python3.7/dist-packages (from notebook->jupyter->d2l==0.16.2) (5.1.2)\n",
            "Requirement already satisfied: Send2Trash in /usr/local/lib/python3.7/dist-packages (from notebook->jupyter->d2l==0.16.2) (1.5.0)\n",
            "Requirement already satisfied: traitlets>=4.2.1 in /usr/local/lib/python3.7/dist-packages (from notebook->jupyter->d2l==0.16.2) (5.0.5)\n",
            "Requirement already satisfied: jupyter-core>=4.4.0 in /usr/local/lib/python3.7/dist-packages (from notebook->jupyter->d2l==0.16.2) (4.7.1)\n",
            "Requirement already satisfied: jupyter-client>=5.2.0 in /usr/local/lib/python3.7/dist-packages (from notebook->jupyter->d2l==0.16.2) (5.3.5)\n",
            "Requirement already satisfied: jinja2 in /usr/local/lib/python3.7/dist-packages (from notebook->jupyter->d2l==0.16.2) (2.11.3)\n",
            "Requirement already satisfied: ipython-genutils in /usr/local/lib/python3.7/dist-packages (from notebook->jupyter->d2l==0.16.2) (0.2.0)\n",
            "Requirement already satisfied: tornado>=4 in /usr/local/lib/python3.7/dist-packages (from notebook->jupyter->d2l==0.16.2) (5.1.1)\n",
            "Requirement already satisfied: ipython>=4.0.0; python_version >= \"3.3\" in /usr/local/lib/python3.7/dist-packages (from ipywidgets->jupyter->d2l==0.16.2) (5.5.0)\n",
            "Requirement already satisfied: widgetsnbextension~=3.5.0 in /usr/local/lib/python3.7/dist-packages (from ipywidgets->jupyter->d2l==0.16.2) (3.5.1)\n",
            "Requirement already satisfied: jupyterlab-widgets>=1.0.0; python_version >= \"3.6\" in /usr/local/lib/python3.7/dist-packages (from ipywidgets->jupyter->d2l==0.16.2) (1.0.0)\n",
            "Requirement already satisfied: pygments in /usr/local/lib/python3.7/dist-packages (from jupyter-console->jupyter->d2l==0.16.2) (2.6.1)\n",
            "Requirement already satisfied: prompt-toolkit<2.0.0,>=1.0.0 in /usr/local/lib/python3.7/dist-packages (from jupyter-console->jupyter->d2l==0.16.2) (1.0.18)\n",
            "Requirement already satisfied: mistune<2,>=0.8.1 in /usr/local/lib/python3.7/dist-packages (from nbconvert->jupyter->d2l==0.16.2) (0.8.4)\n",
            "Requirement already satisfied: entrypoints>=0.2.2 in /usr/local/lib/python3.7/dist-packages (from nbconvert->jupyter->d2l==0.16.2) (0.3)\n",
            "Requirement already satisfied: bleach in /usr/local/lib/python3.7/dist-packages (from nbconvert->jupyter->d2l==0.16.2) (3.3.0)\n",
            "Requirement already satisfied: defusedxml in /usr/local/lib/python3.7/dist-packages (from nbconvert->jupyter->d2l==0.16.2) (0.7.1)\n",
            "Requirement already satisfied: testpath in /usr/local/lib/python3.7/dist-packages (from nbconvert->jupyter->d2l==0.16.2) (0.4.4)\n",
            "Requirement already satisfied: pandocfilters>=1.4.1 in /usr/local/lib/python3.7/dist-packages (from nbconvert->jupyter->d2l==0.16.2) (1.4.3)\n",
            "Requirement already satisfied: qtpy in /usr/local/lib/python3.7/dist-packages (from qtconsole->jupyter->d2l==0.16.2) (1.9.0)\n",
            "Requirement already satisfied: pyzmq>=17.1 in /usr/local/lib/python3.7/dist-packages (from qtconsole->jupyter->d2l==0.16.2) (22.0.3)\n",
            "Requirement already satisfied: six>=1.5 in /usr/local/lib/python3.7/dist-packages (from python-dateutil>=2.7.3->pandas->d2l==0.16.2) (1.15.0)\n",
            "Requirement already satisfied: ptyprocess; os_name != \"nt\" in /usr/local/lib/python3.7/dist-packages (from terminado>=0.8.1->notebook->jupyter->d2l==0.16.2) (0.7.0)\n",
            "Requirement already satisfied: jsonschema!=2.5.0,>=2.4 in /usr/local/lib/python3.7/dist-packages (from nbformat->notebook->jupyter->d2l==0.16.2) (2.6.0)\n",
            "Requirement already satisfied: MarkupSafe>=0.23 in /usr/local/lib/python3.7/dist-packages (from jinja2->notebook->jupyter->d2l==0.16.2) (1.1.1)\n",
            "Requirement already satisfied: simplegeneric>0.8 in /usr/local/lib/python3.7/dist-packages (from ipython>=4.0.0; python_version >= \"3.3\"->ipywidgets->jupyter->d2l==0.16.2) (0.8.1)\n",
            "Requirement already satisfied: setuptools>=18.5 in /usr/local/lib/python3.7/dist-packages (from ipython>=4.0.0; python_version >= \"3.3\"->ipywidgets->jupyter->d2l==0.16.2) (54.1.2)\n",
            "Requirement already satisfied: pickleshare in /usr/local/lib/python3.7/dist-packages (from ipython>=4.0.0; python_version >= \"3.3\"->ipywidgets->jupyter->d2l==0.16.2) (0.7.5)\n",
            "Requirement already satisfied: decorator in /usr/local/lib/python3.7/dist-packages (from ipython>=4.0.0; python_version >= \"3.3\"->ipywidgets->jupyter->d2l==0.16.2) (4.4.2)\n",
            "Requirement already satisfied: pexpect; sys_platform != \"win32\" in /usr/local/lib/python3.7/dist-packages (from ipython>=4.0.0; python_version >= \"3.3\"->ipywidgets->jupyter->d2l==0.16.2) (4.8.0)\n",
            "Requirement already satisfied: wcwidth in /usr/local/lib/python3.7/dist-packages (from prompt-toolkit<2.0.0,>=1.0.0->jupyter-console->jupyter->d2l==0.16.2) (0.2.5)\n",
            "Requirement already satisfied: packaging in /usr/local/lib/python3.7/dist-packages (from bleach->nbconvert->jupyter->d2l==0.16.2) (20.9)\n",
            "Requirement already satisfied: webencodings in /usr/local/lib/python3.7/dist-packages (from bleach->nbconvert->jupyter->d2l==0.16.2) (0.5.1)\n",
            "Installing collected packages: d2l\n",
            "Successfully installed d2l-0.16.2\n"
          ],
          "name": "stdout"
        }
      ]
    },
    {
      "cell_type": "code",
      "metadata": {
        "id": "__KzFocNGhFB"
      },
      "source": [
        "%matplotlib inline\n",
        "import torch\n",
        "from torch.distributions import multinomial\n",
        "from d2l import torch as d2l"
      ],
      "execution_count": 3,
      "outputs": []
    },
    {
      "cell_type": "code",
      "metadata": {
        "colab": {
          "base_uri": "https://localhost:8080/"
        },
        "id": "MFPg7w45EAhb",
        "outputId": "0484c33a-d08c-4e3e-e0ab-d8ff83625c37"
      },
      "source": [
        "fair_probs = torch.ones([6]) / 6\n",
        "multinomial.Multinomial(1, fair_probs).sample()"
      ],
      "execution_count": 4,
      "outputs": [
        {
          "output_type": "execute_result",
          "data": {
            "text/plain": [
              "tensor([1., 0., 0., 0., 0., 0.])"
            ]
          },
          "metadata": {
            "tags": []
          },
          "execution_count": 4
        }
      ]
    },
    {
      "cell_type": "code",
      "metadata": {
        "colab": {
          "base_uri": "https://localhost:8080/"
        },
        "id": "ohGjZUymFQ7O",
        "outputId": "addf3119-12c1-4b3d-cd6f-fc6a17f0ec4d"
      },
      "source": [
        "multinomial.Multinomial(10, fair_probs).sample()\n",
        "#fait_probs의 probability를 가질 때 각 숫자(1~6)이 몇번 나왔는지"
      ],
      "execution_count": 7,
      "outputs": [
        {
          "output_type": "execute_result",
          "data": {
            "text/plain": [
              "tensor([1., 3., 2., 0., 4., 0.])"
            ]
          },
          "metadata": {
            "tags": []
          },
          "execution_count": 7
        }
      ]
    },
    {
      "cell_type": "code",
      "metadata": {
        "colab": {
          "base_uri": "https://localhost:8080/"
        },
        "id": "sohWGm-0F8pn",
        "outputId": "50720efb-f6a8-4f3a-ce55-4ab75a27822a"
      },
      "source": [
        "counts = multinomial.Multinomial(1000, fair_probs).sample()\n",
        "counts / 1000  # 1000번의 시도에서 상대적 빈도를 측정 1/6=0.167"
      ],
      "execution_count": 9,
      "outputs": [
        {
          "output_type": "execute_result",
          "data": {
            "text/plain": [
              "tensor([0.1570, 0.1650, 0.1530, 0.1670, 0.1730, 0.1850])"
            ]
          },
          "metadata": {
            "tags": []
          },
          "execution_count": 9
        }
      ]
    },
    {
      "cell_type": "code",
      "metadata": {
        "colab": {
          "base_uri": "https://localhost:8080/",
          "height": 405
        },
        "id": "2yOm9EAHHaO6",
        "outputId": "6b791619-1372-4782-9002-9df25844efa4"
      },
      "source": [
        "counts = multinomial.Multinomial(10, fair_probs).sample((500,)) \n",
        "#10개의 sample을 가지는 500개의 group\n",
        "cum_counts = counts.cumsum(dim=0)\n",
        "estimates = cum_counts / cum_counts.sum(dim=1, keepdims=True)\n",
        "#plot의 구체적인 설정 정하기\n",
        "d2l.set_figsize((6, 4.5))\n",
        "for i in range(6):\n",
        "    d2l.plt.plot(estimates[:, i].numpy(), label=(\"P(die=\" + str(i + 1) + \")\"))\n",
        "d2l.plt.axhline(y=0.167, color='black', linestyle='dashed')\n",
        "d2l.plt.gca().set_xlabel('Groups of experiments')\n",
        "d2l.plt.gca().set_ylabel('Estimated probability')\n",
        "d2l.plt.legend();"
      ],
      "execution_count": 10,
      "outputs": [
        {
          "output_type": "display_data",
          "data": {
            "text/plain": [
              "<Figure size 432x324 with 1 Axes>"
            ],
            "image/svg+xml": "<?xml version=\"1.0\" encoding=\"utf-8\" standalone=\"no\"?>\n<!DOCTYPE svg PUBLIC \"-//W3C//DTD SVG 1.1//EN\"\n  \"http://www.w3.org/Graphics/SVG/1.1/DTD/svg11.dtd\">\n<!-- Created with matplotlib (https://matplotlib.org/) -->\n<svg height=\"289.37625pt\" version=\"1.1\" viewBox=\"0 0 385.78125 289.37625\" width=\"385.78125pt\" xmlns=\"http://www.w3.org/2000/svg\" xmlns:xlink=\"http://www.w3.org/1999/xlink\">\n <defs>\n  <style type=\"text/css\">\n*{stroke-linecap:butt;stroke-linejoin:round;}\n  </style>\n </defs>\n <g id=\"figure_1\">\n  <g id=\"patch_1\">\n   <path d=\"M 0 289.37625 \nL 385.78125 289.37625 \nL 385.78125 0 \nL 0 0 \nz\n\" style=\"fill:none;\"/>\n  </g>\n  <g id=\"axes_1\">\n   <g id=\"patch_2\">\n    <path d=\"M 43.78125 251.82 \nL 378.58125 251.82 \nL 378.58125 7.2 \nL 43.78125 7.2 \nz\n\" style=\"fill:#ffffff;\"/>\n   </g>\n   <g id=\"matplotlib.axis_1\">\n    <g id=\"xtick_1\">\n     <g id=\"line2d_1\">\n      <defs>\n       <path d=\"M 0 0 \nL 0 3.5 \n\" id=\"m86bc32478a\" style=\"stroke:#000000;stroke-width:0.8;\"/>\n      </defs>\n      <g>\n       <use style=\"stroke:#000000;stroke-width:0.8;\" x=\"58.999432\" xlink:href=\"#m86bc32478a\" y=\"251.82\"/>\n      </g>\n     </g>\n     <g id=\"text_1\">\n      <!-- 0 -->\n      <defs>\n       <path d=\"M 31.78125 66.40625 \nQ 24.171875 66.40625 20.328125 58.90625 \nQ 16.5 51.421875 16.5 36.375 \nQ 16.5 21.390625 20.328125 13.890625 \nQ 24.171875 6.390625 31.78125 6.390625 \nQ 39.453125 6.390625 43.28125 13.890625 \nQ 47.125 21.390625 47.125 36.375 \nQ 47.125 51.421875 43.28125 58.90625 \nQ 39.453125 66.40625 31.78125 66.40625 \nz\nM 31.78125 74.21875 \nQ 44.046875 74.21875 50.515625 64.515625 \nQ 56.984375 54.828125 56.984375 36.375 \nQ 56.984375 17.96875 50.515625 8.265625 \nQ 44.046875 -1.421875 31.78125 -1.421875 \nQ 19.53125 -1.421875 13.0625 8.265625 \nQ 6.59375 17.96875 6.59375 36.375 \nQ 6.59375 54.828125 13.0625 64.515625 \nQ 19.53125 74.21875 31.78125 74.21875 \nz\n\" id=\"DejaVuSans-48\"/>\n      </defs>\n      <g transform=\"translate(55.818182 266.418437)scale(0.1 -0.1)\">\n       <use xlink:href=\"#DejaVuSans-48\"/>\n      </g>\n     </g>\n    </g>\n    <g id=\"xtick_2\">\n     <g id=\"line2d_2\">\n      <g>\n       <use style=\"stroke:#000000;stroke-width:0.8;\" x=\"119.994149\" xlink:href=\"#m86bc32478a\" y=\"251.82\"/>\n      </g>\n     </g>\n     <g id=\"text_2\">\n      <!-- 100 -->\n      <defs>\n       <path d=\"M 12.40625 8.296875 \nL 28.515625 8.296875 \nL 28.515625 63.921875 \nL 10.984375 60.40625 \nL 10.984375 69.390625 \nL 28.421875 72.90625 \nL 38.28125 72.90625 \nL 38.28125 8.296875 \nL 54.390625 8.296875 \nL 54.390625 0 \nL 12.40625 0 \nz\n\" id=\"DejaVuSans-49\"/>\n      </defs>\n      <g transform=\"translate(110.450399 266.418437)scale(0.1 -0.1)\">\n       <use xlink:href=\"#DejaVuSans-49\"/>\n       <use x=\"63.623047\" xlink:href=\"#DejaVuSans-48\"/>\n       <use x=\"127.246094\" xlink:href=\"#DejaVuSans-48\"/>\n      </g>\n     </g>\n    </g>\n    <g id=\"xtick_3\">\n     <g id=\"line2d_3\">\n      <g>\n       <use style=\"stroke:#000000;stroke-width:0.8;\" x=\"180.988865\" xlink:href=\"#m86bc32478a\" y=\"251.82\"/>\n      </g>\n     </g>\n     <g id=\"text_3\">\n      <!-- 200 -->\n      <defs>\n       <path d=\"M 19.1875 8.296875 \nL 53.609375 8.296875 \nL 53.609375 0 \nL 7.328125 0 \nL 7.328125 8.296875 \nQ 12.9375 14.109375 22.625 23.890625 \nQ 32.328125 33.6875 34.8125 36.53125 \nQ 39.546875 41.84375 41.421875 45.53125 \nQ 43.3125 49.21875 43.3125 52.78125 \nQ 43.3125 58.59375 39.234375 62.25 \nQ 35.15625 65.921875 28.609375 65.921875 \nQ 23.96875 65.921875 18.8125 64.3125 \nQ 13.671875 62.703125 7.8125 59.421875 \nL 7.8125 69.390625 \nQ 13.765625 71.78125 18.9375 73 \nQ 24.125 74.21875 28.421875 74.21875 \nQ 39.75 74.21875 46.484375 68.546875 \nQ 53.21875 62.890625 53.21875 53.421875 \nQ 53.21875 48.921875 51.53125 44.890625 \nQ 49.859375 40.875 45.40625 35.40625 \nQ 44.1875 33.984375 37.640625 27.21875 \nQ 31.109375 20.453125 19.1875 8.296875 \nz\n\" id=\"DejaVuSans-50\"/>\n      </defs>\n      <g transform=\"translate(171.445115 266.418437)scale(0.1 -0.1)\">\n       <use xlink:href=\"#DejaVuSans-50\"/>\n       <use x=\"63.623047\" xlink:href=\"#DejaVuSans-48\"/>\n       <use x=\"127.246094\" xlink:href=\"#DejaVuSans-48\"/>\n      </g>\n     </g>\n    </g>\n    <g id=\"xtick_4\">\n     <g id=\"line2d_4\">\n      <g>\n       <use style=\"stroke:#000000;stroke-width:0.8;\" x=\"241.983582\" xlink:href=\"#m86bc32478a\" y=\"251.82\"/>\n      </g>\n     </g>\n     <g id=\"text_4\">\n      <!-- 300 -->\n      <defs>\n       <path d=\"M 40.578125 39.3125 \nQ 47.65625 37.796875 51.625 33 \nQ 55.609375 28.21875 55.609375 21.1875 \nQ 55.609375 10.40625 48.1875 4.484375 \nQ 40.765625 -1.421875 27.09375 -1.421875 \nQ 22.515625 -1.421875 17.65625 -0.515625 \nQ 12.796875 0.390625 7.625 2.203125 \nL 7.625 11.71875 \nQ 11.71875 9.328125 16.59375 8.109375 \nQ 21.484375 6.890625 26.8125 6.890625 \nQ 36.078125 6.890625 40.9375 10.546875 \nQ 45.796875 14.203125 45.796875 21.1875 \nQ 45.796875 27.640625 41.28125 31.265625 \nQ 36.765625 34.90625 28.71875 34.90625 \nL 20.21875 34.90625 \nL 20.21875 43.015625 \nL 29.109375 43.015625 \nQ 36.375 43.015625 40.234375 45.921875 \nQ 44.09375 48.828125 44.09375 54.296875 \nQ 44.09375 59.90625 40.109375 62.90625 \nQ 36.140625 65.921875 28.71875 65.921875 \nQ 24.65625 65.921875 20.015625 65.03125 \nQ 15.375 64.15625 9.8125 62.3125 \nL 9.8125 71.09375 \nQ 15.4375 72.65625 20.34375 73.4375 \nQ 25.25 74.21875 29.59375 74.21875 \nQ 40.828125 74.21875 47.359375 69.109375 \nQ 53.90625 64.015625 53.90625 55.328125 \nQ 53.90625 49.265625 50.4375 45.09375 \nQ 46.96875 40.921875 40.578125 39.3125 \nz\n\" id=\"DejaVuSans-51\"/>\n      </defs>\n      <g transform=\"translate(232.439832 266.418437)scale(0.1 -0.1)\">\n       <use xlink:href=\"#DejaVuSans-51\"/>\n       <use x=\"63.623047\" xlink:href=\"#DejaVuSans-48\"/>\n       <use x=\"127.246094\" xlink:href=\"#DejaVuSans-48\"/>\n      </g>\n     </g>\n    </g>\n    <g id=\"xtick_5\">\n     <g id=\"line2d_5\">\n      <g>\n       <use style=\"stroke:#000000;stroke-width:0.8;\" x=\"302.978299\" xlink:href=\"#m86bc32478a\" y=\"251.82\"/>\n      </g>\n     </g>\n     <g id=\"text_5\">\n      <!-- 400 -->\n      <defs>\n       <path d=\"M 37.796875 64.3125 \nL 12.890625 25.390625 \nL 37.796875 25.390625 \nz\nM 35.203125 72.90625 \nL 47.609375 72.90625 \nL 47.609375 25.390625 \nL 58.015625 25.390625 \nL 58.015625 17.1875 \nL 47.609375 17.1875 \nL 47.609375 0 \nL 37.796875 0 \nL 37.796875 17.1875 \nL 4.890625 17.1875 \nL 4.890625 26.703125 \nz\n\" id=\"DejaVuSans-52\"/>\n      </defs>\n      <g transform=\"translate(293.434549 266.418437)scale(0.1 -0.1)\">\n       <use xlink:href=\"#DejaVuSans-52\"/>\n       <use x=\"63.623047\" xlink:href=\"#DejaVuSans-48\"/>\n       <use x=\"127.246094\" xlink:href=\"#DejaVuSans-48\"/>\n      </g>\n     </g>\n    </g>\n    <g id=\"xtick_6\">\n     <g id=\"line2d_6\">\n      <g>\n       <use style=\"stroke:#000000;stroke-width:0.8;\" x=\"363.973015\" xlink:href=\"#m86bc32478a\" y=\"251.82\"/>\n      </g>\n     </g>\n     <g id=\"text_6\">\n      <!-- 500 -->\n      <defs>\n       <path d=\"M 10.796875 72.90625 \nL 49.515625 72.90625 \nL 49.515625 64.59375 \nL 19.828125 64.59375 \nL 19.828125 46.734375 \nQ 21.96875 47.46875 24.109375 47.828125 \nQ 26.265625 48.1875 28.421875 48.1875 \nQ 40.625 48.1875 47.75 41.5 \nQ 54.890625 34.8125 54.890625 23.390625 \nQ 54.890625 11.625 47.5625 5.09375 \nQ 40.234375 -1.421875 26.90625 -1.421875 \nQ 22.3125 -1.421875 17.546875 -0.640625 \nQ 12.796875 0.140625 7.71875 1.703125 \nL 7.71875 11.625 \nQ 12.109375 9.234375 16.796875 8.0625 \nQ 21.484375 6.890625 26.703125 6.890625 \nQ 35.15625 6.890625 40.078125 11.328125 \nQ 45.015625 15.765625 45.015625 23.390625 \nQ 45.015625 31 40.078125 35.4375 \nQ 35.15625 39.890625 26.703125 39.890625 \nQ 22.75 39.890625 18.8125 39.015625 \nQ 14.890625 38.140625 10.796875 36.28125 \nz\n\" id=\"DejaVuSans-53\"/>\n      </defs>\n      <g transform=\"translate(354.429265 266.418437)scale(0.1 -0.1)\">\n       <use xlink:href=\"#DejaVuSans-53\"/>\n       <use x=\"63.623047\" xlink:href=\"#DejaVuSans-48\"/>\n       <use x=\"127.246094\" xlink:href=\"#DejaVuSans-48\"/>\n      </g>\n     </g>\n    </g>\n    <g id=\"text_7\">\n     <!-- Groups of experiments -->\n     <defs>\n      <path d=\"M 59.515625 10.40625 \nL 59.515625 29.984375 \nL 43.40625 29.984375 \nL 43.40625 38.09375 \nL 69.28125 38.09375 \nL 69.28125 6.78125 \nQ 63.578125 2.734375 56.6875 0.65625 \nQ 49.8125 -1.421875 42 -1.421875 \nQ 24.90625 -1.421875 15.25 8.5625 \nQ 5.609375 18.5625 5.609375 36.375 \nQ 5.609375 54.25 15.25 64.234375 \nQ 24.90625 74.21875 42 74.21875 \nQ 49.125 74.21875 55.546875 72.453125 \nQ 61.96875 70.703125 67.390625 67.28125 \nL 67.390625 56.78125 \nQ 61.921875 61.421875 55.765625 63.765625 \nQ 49.609375 66.109375 42.828125 66.109375 \nQ 29.4375 66.109375 22.71875 58.640625 \nQ 16.015625 51.171875 16.015625 36.375 \nQ 16.015625 21.625 22.71875 14.15625 \nQ 29.4375 6.6875 42.828125 6.6875 \nQ 48.046875 6.6875 52.140625 7.59375 \nQ 56.25 8.5 59.515625 10.40625 \nz\n\" id=\"DejaVuSans-71\"/>\n      <path d=\"M 41.109375 46.296875 \nQ 39.59375 47.171875 37.8125 47.578125 \nQ 36.03125 48 33.890625 48 \nQ 26.265625 48 22.1875 43.046875 \nQ 18.109375 38.09375 18.109375 28.8125 \nL 18.109375 0 \nL 9.078125 0 \nL 9.078125 54.6875 \nL 18.109375 54.6875 \nL 18.109375 46.1875 \nQ 20.953125 51.171875 25.484375 53.578125 \nQ 30.03125 56 36.53125 56 \nQ 37.453125 56 38.578125 55.875 \nQ 39.703125 55.765625 41.0625 55.515625 \nz\n\" id=\"DejaVuSans-114\"/>\n      <path d=\"M 30.609375 48.390625 \nQ 23.390625 48.390625 19.1875 42.75 \nQ 14.984375 37.109375 14.984375 27.296875 \nQ 14.984375 17.484375 19.15625 11.84375 \nQ 23.34375 6.203125 30.609375 6.203125 \nQ 37.796875 6.203125 41.984375 11.859375 \nQ 46.1875 17.53125 46.1875 27.296875 \nQ 46.1875 37.015625 41.984375 42.703125 \nQ 37.796875 48.390625 30.609375 48.390625 \nz\nM 30.609375 56 \nQ 42.328125 56 49.015625 48.375 \nQ 55.71875 40.765625 55.71875 27.296875 \nQ 55.71875 13.875 49.015625 6.21875 \nQ 42.328125 -1.421875 30.609375 -1.421875 \nQ 18.84375 -1.421875 12.171875 6.21875 \nQ 5.515625 13.875 5.515625 27.296875 \nQ 5.515625 40.765625 12.171875 48.375 \nQ 18.84375 56 30.609375 56 \nz\n\" id=\"DejaVuSans-111\"/>\n      <path d=\"M 8.5 21.578125 \nL 8.5 54.6875 \nL 17.484375 54.6875 \nL 17.484375 21.921875 \nQ 17.484375 14.15625 20.5 10.265625 \nQ 23.53125 6.390625 29.59375 6.390625 \nQ 36.859375 6.390625 41.078125 11.03125 \nQ 45.3125 15.671875 45.3125 23.6875 \nL 45.3125 54.6875 \nL 54.296875 54.6875 \nL 54.296875 0 \nL 45.3125 0 \nL 45.3125 8.40625 \nQ 42.046875 3.421875 37.71875 1 \nQ 33.40625 -1.421875 27.6875 -1.421875 \nQ 18.265625 -1.421875 13.375 4.4375 \nQ 8.5 10.296875 8.5 21.578125 \nz\nM 31.109375 56 \nz\n\" id=\"DejaVuSans-117\"/>\n      <path d=\"M 18.109375 8.203125 \nL 18.109375 -20.796875 \nL 9.078125 -20.796875 \nL 9.078125 54.6875 \nL 18.109375 54.6875 \nL 18.109375 46.390625 \nQ 20.953125 51.265625 25.265625 53.625 \nQ 29.59375 56 35.59375 56 \nQ 45.5625 56 51.78125 48.09375 \nQ 58.015625 40.1875 58.015625 27.296875 \nQ 58.015625 14.40625 51.78125 6.484375 \nQ 45.5625 -1.421875 35.59375 -1.421875 \nQ 29.59375 -1.421875 25.265625 0.953125 \nQ 20.953125 3.328125 18.109375 8.203125 \nz\nM 48.6875 27.296875 \nQ 48.6875 37.203125 44.609375 42.84375 \nQ 40.53125 48.484375 33.40625 48.484375 \nQ 26.265625 48.484375 22.1875 42.84375 \nQ 18.109375 37.203125 18.109375 27.296875 \nQ 18.109375 17.390625 22.1875 11.75 \nQ 26.265625 6.109375 33.40625 6.109375 \nQ 40.53125 6.109375 44.609375 11.75 \nQ 48.6875 17.390625 48.6875 27.296875 \nz\n\" id=\"DejaVuSans-112\"/>\n      <path d=\"M 44.28125 53.078125 \nL 44.28125 44.578125 \nQ 40.484375 46.53125 36.375 47.5 \nQ 32.28125 48.484375 27.875 48.484375 \nQ 21.1875 48.484375 17.84375 46.4375 \nQ 14.5 44.390625 14.5 40.28125 \nQ 14.5 37.15625 16.890625 35.375 \nQ 19.28125 33.59375 26.515625 31.984375 \nL 29.59375 31.296875 \nQ 39.15625 29.25 43.1875 25.515625 \nQ 47.21875 21.78125 47.21875 15.09375 \nQ 47.21875 7.46875 41.1875 3.015625 \nQ 35.15625 -1.421875 24.609375 -1.421875 \nQ 20.21875 -1.421875 15.453125 -0.5625 \nQ 10.6875 0.296875 5.421875 2 \nL 5.421875 11.28125 \nQ 10.40625 8.6875 15.234375 7.390625 \nQ 20.0625 6.109375 24.8125 6.109375 \nQ 31.15625 6.109375 34.5625 8.28125 \nQ 37.984375 10.453125 37.984375 14.40625 \nQ 37.984375 18.0625 35.515625 20.015625 \nQ 33.0625 21.96875 24.703125 23.78125 \nL 21.578125 24.515625 \nQ 13.234375 26.265625 9.515625 29.90625 \nQ 5.8125 33.546875 5.8125 39.890625 \nQ 5.8125 47.609375 11.28125 51.796875 \nQ 16.75 56 26.8125 56 \nQ 31.78125 56 36.171875 55.265625 \nQ 40.578125 54.546875 44.28125 53.078125 \nz\n\" id=\"DejaVuSans-115\"/>\n      <path id=\"DejaVuSans-32\"/>\n      <path d=\"M 37.109375 75.984375 \nL 37.109375 68.5 \nL 28.515625 68.5 \nQ 23.6875 68.5 21.796875 66.546875 \nQ 19.921875 64.59375 19.921875 59.515625 \nL 19.921875 54.6875 \nL 34.71875 54.6875 \nL 34.71875 47.703125 \nL 19.921875 47.703125 \nL 19.921875 0 \nL 10.890625 0 \nL 10.890625 47.703125 \nL 2.296875 47.703125 \nL 2.296875 54.6875 \nL 10.890625 54.6875 \nL 10.890625 58.5 \nQ 10.890625 67.625 15.140625 71.796875 \nQ 19.390625 75.984375 28.609375 75.984375 \nz\n\" id=\"DejaVuSans-102\"/>\n      <path d=\"M 56.203125 29.59375 \nL 56.203125 25.203125 \nL 14.890625 25.203125 \nQ 15.484375 15.921875 20.484375 11.0625 \nQ 25.484375 6.203125 34.421875 6.203125 \nQ 39.59375 6.203125 44.453125 7.46875 \nQ 49.3125 8.734375 54.109375 11.28125 \nL 54.109375 2.78125 \nQ 49.265625 0.734375 44.1875 -0.34375 \nQ 39.109375 -1.421875 33.890625 -1.421875 \nQ 20.796875 -1.421875 13.15625 6.1875 \nQ 5.515625 13.8125 5.515625 26.8125 \nQ 5.515625 40.234375 12.765625 48.109375 \nQ 20.015625 56 32.328125 56 \nQ 43.359375 56 49.78125 48.890625 \nQ 56.203125 41.796875 56.203125 29.59375 \nz\nM 47.21875 32.234375 \nQ 47.125 39.59375 43.09375 43.984375 \nQ 39.0625 48.390625 32.421875 48.390625 \nQ 24.90625 48.390625 20.390625 44.140625 \nQ 15.875 39.890625 15.1875 32.171875 \nz\n\" id=\"DejaVuSans-101\"/>\n      <path d=\"M 54.890625 54.6875 \nL 35.109375 28.078125 \nL 55.90625 0 \nL 45.3125 0 \nL 29.390625 21.484375 \nL 13.484375 0 \nL 2.875 0 \nL 24.125 28.609375 \nL 4.6875 54.6875 \nL 15.28125 54.6875 \nL 29.78125 35.203125 \nL 44.28125 54.6875 \nz\n\" id=\"DejaVuSans-120\"/>\n      <path d=\"M 9.421875 54.6875 \nL 18.40625 54.6875 \nL 18.40625 0 \nL 9.421875 0 \nz\nM 9.421875 75.984375 \nL 18.40625 75.984375 \nL 18.40625 64.59375 \nL 9.421875 64.59375 \nz\n\" id=\"DejaVuSans-105\"/>\n      <path d=\"M 52 44.1875 \nQ 55.375 50.25 60.0625 53.125 \nQ 64.75 56 71.09375 56 \nQ 79.640625 56 84.28125 50.015625 \nQ 88.921875 44.046875 88.921875 33.015625 \nL 88.921875 0 \nL 79.890625 0 \nL 79.890625 32.71875 \nQ 79.890625 40.578125 77.09375 44.375 \nQ 74.3125 48.1875 68.609375 48.1875 \nQ 61.625 48.1875 57.5625 43.546875 \nQ 53.515625 38.921875 53.515625 30.90625 \nL 53.515625 0 \nL 44.484375 0 \nL 44.484375 32.71875 \nQ 44.484375 40.625 41.703125 44.40625 \nQ 38.921875 48.1875 33.109375 48.1875 \nQ 26.21875 48.1875 22.15625 43.53125 \nQ 18.109375 38.875 18.109375 30.90625 \nL 18.109375 0 \nL 9.078125 0 \nL 9.078125 54.6875 \nL 18.109375 54.6875 \nL 18.109375 46.1875 \nQ 21.1875 51.21875 25.484375 53.609375 \nQ 29.78125 56 35.6875 56 \nQ 41.65625 56 45.828125 52.96875 \nQ 50 49.953125 52 44.1875 \nz\n\" id=\"DejaVuSans-109\"/>\n      <path d=\"M 54.890625 33.015625 \nL 54.890625 0 \nL 45.90625 0 \nL 45.90625 32.71875 \nQ 45.90625 40.484375 42.875 44.328125 \nQ 39.84375 48.1875 33.796875 48.1875 \nQ 26.515625 48.1875 22.3125 43.546875 \nQ 18.109375 38.921875 18.109375 30.90625 \nL 18.109375 0 \nL 9.078125 0 \nL 9.078125 54.6875 \nL 18.109375 54.6875 \nL 18.109375 46.1875 \nQ 21.34375 51.125 25.703125 53.5625 \nQ 30.078125 56 35.796875 56 \nQ 45.21875 56 50.046875 50.171875 \nQ 54.890625 44.34375 54.890625 33.015625 \nz\n\" id=\"DejaVuSans-110\"/>\n      <path d=\"M 18.3125 70.21875 \nL 18.3125 54.6875 \nL 36.8125 54.6875 \nL 36.8125 47.703125 \nL 18.3125 47.703125 \nL 18.3125 18.015625 \nQ 18.3125 11.328125 20.140625 9.421875 \nQ 21.96875 7.515625 27.59375 7.515625 \nL 36.8125 7.515625 \nL 36.8125 0 \nL 27.59375 0 \nQ 17.1875 0 13.234375 3.875 \nQ 9.28125 7.765625 9.28125 18.015625 \nL 9.28125 47.703125 \nL 2.6875 47.703125 \nL 2.6875 54.6875 \nL 9.28125 54.6875 \nL 9.28125 70.21875 \nz\n\" id=\"DejaVuSans-116\"/>\n     </defs>\n     <g transform=\"translate(154.035156 280.096562)scale(0.1 -0.1)\">\n      <use xlink:href=\"#DejaVuSans-71\"/>\n      <use x=\"77.490234\" xlink:href=\"#DejaVuSans-114\"/>\n      <use x=\"116.353516\" xlink:href=\"#DejaVuSans-111\"/>\n      <use x=\"177.535156\" xlink:href=\"#DejaVuSans-117\"/>\n      <use x=\"240.914062\" xlink:href=\"#DejaVuSans-112\"/>\n      <use x=\"304.390625\" xlink:href=\"#DejaVuSans-115\"/>\n      <use x=\"356.490234\" xlink:href=\"#DejaVuSans-32\"/>\n      <use x=\"388.277344\" xlink:href=\"#DejaVuSans-111\"/>\n      <use x=\"449.458984\" xlink:href=\"#DejaVuSans-102\"/>\n      <use x=\"484.664062\" xlink:href=\"#DejaVuSans-32\"/>\n      <use x=\"516.451172\" xlink:href=\"#DejaVuSans-101\"/>\n      <use x=\"576.224609\" xlink:href=\"#DejaVuSans-120\"/>\n      <use x=\"635.404297\" xlink:href=\"#DejaVuSans-112\"/>\n      <use x=\"698.880859\" xlink:href=\"#DejaVuSans-101\"/>\n      <use x=\"760.404297\" xlink:href=\"#DejaVuSans-114\"/>\n      <use x=\"801.517578\" xlink:href=\"#DejaVuSans-105\"/>\n      <use x=\"829.300781\" xlink:href=\"#DejaVuSans-109\"/>\n      <use x=\"926.712891\" xlink:href=\"#DejaVuSans-101\"/>\n      <use x=\"988.236328\" xlink:href=\"#DejaVuSans-110\"/>\n      <use x=\"1051.615234\" xlink:href=\"#DejaVuSans-116\"/>\n      <use x=\"1090.824219\" xlink:href=\"#DejaVuSans-115\"/>\n     </g>\n    </g>\n   </g>\n   <g id=\"matplotlib.axis_2\">\n    <g id=\"ytick_1\">\n     <g id=\"line2d_7\">\n      <defs>\n       <path d=\"M 0 0 \nL -3.5 0 \n\" id=\"m8d2a7a8578\" style=\"stroke:#000000;stroke-width:0.8;\"/>\n      </defs>\n      <g>\n       <use style=\"stroke:#000000;stroke-width:0.8;\" x=\"43.78125\" xlink:href=\"#m8d2a7a8578\" y=\"240.700909\"/>\n      </g>\n     </g>\n     <g id=\"text_8\">\n      <!-- 0.0 -->\n      <defs>\n       <path d=\"M 10.6875 12.40625 \nL 21 12.40625 \nL 21 0 \nL 10.6875 0 \nz\n\" id=\"DejaVuSans-46\"/>\n      </defs>\n      <g transform=\"translate(20.878125 244.500128)scale(0.1 -0.1)\">\n       <use xlink:href=\"#DejaVuSans-48\"/>\n       <use x=\"63.623047\" xlink:href=\"#DejaVuSans-46\"/>\n       <use x=\"95.410156\" xlink:href=\"#DejaVuSans-48\"/>\n      </g>\n     </g>\n    </g>\n    <g id=\"ytick_2\">\n     <g id=\"line2d_8\">\n      <g>\n       <use style=\"stroke:#000000;stroke-width:0.8;\" x=\"43.78125\" xlink:href=\"#m8d2a7a8578\" y=\"203.637274\"/>\n      </g>\n     </g>\n     <g id=\"text_9\">\n      <!-- 0.1 -->\n      <g transform=\"translate(20.878125 207.436493)scale(0.1 -0.1)\">\n       <use xlink:href=\"#DejaVuSans-48\"/>\n       <use x=\"63.623047\" xlink:href=\"#DejaVuSans-46\"/>\n       <use x=\"95.410156\" xlink:href=\"#DejaVuSans-49\"/>\n      </g>\n     </g>\n    </g>\n    <g id=\"ytick_3\">\n     <g id=\"line2d_9\">\n      <g>\n       <use style=\"stroke:#000000;stroke-width:0.8;\" x=\"43.78125\" xlink:href=\"#m8d2a7a8578\" y=\"166.573639\"/>\n      </g>\n     </g>\n     <g id=\"text_10\">\n      <!-- 0.2 -->\n      <g transform=\"translate(20.878125 170.372858)scale(0.1 -0.1)\">\n       <use xlink:href=\"#DejaVuSans-48\"/>\n       <use x=\"63.623047\" xlink:href=\"#DejaVuSans-46\"/>\n       <use x=\"95.410156\" xlink:href=\"#DejaVuSans-50\"/>\n      </g>\n     </g>\n    </g>\n    <g id=\"ytick_4\">\n     <g id=\"line2d_10\">\n      <g>\n       <use style=\"stroke:#000000;stroke-width:0.8;\" x=\"43.78125\" xlink:href=\"#m8d2a7a8578\" y=\"129.510004\"/>\n      </g>\n     </g>\n     <g id=\"text_11\">\n      <!-- 0.3 -->\n      <g transform=\"translate(20.878125 133.309223)scale(0.1 -0.1)\">\n       <use xlink:href=\"#DejaVuSans-48\"/>\n       <use x=\"63.623047\" xlink:href=\"#DejaVuSans-46\"/>\n       <use x=\"95.410156\" xlink:href=\"#DejaVuSans-51\"/>\n      </g>\n     </g>\n    </g>\n    <g id=\"ytick_5\">\n     <g id=\"line2d_11\">\n      <g>\n       <use style=\"stroke:#000000;stroke-width:0.8;\" x=\"43.78125\" xlink:href=\"#m8d2a7a8578\" y=\"92.44637\"/>\n      </g>\n     </g>\n     <g id=\"text_12\">\n      <!-- 0.4 -->\n      <g transform=\"translate(20.878125 96.245588)scale(0.1 -0.1)\">\n       <use xlink:href=\"#DejaVuSans-48\"/>\n       <use x=\"63.623047\" xlink:href=\"#DejaVuSans-46\"/>\n       <use x=\"95.410156\" xlink:href=\"#DejaVuSans-52\"/>\n      </g>\n     </g>\n    </g>\n    <g id=\"ytick_6\">\n     <g id=\"line2d_12\">\n      <g>\n       <use style=\"stroke:#000000;stroke-width:0.8;\" x=\"43.78125\" xlink:href=\"#m8d2a7a8578\" y=\"55.382735\"/>\n      </g>\n     </g>\n     <g id=\"text_13\">\n      <!-- 0.5 -->\n      <g transform=\"translate(20.878125 59.181953)scale(0.1 -0.1)\">\n       <use xlink:href=\"#DejaVuSans-48\"/>\n       <use x=\"63.623047\" xlink:href=\"#DejaVuSans-46\"/>\n       <use x=\"95.410156\" xlink:href=\"#DejaVuSans-53\"/>\n      </g>\n     </g>\n    </g>\n    <g id=\"ytick_7\">\n     <g id=\"line2d_13\">\n      <g>\n       <use style=\"stroke:#000000;stroke-width:0.8;\" x=\"43.78125\" xlink:href=\"#m8d2a7a8578\" y=\"18.3191\"/>\n      </g>\n     </g>\n     <g id=\"text_14\">\n      <!-- 0.6 -->\n      <defs>\n       <path d=\"M 33.015625 40.375 \nQ 26.375 40.375 22.484375 35.828125 \nQ 18.609375 31.296875 18.609375 23.390625 \nQ 18.609375 15.53125 22.484375 10.953125 \nQ 26.375 6.390625 33.015625 6.390625 \nQ 39.65625 6.390625 43.53125 10.953125 \nQ 47.40625 15.53125 47.40625 23.390625 \nQ 47.40625 31.296875 43.53125 35.828125 \nQ 39.65625 40.375 33.015625 40.375 \nz\nM 52.59375 71.296875 \nL 52.59375 62.3125 \nQ 48.875 64.0625 45.09375 64.984375 \nQ 41.3125 65.921875 37.59375 65.921875 \nQ 27.828125 65.921875 22.671875 59.328125 \nQ 17.53125 52.734375 16.796875 39.40625 \nQ 19.671875 43.65625 24.015625 45.921875 \nQ 28.375 48.1875 33.59375 48.1875 \nQ 44.578125 48.1875 50.953125 41.515625 \nQ 57.328125 34.859375 57.328125 23.390625 \nQ 57.328125 12.15625 50.6875 5.359375 \nQ 44.046875 -1.421875 33.015625 -1.421875 \nQ 20.359375 -1.421875 13.671875 8.265625 \nQ 6.984375 17.96875 6.984375 36.375 \nQ 6.984375 53.65625 15.1875 63.9375 \nQ 23.390625 74.21875 37.203125 74.21875 \nQ 40.921875 74.21875 44.703125 73.484375 \nQ 48.484375 72.75 52.59375 71.296875 \nz\n\" id=\"DejaVuSans-54\"/>\n      </defs>\n      <g transform=\"translate(20.878125 22.118318)scale(0.1 -0.1)\">\n       <use xlink:href=\"#DejaVuSans-48\"/>\n       <use x=\"63.623047\" xlink:href=\"#DejaVuSans-46\"/>\n       <use x=\"95.410156\" xlink:href=\"#DejaVuSans-54\"/>\n      </g>\n     </g>\n    </g>\n    <g id=\"text_15\">\n     <!-- Estimated probability -->\n     <defs>\n      <path d=\"M 9.8125 72.90625 \nL 55.90625 72.90625 \nL 55.90625 64.59375 \nL 19.671875 64.59375 \nL 19.671875 43.015625 \nL 54.390625 43.015625 \nL 54.390625 34.71875 \nL 19.671875 34.71875 \nL 19.671875 8.296875 \nL 56.78125 8.296875 \nL 56.78125 0 \nL 9.8125 0 \nz\n\" id=\"DejaVuSans-69\"/>\n      <path d=\"M 34.28125 27.484375 \nQ 23.390625 27.484375 19.1875 25 \nQ 14.984375 22.515625 14.984375 16.5 \nQ 14.984375 11.71875 18.140625 8.90625 \nQ 21.296875 6.109375 26.703125 6.109375 \nQ 34.1875 6.109375 38.703125 11.40625 \nQ 43.21875 16.703125 43.21875 25.484375 \nL 43.21875 27.484375 \nz\nM 52.203125 31.203125 \nL 52.203125 0 \nL 43.21875 0 \nL 43.21875 8.296875 \nQ 40.140625 3.328125 35.546875 0.953125 \nQ 30.953125 -1.421875 24.3125 -1.421875 \nQ 15.921875 -1.421875 10.953125 3.296875 \nQ 6 8.015625 6 15.921875 \nQ 6 25.140625 12.171875 29.828125 \nQ 18.359375 34.515625 30.609375 34.515625 \nL 43.21875 34.515625 \nL 43.21875 35.40625 \nQ 43.21875 41.609375 39.140625 45 \nQ 35.0625 48.390625 27.6875 48.390625 \nQ 23 48.390625 18.546875 47.265625 \nQ 14.109375 46.140625 10.015625 43.890625 \nL 10.015625 52.203125 \nQ 14.9375 54.109375 19.578125 55.046875 \nQ 24.21875 56 28.609375 56 \nQ 40.484375 56 46.34375 49.84375 \nQ 52.203125 43.703125 52.203125 31.203125 \nz\n\" id=\"DejaVuSans-97\"/>\n      <path d=\"M 45.40625 46.390625 \nL 45.40625 75.984375 \nL 54.390625 75.984375 \nL 54.390625 0 \nL 45.40625 0 \nL 45.40625 8.203125 \nQ 42.578125 3.328125 38.25 0.953125 \nQ 33.9375 -1.421875 27.875 -1.421875 \nQ 17.96875 -1.421875 11.734375 6.484375 \nQ 5.515625 14.40625 5.515625 27.296875 \nQ 5.515625 40.1875 11.734375 48.09375 \nQ 17.96875 56 27.875 56 \nQ 33.9375 56 38.25 53.625 \nQ 42.578125 51.265625 45.40625 46.390625 \nz\nM 14.796875 27.296875 \nQ 14.796875 17.390625 18.875 11.75 \nQ 22.953125 6.109375 30.078125 6.109375 \nQ 37.203125 6.109375 41.296875 11.75 \nQ 45.40625 17.390625 45.40625 27.296875 \nQ 45.40625 37.203125 41.296875 42.84375 \nQ 37.203125 48.484375 30.078125 48.484375 \nQ 22.953125 48.484375 18.875 42.84375 \nQ 14.796875 37.203125 14.796875 27.296875 \nz\n\" id=\"DejaVuSans-100\"/>\n      <path d=\"M 48.6875 27.296875 \nQ 48.6875 37.203125 44.609375 42.84375 \nQ 40.53125 48.484375 33.40625 48.484375 \nQ 26.265625 48.484375 22.1875 42.84375 \nQ 18.109375 37.203125 18.109375 27.296875 \nQ 18.109375 17.390625 22.1875 11.75 \nQ 26.265625 6.109375 33.40625 6.109375 \nQ 40.53125 6.109375 44.609375 11.75 \nQ 48.6875 17.390625 48.6875 27.296875 \nz\nM 18.109375 46.390625 \nQ 20.953125 51.265625 25.265625 53.625 \nQ 29.59375 56 35.59375 56 \nQ 45.5625 56 51.78125 48.09375 \nQ 58.015625 40.1875 58.015625 27.296875 \nQ 58.015625 14.40625 51.78125 6.484375 \nQ 45.5625 -1.421875 35.59375 -1.421875 \nQ 29.59375 -1.421875 25.265625 0.953125 \nQ 20.953125 3.328125 18.109375 8.203125 \nL 18.109375 0 \nL 9.078125 0 \nL 9.078125 75.984375 \nL 18.109375 75.984375 \nz\n\" id=\"DejaVuSans-98\"/>\n      <path d=\"M 9.421875 75.984375 \nL 18.40625 75.984375 \nL 18.40625 0 \nL 9.421875 0 \nz\n\" id=\"DejaVuSans-108\"/>\n      <path d=\"M 32.171875 -5.078125 \nQ 28.375 -14.84375 24.75 -17.8125 \nQ 21.140625 -20.796875 15.09375 -20.796875 \nL 7.90625 -20.796875 \nL 7.90625 -13.28125 \nL 13.1875 -13.28125 \nQ 16.890625 -13.28125 18.9375 -11.515625 \nQ 21 -9.765625 23.484375 -3.21875 \nL 25.09375 0.875 \nL 2.984375 54.6875 \nL 12.5 54.6875 \nL 29.59375 11.921875 \nL 46.6875 54.6875 \nL 56.203125 54.6875 \nz\n\" id=\"DejaVuSans-121\"/>\n     </defs>\n     <g transform=\"translate(14.798438 183.033437)rotate(-90)scale(0.1 -0.1)\">\n      <use xlink:href=\"#DejaVuSans-69\"/>\n      <use x=\"63.183594\" xlink:href=\"#DejaVuSans-115\"/>\n      <use x=\"115.283203\" xlink:href=\"#DejaVuSans-116\"/>\n      <use x=\"154.492188\" xlink:href=\"#DejaVuSans-105\"/>\n      <use x=\"182.275391\" xlink:href=\"#DejaVuSans-109\"/>\n      <use x=\"279.6875\" xlink:href=\"#DejaVuSans-97\"/>\n      <use x=\"340.966797\" xlink:href=\"#DejaVuSans-116\"/>\n      <use x=\"380.175781\" xlink:href=\"#DejaVuSans-101\"/>\n      <use x=\"441.699219\" xlink:href=\"#DejaVuSans-100\"/>\n      <use x=\"505.175781\" xlink:href=\"#DejaVuSans-32\"/>\n      <use x=\"536.962891\" xlink:href=\"#DejaVuSans-112\"/>\n      <use x=\"600.439453\" xlink:href=\"#DejaVuSans-114\"/>\n      <use x=\"639.302734\" xlink:href=\"#DejaVuSans-111\"/>\n      <use x=\"700.484375\" xlink:href=\"#DejaVuSans-98\"/>\n      <use x=\"763.960938\" xlink:href=\"#DejaVuSans-97\"/>\n      <use x=\"825.240234\" xlink:href=\"#DejaVuSans-98\"/>\n      <use x=\"888.716797\" xlink:href=\"#DejaVuSans-105\"/>\n      <use x=\"916.5\" xlink:href=\"#DejaVuSans-108\"/>\n      <use x=\"944.283203\" xlink:href=\"#DejaVuSans-105\"/>\n      <use x=\"972.066406\" xlink:href=\"#DejaVuSans-116\"/>\n      <use x=\"1011.275391\" xlink:href=\"#DejaVuSans-121\"/>\n     </g>\n    </g>\n   </g>\n   <g id=\"line2d_14\">\n    <path clip-path=\"url(#p201f4d3dbd)\" d=\"M 58.999432 203.637274 \nL 59.609379 148.041822 \nL 60.219326 141.864544 \nL 60.829273 148.041822 \nL 61.43922 166.573638 \nL 62.049168 178.928182 \nL 62.659115 177.163248 \nL 63.269062 180.472505 \nL 63.879009 170.69182 \nL 64.488956 177.692729 \nL 65.098903 180.051327 \nL 65.708851 169.662277 \nL 66.318798 169.424687 \nL 67.538692 173.986364 \nL 68.758586 173.114279 \nL 69.368534 168.632729 \nL 69.978481 168.524358 \nL 71.198375 164.808703 \nL 71.808322 161.519505 \nL 72.418269 163.350715 \nL 73.028217 163.485005 \nL 73.638164 162.126004 \nL 74.248111 162.297065 \nL 74.858058 161.082732 \nL 75.468005 161.278834 \nL 76.6879 166.573638 \nL 77.297847 167.769238 \nL 78.517741 167.696778 \nL 79.127688 168.753852 \nL 79.737635 167.632601 \nL 80.347583 168.632729 \nL 80.95753 166.573638 \nL 81.567477 166.573638 \nL 82.177424 164.672939 \nL 83.397319 164.765658 \nL 85.22716 169.943062 \nL 85.837107 168.220913 \nL 86.447054 165.767906 \nL 87.057002 164.996466 \nL 87.666949 165.029322 \nL 88.276896 165.817237 \nL 88.886843 167.314912 \nL 90.716685 169.370894 \nL 91.936579 169.269178 \nL 92.546526 167.897342 \nL 93.156473 167.223878 \nL 93.76642 168.490724 \nL 94.376368 167.830034 \nL 94.986315 169.04455 \nL 96.206209 168.964844 \nL 96.816156 169.515196 \nL 97.426103 168.310997 \nL 98.036051 169.424687 \nL 98.645998 169.943062 \nL 99.255945 170.999148 \nL 99.865892 170.934066 \nL 100.475839 171.945178 \nL 101.085786 172.397924 \nL 101.695734 171.271847 \nL 102.305681 172.236142 \nL 102.915628 172.666294 \nL 103.525575 172.083096 \nL 105.965364 173.70126 \nL 106.575311 173.611038 \nL 107.185258 173.986364 \nL 107.795205 174.810001 \nL 108.405152 174.709561 \nL 109.0151 175.058085 \nL 109.625047 174.957082 \nL 110.234994 174.422409 \nL 110.844941 174.331142 \nL 111.454888 173.389939 \nL 112.064835 173.31248 \nL 112.674783 172.820317 \nL 113.28473 171.927273 \nL 116.334466 171.645505 \nL 117.55436 172.305128 \nL 118.164307 172.246646 \nL 118.774254 172.563722 \nL 119.384201 171.762547 \nL 119.994149 172.078137 \nL 121.214043 171.251572 \nL 121.82399 171.919359 \nL 123.043884 171.119177 \nL 123.653832 171.769478 \nL 124.263779 172.06455 \nL 124.873726 171.334107 \nL 125.483673 171.627771 \nL 126.09362 171.24833 \nL 127.313515 171.165592 \nL 127.923462 171.450436 \nL 128.533409 171.408025 \nL 130.973198 172.491361 \nL 131.583145 172.442047 \nL 132.193092 172.087239 \nL 132.803039 172.345843 \nL 133.412986 172.298915 \nL 134.022933 172.551644 \nL 134.632881 172.207312 \nL 135.242828 172.75091 \nL 135.852775 172.410434 \nL 136.462722 172.364831 \nL 137.072669 172.607254 \nL 137.682616 171.990632 \nL 138.292564 172.515137 \nL 138.902511 172.75091 \nL 139.512458 172.425793 \nL 140.122405 172.658716 \nL 140.732352 172.06455 \nL 143.172141 171.906534 \nL 143.782088 172.397924 \nL 144.392035 172.093756 \nL 145.001982 172.05488 \nL 145.61193 171.757366 \nL 148.051718 172.624844 \nL 148.661665 172.333527 \nL 149.271613 172.543619 \nL 149.88156 172.009642 \nL 150.491507 171.973638 \nL 151.101454 171.694272 \nL 151.711401 171.176312 \nL 152.321348 171.146427 \nL 152.931296 170.638684 \nL 153.541243 170.850211 \nL 154.761137 170.796081 \nL 155.371084 170.536416 \nL 155.981031 170.511651 \nL 156.590979 170.256984 \nL 157.810873 170.21179 \nL 158.42082 169.963607 \nL 159.640714 169.922765 \nL 160.250662 169.680768 \nL 160.860609 169.221041 \nL 161.470556 169.644002 \nL 162.69045 169.608086 \nL 163.300397 169.805933 \nL 164.520292 169.768781 \nL 165.130239 170.174107 \nL 165.740186 170.364239 \nL 167.570028 169.679531 \nL 168.789922 169.645211 \nL 169.399869 170.035626 \nL 170.009816 170.01671 \nL 170.619763 170.400862 \nL 171.229711 170.380173 \nL 173.059552 170.910875 \nL 173.669499 170.887927 \nL 174.889394 171.23085 \nL 176.719235 172.305128 \nL 177.329182 172.275736 \nL 178.549077 171.841568 \nL 179.159024 171.814959 \nL 179.768971 171.974875 \nL 180.378918 172.318505 \nL 180.988865 172.289924 \nL 181.598812 171.894655 \nL 182.20876 172.051025 \nL 182.818707 172.387541 \nL 184.038601 172.331097 \nL 184.648548 171.945178 \nL 185.258495 172.097544 \nL 185.868443 171.893776 \nL 187.088337 172.545977 \nL 188.308231 172.837918 \nL 188.918178 172.635448 \nL 189.528126 172.779646 \nL 190.138073 172.75091 \nL 190.74802 172.551644 \nL 191.967914 172.835532 \nL 192.577861 173.144009 \nL 193.187809 173.114279 \nL 194.407703 173.720441 \nL 195.01765 173.688535 \nL 197.457439 174.213952 \nL 198.067386 174.018739 \nL 198.677333 174.308659 \nL 199.28728 174.435625 \nL 201.117122 174.334826 \nL 201.727069 174.459517 \nL 202.337016 174.269054 \nL 202.946963 174.392971 \nL 203.55691 174.360116 \nL 204.776805 174.604096 \nL 205.386752 174.878353 \nL 206.606646 175.115054 \nL 207.216593 174.928147 \nL 207.826541 174.591487 \nL 209.046435 175.126784 \nL 210.266329 175.355786 \nL 211.486224 175.285811 \nL 212.706118 175.509931 \nL 213.316065 175.328829 \nL 213.926012 175.294493 \nL 214.535959 175.549988 \nL 215.145907 175.515061 \nL 215.755854 175.336749 \nL 216.975748 175.554445 \nL 218.195642 175.485889 \nL 218.80559 175.592929 \nL 219.415537 175.558764 \nL 220.025484 175.664721 \nL 220.635431 175.63054 \nL 221.245378 175.87425 \nL 221.855325 175.977843 \nL 222.465273 175.805103 \nL 223.685167 176.010505 \nL 224.295114 176.248339 \nL 224.905061 176.212898 \nL 225.515008 176.31299 \nL 226.734903 176.242412 \nL 227.954797 176.439498 \nL 229.174691 176.369031 \nL 229.784639 176.202272 \nL 230.394586 176.299558 \nL 231.004533 176.527124 \nL 231.61448 176.622582 \nL 234.054269 175.968239 \nL 235.274163 175.903449 \nL 235.88411 175.744025 \nL 236.494057 175.839549 \nL 237.104005 175.681428 \nL 237.713952 175.776516 \nL 238.323899 175.745317 \nL 238.933846 175.839549 \nL 240.15374 175.777361 \nL 240.763688 175.62262 \nL 241.373635 175.59246 \nL 241.983582 175.439359 \nL 242.593529 175.410005 \nL 243.813423 175.839549 \nL 245.033318 176.021231 \nL 245.643265 175.990457 \nL 247.473106 176.258009 \nL 248.083054 176.107692 \nL 248.693001 176.195932 \nL 249.302948 176.046774 \nL 249.912895 176.134638 \nL 251.132789 176.074129 \nL 252.352684 176.247482 \nL 252.962631 176.217156 \nL 254.182525 176.387996 \nL 254.792472 176.587727 \nL 255.40242 176.441977 \nL 256.012367 176.411518 \nL 256.622314 176.49529 \nL 257.232261 176.351164 \nL 257.842208 176.321263 \nL 258.452155 176.404543 \nL 259.062103 176.374659 \nL 260.281997 176.091493 \nL 262.111838 176.338909 \nL 265.161574 176.304208 \nL 266.991416 176.327228 \nL 270.041152 176.613933 \nL 271.870993 176.739662 \nL 272.48094 176.499515 \nL 273.090887 176.576609 \nL 273.700835 176.443275 \nL 274.920729 176.700886 \nL 275.530676 176.568325 \nL 276.140623 176.644149 \nL 276.75057 176.305434 \nL 279.800306 176.579802 \nL 280.410253 176.348662 \nL 281.630148 176.396513 \nL 284.679884 176.663739 \nL 285.899778 176.510268 \nL 287.729619 176.529565 \nL 291.99925 177.121776 \nL 292.609197 177.287347 \nL 294.439038 177.300067 \nL 295.658933 177.435477 \nL 296.26888 177.312593 \nL 298.098721 177.702162 \nL 299.928563 177.89864 \nL 300.53851 177.776755 \nL 301.148457 177.841732 \nL 302.368351 177.692729 \nL 302.978299 177.665004 \nL 304.198193 177.885865 \nL 306.028034 177.89357 \nL 307.247929 177.928922 \nL 309.07777 177.665678 \nL 309.687717 177.818674 \nL 310.907612 177.853877 \nL 311.517559 178.005315 \nL 312.127506 177.888737 \nL 312.737453 177.950489 \nL 313.3474 177.834602 \nL 313.957348 177.984637 \nL 314.567295 177.869225 \nL 321.276714 178.440879 \nL 323.716502 178.41696 \nL 326.766238 178.619319 \nL 327.376185 178.339871 \nL 328.59608 178.621412 \nL 329.206027 178.594278 \nL 329.815974 178.733842 \nL 331.035868 178.596521 \nL 332.255763 178.62551 \nL 334.085604 178.709519 \nL 334.695551 178.519095 \nL 335.305498 178.492784 \nL 336.525393 178.765627 \nL 337.745287 178.631458 \nL 339.575129 178.874588 \nL 340.795023 179.061605 \nL 346.284548 179.451683 \nL 348.114389 179.448374 \nL 349.334283 179.472095 \nL 349.944231 179.367574 \nL 350.554178 179.418241 \nL 351.164125 179.237046 \nL 352.384019 179.261396 \nL 353.603914 179.285548 \nL 354.213861 179.03008 \nL 356.043702 179.105402 \nL 356.653649 179.003979 \nL 359.093438 179.128664 \nL 362.753121 179.051979 \nL 363.363068 179.175278 \nL 363.363068 179.175278 \n\" style=\"fill:none;stroke:#1f77b4;stroke-linecap:square;stroke-width:1.5;\"/>\n   </g>\n   <g id=\"line2d_15\">\n    <path clip-path=\"url(#p201f4d3dbd)\" d=\"M 58.999432 240.700909 \nL 59.609379 222.169091 \nL 60.219326 228.346363 \nL 60.829273 212.903182 \nL 61.43922 203.637274 \nL 62.049168 197.460002 \nL 62.659115 198.342469 \nL 63.269062 194.371365 \nL 63.879009 187.164545 \nL 65.098903 183.420745 \nL 66.318798 192.233076 \nL 66.928745 187.752857 \nL 68.148639 185.105455 \nL 68.758586 179.65492 \nL 69.978481 182.179383 \nL 70.588428 179.545909 \nL 71.198375 180.693117 \nL 71.808322 183.420745 \nL 73.028217 182.016821 \nL 73.638164 184.364186 \nL 74.248111 183.67993 \nL 74.858058 180.300913 \nL 75.468005 182.458052 \nL 76.077952 183.188374 \nL 76.6879 181.399095 \nL 77.297847 180.920855 \nL 79.127688 182.925241 \nL 79.737635 183.517015 \nL 80.95753 182.601156 \nL 81.567477 183.15474 \nL 82.787371 182.325685 \nL 83.397319 183.749469 \nL 84.007266 184.222987 \nL 84.617213 183.812541 \nL 85.22716 181.736036 \nL 86.447054 184.299728 \nL 87.057002 184.711163 \nL 88.276896 182.458052 \nL 88.886843 183.622912 \nL 89.49679 182.561872 \nL 90.106737 182.254406 \nL 92.546526 183.781756 \nL 93.76642 184.466426 \nL 94.986315 186.340913 \nL 96.206209 185.70326 \nL 96.816156 184.811299 \nL 97.426103 185.105455 \nL 98.036051 184.820351 \nL 98.645998 182.859176 \nL 99.255945 182.062921 \nL 99.865892 182.38019 \nL 101.085786 181.928576 \nL 101.695734 182.756356 \nL 102.305681 181.502047 \nL 102.915628 181.29755 \nL 103.525575 180.096858 \nL 104.745469 178.765627 \nL 105.965364 180.353707 \nL 106.575311 179.710116 \nL 107.185258 179.545909 \nL 107.795205 178.928182 \nL 108.405152 177.873527 \nL 109.0151 177.290832 \nL 110.234994 177.038667 \nL 110.844941 177.778925 \nL 111.454888 178.076146 \nL 112.064835 178.78779 \nL 112.674783 179.067001 \nL 113.28473 179.75182 \nL 113.894677 180.014296 \nL 114.504624 179.465341 \nL 117.55436 180.711315 \nL 118.164307 180.188853 \nL 118.774254 180.051327 \nL 119.994149 180.518372 \nL 120.604096 180.381658 \nL 121.82399 180.828882 \nL 123.043884 181.958543 \nL 124.263779 181.673639 \nL 124.873726 181.875142 \nL 126.09362 181.599438 \nL 126.703567 181.796203 \nL 127.313515 181.333493 \nL 128.533409 181.0768 \nL 129.143356 179.993232 \nL 129.753303 179.878532 \nL 130.36325 179.137584 \nL 130.973198 179.65492 \nL 131.583145 179.545909 \nL 132.803039 179.940853 \nL 134.632881 179.620038 \nL 135.242828 179.222338 \nL 135.852775 179.414585 \nL 136.462722 179.893383 \nL 137.072669 179.790127 \nL 137.682616 179.97357 \nL 138.292564 179.588353 \nL 138.902511 179.489752 \nL 140.122405 180.403352 \nL 141.342299 180.745027 \nL 141.952247 180.100514 \nL 143.782088 179.81065 \nL 144.392035 180.242497 \nL 145.001982 180.407251 \nL 145.61193 180.828882 \nL 147.441771 181.29755 \nL 148.051718 180.945255 \nL 149.271613 180.752345 \nL 149.88156 180.90491 \nL 150.491507 180.810004 \nL 151.711401 181.592888 \nL 152.321348 181.495364 \nL 152.931296 181.159975 \nL 153.541243 181.541646 \nL 154.15119 181.44631 \nL 154.761137 181.117597 \nL 155.371084 181.026127 \nL 155.981031 181.167447 \nL 157.810873 182.263154 \nL 158.42082 182.393484 \nL 159.030767 182.297606 \nL 160.250662 182.997044 \nL 161.470556 183.241312 \nL 162.080503 183.143263 \nL 162.69045 183.263111 \nL 163.300397 182.735109 \nL 163.910345 183.070173 \nL 165.740186 182.78898 \nL 166.350133 182.906767 \nL 167.570028 183.552511 \nL 168.179975 183.66409 \nL 169.399869 183.476284 \nL 170.009816 183.181388 \nL 170.619763 183.493996 \nL 171.839658 183.312055 \nL 173.059552 183.528282 \nL 173.669499 183.438573 \nL 174.279446 183.15474 \nL 174.889394 182.679825 \nL 175.499341 182.016821 \nL 176.109288 181.744763 \nL 177.939129 181.512552 \nL 179.159024 181.736036 \nL 180.378918 181.58441 \nL 181.598812 181.802759 \nL 182.818707 181.290083 \nL 184.038601 181.507045 \nL 184.648548 181.434905 \nL 185.258495 181.541646 \nL 185.868443 180.938014 \nL 186.47839 181.046109 \nL 187.088337 181.328832 \nL 188.308231 181.190284 \nL 188.918178 181.468368 \nL 189.528126 181.571481 \nL 190.138073 181.330456 \nL 190.74802 181.433254 \nL 191.967914 180.959068 \nL 192.577861 181.062153 \nL 193.187809 180.99659 \nL 193.797756 181.265528 \nL 195.01765 181.465276 \nL 195.627597 181.234368 \nL 196.237544 181.169496 \nL 196.847492 181.431746 \nL 198.677333 181.237947 \nL 199.28728 181.334913 \nL 199.897227 181.111533 \nL 200.507175 181.208206 \nL 201.117122 180.987273 \nL 201.727069 181.083659 \nL 202.337016 181.336271 \nL 202.946963 181.430371 \nL 203.55691 181.679404 \nL 204.776805 181.553526 \nL 205.386752 181.645157 \nL 205.996699 181.429725 \nL 207.216593 181.307955 \nL 207.826541 181.399095 \nL 208.436488 181.640159 \nL 209.046435 181.729216 \nL 209.656382 181.967005 \nL 210.266329 181.607485 \nL 210.876276 181.547346 \nL 212.096171 181.722665 \nL 213.316065 181.603382 \nL 213.926012 181.689788 \nL 214.535959 181.630742 \nL 215.145907 181.716369 \nL 216.975748 181.541646 \nL 217.585695 181.342291 \nL 218.80559 181.511834 \nL 219.415537 181.314859 \nL 220.025484 181.538957 \nL 220.635431 181.622032 \nL 221.245378 181.565671 \nL 221.855325 181.648029 \nL 222.465273 181.591988 \nL 223.07522 181.810911 \nL 223.685167 181.617918 \nL 224.295114 181.562611 \nL 224.905061 181.779231 \nL 225.515008 181.58847 \nL 226.124956 181.668646 \nL 226.734903 181.613952 \nL 227.34485 181.827264 \nL 227.954797 181.772394 \nL 228.564744 181.850764 \nL 229.174691 181.796203 \nL 229.784639 181.873932 \nL 230.394586 181.556812 \nL 232.224427 181.789239 \nL 233.444322 182.199773 \nL 234.054269 182.274206 \nL 234.664216 182.219882 \nL 235.274163 182.293735 \nL 237.104005 182.132775 \nL 237.713952 182.20592 \nL 238.323899 182.027293 \nL 238.933846 181.975085 \nL 239.543793 182.04802 \nL 240.15374 181.996094 \nL 240.763688 182.192428 \nL 241.983582 182.334919 \nL 242.593529 182.282727 \nL 243.203476 181.986241 \nL 245.033318 181.471765 \nL 245.643265 181.664697 \nL 246.253212 181.615698 \nL 246.863159 181.447072 \nL 247.473106 181.518655 \nL 248.693001 181.898029 \nL 249.302948 181.730652 \nL 249.912895 181.682381 \nL 250.522842 181.75208 \nL 251.132789 181.704048 \nL 252.352684 182.075099 \nL 252.962631 181.677941 \nL 253.572578 181.746563 \nL 254.182525 181.699298 \nL 254.792472 181.537217 \nL 256.012367 181.788035 \nL 258.452155 182.167486 \nL 259.062103 182.007432 \nL 259.67205 182.185292 \nL 260.891944 181.867973 \nL 263.94168 182.190959 \nL 264.551627 181.925439 \nL 265.161574 181.880157 \nL 266.381469 182.116455 \nL 267.601363 181.917768 \nL 268.21131 181.44219 \nL 270.651099 181.5908 \nL 271.870993 181.610887 \nL 274.310782 181.755074 \nL 275.530676 181.773896 \nL 276.75057 181.999568 \nL 277.360518 181.853354 \nL 283.459989 182.443704 \nL 284.069936 182.300644 \nL 286.509725 182.429742 \nL 287.119672 182.28862 \nL 287.729619 181.951104 \nL 288.339567 181.910317 \nL 288.949514 182.065848 \nL 290.779355 181.943858 \nL 292.609197 181.341181 \nL 293.219144 181.302825 \nL 293.829091 181.456704 \nL 294.439038 181.418248 \nL 295.048985 181.188937 \nL 296.878827 181.266385 \nL 298.708668 181.248579 \nL 301.148457 181.380466 \nL 302.978299 181.177267 \nL 303.588246 180.956544 \nL 304.80814 180.977083 \nL 306.637982 181.053045 \nL 307.247929 180.926714 \nL 308.467823 181.037498 \nL 309.687717 180.787366 \nL 314.567295 181.134354 \nL 316.397136 181.118707 \nL 318.226978 181.190284 \nL 319.446872 181.121982 \nL 320.666766 181.312899 \nL 321.276714 181.364698 \nL 322.496608 181.12518 \nL 323.106555 181.262452 \nL 323.716502 181.143483 \nL 324.936397 181.24643 \nL 325.546344 181.128306 \nL 328.59608 181.298694 \nL 329.815974 181.232513 \nL 331.645815 181.548009 \nL 332.86571 181.563821 \nL 333.475657 181.694946 \nL 334.085604 181.661488 \nL 334.695551 181.791818 \nL 336.525393 181.772979 \nL 337.13534 181.820824 \nL 338.355234 181.673639 \nL 343.844759 181.383255 \nL 344.454706 181.50973 \nL 346.284548 181.257747 \nL 346.894495 181.305061 \nL 348.724336 181.056486 \nL 349.334283 181.181531 \nL 350.554178 181.197911 \nL 352.384019 181.260679 \nL 357.873544 180.991471 \nL 358.483491 181.112831 \nL 359.093438 181.083339 \nL 359.703385 181.20402 \nL 360.92328 181.219755 \nL 363.363068 181.399095 \nL 363.363068 181.399095 \n\" style=\"fill:none;stroke:#ff7f0e;stroke-linecap:square;stroke-width:1.5;\"/>\n   </g>\n   <g id=\"line2d_16\">\n    <path clip-path=\"url(#p201f4d3dbd)\" d=\"M 58.999432 18.319091 \nL 59.609379 92.446367 \nL 60.219326 117.155456 \nL 60.829273 101.712278 \nL 61.43922 122.09728 \nL 62.049168 123.332733 \nL 62.659115 134.804805 \nL 63.269062 143.408872 \nL 63.879009 150.100913 \nL 65.098903 153.095955 \nL 66.318798 155.169444 \nL 66.928745 155.984029 \nL 67.538692 159.160913 \nL 68.148639 157.307733 \nL 68.758586 162.213211 \nL 69.368534 160.396366 \nL 69.978481 160.721489 \nL 71.198375 164.808703 \nL 71.808322 164.888929 \nL 72.418269 163.350715 \nL 73.028217 165.029322 \nL 73.638164 165.091095 \nL 74.248111 166.573638 \nL 74.858058 166.573638 \nL 76.077952 171.685866 \nL 76.6879 170.280004 \nL 77.907794 170.048356 \nL 78.517741 172.189341 \nL 79.127688 173.114279 \nL 79.737635 172.927406 \nL 80.347583 169.662277 \nL 80.95753 171.58224 \nL 81.567477 171.450436 \nL 82.177424 172.275736 \nL 82.787371 172.133184 \nL 83.397319 171.093595 \nL 84.617213 170.883365 \nL 85.22716 172.470125 \nL 85.837107 173.162732 \nL 86.447054 172.213757 \nL 87.057002 173.670934 \nL 87.666949 174.295232 \nL 88.276896 175.65045 \nL 88.886843 173.986364 \nL 89.49679 173.114279 \nL 90.106737 174.414025 \nL 90.716685 174.266094 \nL 91.326632 175.496366 \nL 91.936579 175.334136 \nL 92.546526 174.515845 \nL 93.156473 175.026748 \nL 93.76642 174.241975 \nL 94.376368 174.740202 \nL 94.986315 173.986364 \nL 95.596262 173.864849 \nL 96.206209 174.345049 \nL 96.816156 175.398313 \nL 98.036051 175.126784 \nL 98.645998 175.558764 \nL 99.255945 175.424657 \nL 99.865892 175.839549 \nL 101.085786 174.515845 \nL 101.695734 175.44803 \nL 102.305681 175.839549 \nL 102.915628 175.204895 \nL 104.745469 176.327228 \nL 105.965364 175.126784 \nL 106.575311 175.956839 \nL 107.185258 175.376254 \nL 107.795205 176.182732 \nL 108.405152 176.065547 \nL 109.0151 176.397733 \nL 109.625047 176.28078 \nL 110.844941 175.193087 \nL 111.454888 175.946053 \nL 112.064835 176.260726 \nL 112.674783 176.151881 \nL 113.28473 176.457276 \nL 113.894677 176.348662 \nL 114.504624 176.645281 \nL 115.114571 177.334049 \nL 115.724518 177.613873 \nL 116.334466 178.277942 \nL 116.944413 178.542103 \nL 117.55436 178.418716 \nL 118.164307 179.054248 \nL 118.774254 178.553806 \nL 119.384201 178.434003 \nL 119.994149 177.949605 \nL 120.604096 178.201445 \nL 121.214043 178.088556 \nL 121.82399 177.621456 \nL 123.043884 178.112316 \nL 123.653832 177.658089 \nL 124.263779 177.555457 \nL 124.873726 177.114674 \nL 125.483673 177.355787 \nL 126.09362 177.926464 \nL 126.703567 176.832326 \nL 127.313515 177.069535 \nL 127.923462 176.977468 \nL 128.533409 176.564707 \nL 129.143356 176.478578 \nL 129.753303 176.077134 \nL 130.36325 175.996599 \nL 130.973198 176.22887 \nL 131.583145 176.148412 \nL 132.193092 176.375592 \nL 132.803039 176.902848 \nL 133.412986 177.120202 \nL 134.022933 177.035149 \nL 135.852775 177.663546 \nL 136.462722 177.576908 \nL 137.072669 176.629662 \nL 137.682616 176.837418 \nL 138.292564 176.759064 \nL 139.512458 177.163248 \nL 140.122405 177.08422 \nL 140.732352 177.280913 \nL 141.342299 177.202184 \nL 141.952247 177.665678 \nL 142.562194 177.853877 \nL 143.172141 178.306015 \nL 143.782088 178.486951 \nL 145.001982 178.31916 \nL 145.61193 177.718648 \nL 146.221877 177.64125 \nL 146.831824 177.820535 \nL 148.051718 177.163248 \nL 148.661665 177.342129 \nL 149.88156 178.186914 \nL 150.491507 177.864547 \nL 151.101454 177.302585 \nL 151.711401 177.474707 \nL 153.541243 178.690598 \nL 154.761137 178.537215 \nL 155.371084 178.695082 \nL 155.981031 178.619319 \nL 156.590979 178.774712 \nL 157.200926 178.699396 \nL 157.810873 178.397618 \nL 159.030767 178.254299 \nL 160.250662 178.558285 \nL 162.080503 178.346797 \nL 162.69045 178.711436 \nL 163.300397 178.856357 \nL 163.910345 179.213838 \nL 164.520292 179.141196 \nL 166.350133 179.556381 \nL 166.96008 179.27522 \nL 167.570028 179.204262 \nL 168.179975 178.722277 \nL 168.789922 178.859925 \nL 169.399869 178.588772 \nL 170.619763 178.458177 \nL 171.229711 177.993247 \nL 171.839658 178.330382 \nL 172.449605 178.267515 \nL 173.059552 177.613873 \nL 174.889394 178.022618 \nL 175.499341 178.349066 \nL 176.109288 178.096012 \nL 176.719235 178.227667 \nL 177.329182 177.977833 \nL 177.939129 177.541451 \nL 179.768971 177.376106 \nL 180.378918 177.507413 \nL 181.598812 177.032189 \nL 182.818707 176.929656 \nL 183.428654 177.240734 \nL 184.038601 177.009031 \nL 184.648548 177.316724 \nL 185.258495 177.086882 \nL 185.868443 177.391255 \nL 186.47839 177.516239 \nL 187.698284 177.063349 \nL 188.308231 177.188106 \nL 188.918178 176.792119 \nL 190.138073 177.040683 \nL 190.74802 177.334049 \nL 191.357967 177.454708 \nL 191.967914 177.743501 \nL 192.577861 177.8612 \nL 193.187809 178.145542 \nL 193.797756 178.260368 \nL 194.407703 178.041761 \nL 195.627597 178.269277 \nL 196.237544 177.889527 \nL 196.847492 177.839677 \nL 197.457439 178.115387 \nL 198.067386 178.226833 \nL 200.507175 178.026782 \nL 202.337016 178.352336 \nL 202.946963 178.302635 \nL 203.55691 178.097625 \nL 204.166858 178.359566 \nL 205.386752 177.954173 \nL 205.996699 178.213457 \nL 208.436488 178.626852 \nL 210.876276 178.434003 \nL 212.706118 178.732854 \nL 213.316065 178.976823 \nL 213.926012 178.782836 \nL 214.535959 178.879923 \nL 216.365801 178.737382 \nL 217.585695 178.928182 \nL 218.195642 178.881028 \nL 218.80559 178.69331 \nL 220.635431 178.556617 \nL 221.245378 178.372925 \nL 222.465273 178.836331 \nL 223.07522 178.653638 \nL 223.685167 178.882596 \nL 224.905061 178.792418 \nL 226.124956 178.973111 \nL 226.734903 179.196762 \nL 227.34485 179.017389 \nL 228.564744 179.193873 \nL 229.174691 179.148801 \nL 229.784639 179.235947 \nL 230.394586 179.191045 \nL 231.004533 179.277429 \nL 231.61448 178.971686 \nL 232.224427 179.05823 \nL 232.834374 178.755393 \nL 233.444322 178.712949 \nL 234.054269 178.542103 \nL 234.664216 178.62894 \nL 235.274163 178.587369 \nL 236.494057 178.758944 \nL 237.104005 178.97035 \nL 237.713952 178.802116 \nL 238.323899 179.011943 \nL 238.933846 178.719494 \nL 241.373635 178.557545 \nL 242.593529 178.723641 \nL 243.203476 178.928182 \nL 244.423371 178.847172 \nL 245.033318 178.685936 \nL 245.643265 178.767212 \nL 246.253212 178.486951 \nL 246.863159 178.448396 \nL 247.473106 178.529649 \nL 248.083054 178.491204 \nL 248.693001 178.571805 \nL 249.302948 178.770299 \nL 249.912895 178.731456 \nL 252.352684 178.112316 \nL 252.962631 178.192332 \nL 253.572578 178.387672 \nL 254.182525 178.466334 \nL 257.842208 178.248119 \nL 259.67205 178.703555 \nL 260.281997 178.890859 \nL 261.501891 178.816885 \nL 262.111838 178.558285 \nL 266.991416 179.144929 \nL 267.601363 179.108279 \nL 268.21131 179.287326 \nL 268.821257 179.035614 \nL 270.041152 179.177409 \nL 271.870993 178.857589 \nL 273.700835 178.963181 \nL 275.530676 178.962888 \nL 279.800306 179.438704 \nL 281.630148 179.434517 \nL 282.240095 179.500467 \nL 282.850042 179.36462 \nL 284.069936 179.595996 \nL 288.949514 179.320392 \nL 289.559461 179.482346 \nL 290.169408 179.35084 \nL 290.779355 179.414585 \nL 291.389302 179.18692 \nL 291.99925 179.153987 \nL 292.609197 178.928182 \nL 293.219144 179.088634 \nL 293.829091 179.056209 \nL 294.439038 179.215501 \nL 297.488774 178.959702 \nL 299.318616 178.584133 \nL 300.53851 178.616988 \nL 302.368351 178.619319 \nL 303.588246 178.835988 \nL 304.80814 179.142251 \nL 305.418087 179.019697 \nL 306.028034 179.171621 \nL 306.637982 179.049604 \nL 307.857876 179.351077 \nL 309.07777 179.198722 \nL 309.687717 179.348001 \nL 313.3474 179.164635 \nL 315.177242 179.515097 \nL 318.836925 179.246451 \nL 320.666766 178.985648 \nL 321.886661 179.013981 \nL 323.716502 179.098592 \nL 326.156291 178.984472 \nL 327.376185 179.18032 \nL 327.986132 179.06794 \nL 328.59608 178.78874 \nL 329.206027 178.844709 \nL 330.425921 178.706576 \nL 334.695551 178.600911 \nL 335.915446 178.710961 \nL 337.745287 178.388682 \nL 340.185076 178.527064 \nL 344.454706 178.348652 \nL 345.064653 178.481318 \nL 346.894495 178.484151 \nL 348.114389 178.74612 \nL 348.724336 178.642681 \nL 350.554178 178.799222 \nL 351.164125 178.696535 \nL 352.384019 178.723128 \nL 352.993966 178.5445 \nL 356.653649 178.776595 \nL 357.873544 178.802376 \nL 359.093438 178.827947 \nL 360.313332 178.553806 \nL 361.533227 178.356445 \nL 362.143174 178.481633 \nL 362.753121 178.383496 \nL 363.363068 178.434003 \nL 363.363068 178.434003 \n\" style=\"fill:none;stroke:#2ca02c;stroke-linecap:square;stroke-width:1.5;\"/>\n   </g>\n   <g id=\"line2d_17\">\n    <path clip-path=\"url(#p201f4d3dbd)\" d=\"M 58.999432 203.637274 \nL 59.609379 203.637274 \nL 60.219326 191.282727 \nL 60.829273 194.371365 \nL 61.43922 181.399095 \nL 62.049168 178.928182 \nL 62.659115 177.163248 \nL 63.269062 180.472505 \nL 63.879009 187.164545 \nL 64.488956 181.399095 \nL 65.708851 185.105455 \nL 66.318798 183.67993 \nL 66.928745 187.752857 \nL 68.148639 185.105455 \nL 69.368534 187.164545 \nL 69.978481 189.982252 \nL 71.198375 187.752857 \nL 71.808322 190.159587 \nL 72.418269 189.134115 \nL 73.028217 189.73841 \nL 73.638164 191.776911 \nL 74.248111 189.382028 \nL 74.858058 191.282727 \nL 75.468005 189.076561 \nL 77.297847 186.89886 \nL 77.907794 185.105455 \nL 78.517741 182.297606 \nL 79.127688 181.835134 \nL 79.737635 182.458052 \nL 80.347583 184.075912 \nL 80.95753 183.602875 \nL 82.177424 184.63028 \nL 82.787371 182.325685 \nL 83.397319 181.941489 \nL 84.007266 179.81065 \nL 84.617213 181.226702 \nL 85.22716 180.893682 \nL 85.837107 179.75182 \nL 86.447054 180.271067 \nL 87.057002 179.979634 \nL 88.276896 180.945255 \nL 88.886843 180.65782 \nL 89.49679 179.65492 \nL 90.106737 180.116122 \nL 91.326632 178.241823 \nL 91.936579 178.029671 \nL 92.546526 179.148801 \nL 93.156473 178.928182 \nL 93.76642 179.354203 \nL 94.986315 178.928182 \nL 97.426103 180.472505 \nL 98.036051 179.118253 \nL 98.645998 179.489752 \nL 99.255945 178.743789 \nL 99.865892 179.10987 \nL 100.475839 178.928182 \nL 102.305681 179.957731 \nL 102.915628 179.774386 \nL 103.525575 180.096858 \nL 104.745469 179.740984 \nL 105.355417 178.125941 \nL 105.965364 177.502658 \nL 107.185258 178.156024 \nL 107.795205 177.097884 \nL 108.405152 177.421532 \nL 109.0151 177.290832 \nL 109.625047 176.722017 \nL 110.234994 177.038667 \nL 110.844941 177.778925 \nL 111.454888 178.076146 \nL 112.674783 177.817663 \nL 113.28473 178.104551 \nL 113.894677 177.977833 \nL 114.504624 178.659609 \nL 115.724518 178.402456 \nL 116.944413 178.928182 \nL 118.774254 177.430661 \nL 119.384201 177.692729 \nL 119.994149 177.215671 \nL 120.604096 177.111338 \nL 121.82399 177.621456 \nL 122.433937 177.163248 \nL 123.043884 177.76266 \nL 123.653832 177.311703 \nL 124.263779 177.555457 \nL 124.873726 178.134772 \nL 125.483673 177.692729 \nL 126.09362 177.59256 \nL 126.703567 177.825102 \nL 127.313515 178.381525 \nL 127.923462 178.277942 \nL 128.533409 178.498461 \nL 129.753303 178.294616 \nL 130.36325 178.823485 \nL 131.583145 179.237046 \nL 132.193092 179.132392 \nL 132.803039 178.118049 \nL 133.412986 178.626852 \nL 134.022933 177.931849 \nL 134.632881 177.544478 \nL 135.242828 178.045715 \nL 135.852775 177.955388 \nL 136.462722 178.156024 \nL 137.682616 179.118253 \nL 138.292564 179.305425 \nL 138.902511 178.928182 \nL 139.512458 179.113968 \nL 140.122405 179.573573 \nL 140.732352 179.477276 \nL 141.342299 179.10987 \nL 143.172141 180.439174 \nL 143.782088 180.075391 \nL 144.392035 180.50536 \nL 145.001982 180.407251 \nL 145.61193 180.828882 \nL 146.221877 180.987273 \nL 146.831824 180.376649 \nL 147.441771 180.789829 \nL 148.661665 181.098576 \nL 149.271613 180.752345 \nL 149.88156 180.65782 \nL 150.491507 180.319095 \nL 151.101454 180.472505 \nL 152.321348 180.291999 \nL 152.931296 180.442615 \nL 153.541243 179.640947 \nL 154.15119 179.32164 \nL 154.761137 179.710116 \nL 155.371084 179.627499 \nL 155.981031 179.777557 \nL 156.590979 179.235129 \nL 157.200926 179.614548 \nL 157.810873 179.534543 \nL 159.030767 179.826694 \nL 159.640714 179.300311 \nL 160.860609 180.031268 \nL 161.470556 179.513015 \nL 162.080503 179.872943 \nL 162.69045 179.795169 \nL 163.300397 180.149271 \nL 163.910345 179.428078 \nL 164.520292 179.354203 \nL 165.130239 178.857589 \nL 166.350133 178.299984 \nL 166.96008 178.442332 \nL 167.570028 178.376024 \nL 168.179975 178.516367 \nL 168.789922 178.040844 \nL 169.399869 177.977833 \nL 170.619763 178.25674 \nL 173.059552 179.585343 \nL 173.669499 179.712602 \nL 175.499341 179.507304 \nL 176.109288 179.248252 \nL 176.719235 178.800819 \nL 177.329182 178.738117 \nL 177.939129 179.054248 \nL 178.549077 178.990895 \nL 179.159024 179.302564 \nL 179.768971 179.424847 \nL 180.378918 179.360593 \nL 182.20876 179.719362 \nL 183.428654 179.591109 \nL 184.648548 180.181547 \nL 185.258495 180.294313 \nL 185.868443 180.583338 \nL 187.698284 180.909571 \nL 188.308231 180.842269 \nL 188.918178 181.121982 \nL 189.528126 181.054316 \nL 190.138073 181.330456 \nL 191.357967 181.195073 \nL 191.967914 180.451346 \nL 192.577861 180.388269 \nL 193.187809 180.493464 \nL 193.797756 180.764672 \nL 194.407703 180.701032 \nL 195.01765 180.307038 \nL 196.237544 180.513501 \nL 196.847492 180.288818 \nL 197.457439 179.903545 \nL 198.067386 180.169032 \nL 198.677333 179.948778 \nL 199.897227 180.152988 \nL 200.507175 179.935639 \nL 201.727069 179.821917 \nL 202.946963 180.02289 \nL 204.166858 179.600188 \nL 204.776805 179.545909 \nL 205.386752 179.184501 \nL 205.996699 178.979236 \nL 207.216593 179.181353 \nL 207.826541 178.978612 \nL 208.436488 178.476187 \nL 209.046435 178.277942 \nL 209.656382 177.782399 \nL 210.266329 177.737387 \nL 210.876276 177.840986 \nL 211.486224 178.091423 \nL 212.096171 178.192796 \nL 212.706118 178.439863 \nL 213.926012 178.346797 \nL 215.145907 177.966743 \nL 216.365801 178.451174 \nL 216.975748 178.262942 \nL 217.585695 178.360156 \nL 218.195642 178.5981 \nL 218.80559 178.411453 \nL 219.415537 178.507005 \nL 220.025484 178.182247 \nL 220.635431 178.277942 \nL 221.245378 178.234107 \nL 221.855325 178.052304 \nL 223.07522 178.241823 \nL 223.685167 177.788469 \nL 224.295114 177.474707 \nL 224.905061 177.299012 \nL 225.515008 177.530405 \nL 227.34485 177.41174 \nL 227.954797 177.506077 \nL 228.564744 177.732582 \nL 229.784639 177.653157 \nL 230.394586 177.876736 \nL 231.004533 177.836794 \nL 231.61448 178.058147 \nL 232.834374 178.237023 \nL 233.444322 178.067238 \nL 234.054269 178.156024 \nL 234.664216 178.372445 \nL 235.274163 178.203952 \nL 235.88411 178.291352 \nL 236.494057 178.124295 \nL 237.104005 178.211369 \nL 238.323899 177.881187 \nL 238.933846 177.842985 \nL 240.15374 178.264853 \nL 240.763688 178.101795 \nL 241.373635 178.186914 \nL 241.983582 178.025192 \nL 242.593529 178.232732 \nL 243.203476 178.316575 \nL 243.813423 178.521784 \nL 244.423371 178.604131 \nL 245.033318 178.807059 \nL 245.643265 178.525755 \nL 246.863159 178.688289 \nL 248.083054 178.610383 \nL 249.302948 178.770299 \nL 249.912895 178.613421 \nL 250.522842 178.810522 \nL 251.132789 178.889086 \nL 251.742737 179.084078 \nL 252.962631 179.238018 \nL 253.572578 179.198441 \nL 254.792472 178.774712 \nL 255.40242 178.851685 \nL 256.012367 178.585 \nL 257.232261 178.511313 \nL 257.842208 178.588153 \nL 258.452155 177.986526 \nL 259.062103 178.064493 \nL 259.67205 178.029671 \nL 260.281997 178.107036 \nL 263.94168 177.901694 \nL 264.551627 178.08749 \nL 265.161574 178.053524 \nL 265.771521 177.80174 \nL 266.381469 177.877504 \nL 267.601363 177.703537 \nL 269.431204 177.714152 \nL 271.261046 178.149386 \nL 271.870993 177.904522 \nL 272.48094 178.083431 \nL 276.140623 177.889985 \nL 277.360518 178.136666 \nL 278.580412 177.969935 \nL 281.020201 177.743501 \nL 283.459989 177.120202 \nL 284.069936 176.891355 \nL 286.509725 176.781001 \nL 287.729619 177.02243 \nL 290.169408 177.20505 \nL 291.389302 177.149391 \nL 292.609197 177.480384 \nL 296.26888 177.312593 \nL 296.878827 177.474707 \nL 299.318616 177.36432 \nL 299.928563 177.149877 \nL 300.53851 177.309958 \nL 301.148457 177.189857 \nL 303.588246 177.360819 \nL 304.198193 177.334049 \nL 304.80814 177.4909 \nL 306.028034 177.528406 \nL 307.247929 177.565553 \nL 308.467823 177.60233 \nL 310.907612 177.853877 \nL 313.957348 177.18852 \nL 315.177242 177.402207 \nL 316.397136 177.263389 \nL 320.056819 177.545858 \nL 324.326449 177.284691 \nL 324.936397 177.090549 \nL 327.986132 177.306998 \nL 329.815974 176.984775 \nL 331.035868 177.104025 \nL 331.645815 176.915053 \nL 334.085604 176.905537 \nL 340.795023 177.460579 \nL 341.40497 177.35724 \nL 342.624865 177.6291 \nL 343.234812 177.526064 \nL 345.6746 177.669124 \nL 346.894495 177.543848 \nL 348.114389 177.49766 \nL 348.724336 177.630436 \nL 349.944231 177.506635 \nL 350.554178 177.329056 \nL 351.774072 177.361393 \nL 352.384019 177.262113 \nL 354.213861 177.578101 \nL 357.873544 177.821054 \nL 360.313332 177.730169 \nL 361.533227 177.983571 \nL 362.753121 177.863564 \nL 363.363068 177.840986 \nL 363.363068 177.840986 \n\" style=\"fill:none;stroke:#d62728;stroke-linecap:square;stroke-width:1.5;\"/>\n   </g>\n   <g id=\"line2d_18\">\n    <path clip-path=\"url(#p201f4d3dbd)\" d=\"M 58.999432 203.637274 \nL 59.609379 222.169091 \nL 60.219326 203.637274 \nL 60.829273 212.903182 \nL 61.43922 203.637274 \nL 62.049168 203.637274 \nL 62.659115 193.047662 \nL 63.269062 189.73841 \nL 63.879009 191.282727 \nL 64.488956 192.518186 \nL 65.098903 190.159587 \nL 65.708851 191.282727 \nL 66.318798 183.67993 \nL 66.928745 179.81065 \nL 67.538692 178.928182 \nL 68.148639 182.78898 \nL 68.758586 184.015348 \nL 69.368534 187.164545 \nL 69.978481 186.080817 \nL 70.588428 188.81182 \nL 71.198375 185.987922 \nL 71.808322 186.790169 \nL 72.418269 185.911187 \nL 73.028217 188.194093 \nL 73.638164 187.329277 \nL 75.468005 189.076561 \nL 76.077952 189.578654 \nL 77.907794 187.421935 \nL 78.517741 186.790169 \nL 79.127688 187.285668 \nL 80.347583 186.135003 \nL 80.95753 187.609758 \nL 81.567477 188.031532 \nL 82.787371 190.665 \nL 83.397319 190.981397 \nL 84.007266 192.165194 \nL 84.617213 189.846157 \nL 85.22716 188.474878 \nL 85.837107 188.81182 \nL 86.447054 189.939842 \nL 87.666949 188.966252 \nL 88.276896 189.26566 \nL 88.886843 188.070546 \nL 89.49679 189.102513 \nL 90.106737 189.382028 \nL 90.716685 188.951682 \nL 91.326632 189.223636 \nL 91.936579 188.81182 \nL 92.546526 189.076561 \nL 93.156473 188.681772 \nL 93.76642 187.661569 \nL 94.376368 187.304148 \nL 94.986315 187.576367 \nL 95.596262 187.232057 \nL 96.206209 187.49666 \nL 96.816156 187.164545 \nL 99.255945 188.147994 \nL 99.865892 187.285668 \nL 101.695734 186.410513 \nL 102.305681 187.164545 \nL 103.525575 187.609758 \nL 104.135522 188.317641 \nL 104.745469 188.031532 \nL 105.355417 188.234206 \nL 105.965364 188.906853 \nL 108.405152 189.625411 \nL 109.0151 189.347681 \nL 110.234994 190.555989 \nL 111.454888 190.004675 \nL 112.674783 190.311026 \nL 113.28473 190.047273 \nL 113.894677 190.196613 \nL 114.504624 189.939842 \nL 115.114571 189.29006 \nL 115.724518 189.048394 \nL 116.334466 188.421676 \nL 116.944413 187.421935 \nL 117.55436 187.207005 \nL 118.774254 187.538927 \nL 119.384201 188.070546 \nL 120.604096 188.375775 \nL 121.82399 187.243744 \nL 122.433937 187.399871 \nL 123.043884 186.853743 \nL 124.263779 187.164545 \nL 125.483673 188.137936 \nL 126.09362 187.943662 \nL 128.533409 188.48953 \nL 129.753303 189.382028 \nL 130.36325 189.502836 \nL 130.973198 188.687234 \nL 131.583145 189.120683 \nL 132.193092 189.240658 \nL 132.803039 189.054861 \nL 133.412986 188.269426 \nL 134.022933 188.39336 \nL 134.632881 188.81182 \nL 135.242828 188.635324 \nL 135.852775 188.753454 \nL 136.462722 188.290612 \nL 137.072669 188.696894 \nL 139.512458 188.031532 \nL 140.122405 187.041616 \nL 140.732352 187.164545 \nL 141.342299 187.558196 \nL 141.952247 187.405024 \nL 143.782088 187.752857 \nL 144.392035 187.60265 \nL 145.001982 187.715572 \nL 145.61193 187.308539 \nL 146.221877 187.421935 \nL 147.441771 188.151782 \nL 149.88156 188.56473 \nL 151.101454 189.250731 \nL 152.931296 189.52918 \nL 153.541243 189.144443 \nL 154.15119 189.236753 \nL 154.761137 189.562478 \nL 155.371084 189.650999 \nL 155.981031 189.506763 \nL 156.590979 189.594533 \nL 157.200926 189.223636 \nL 159.030767 188.81182 \nL 160.250662 188.989371 \nL 160.860609 188.855943 \nL 162.69045 187.814785 \nL 163.300397 187.691293 \nL 163.910345 187.354986 \nL 164.520292 187.448561 \nL 165.130239 187.752857 \nL 166.96008 187.395906 \nL 167.570028 187.072522 \nL 168.179975 186.95864 \nL 168.789922 187.050784 \nL 169.399869 186.734625 \nL 170.009816 186.82699 \nL 170.619763 186.716919 \nL 171.229711 186.808378 \nL 171.839658 186.30106 \nL 173.059552 186.485487 \nL 173.669499 186.18403 \nL 174.889394 186.366783 \nL 176.109288 186.929833 \nL 176.719235 186.824903 \nL 177.329182 186.911121 \nL 177.939129 187.18556 \nL 178.549077 187.269072 \nL 179.159024 186.977357 \nL 180.378918 186.773319 \nL 180.988865 186.857223 \nL 181.598812 187.123775 \nL 182.20876 187.02254 \nL 184.038601 187.264504 \nL 184.648548 186.806445 \nL 185.258495 186.530979 \nL 185.868443 186.790169 \nL 186.47839 186.164418 \nL 187.088337 185.895916 \nL 187.698284 185.979599 \nL 188.308231 185.714483 \nL 188.918178 185.625039 \nL 190.138073 184.762277 \nL 191.357967 184.595408 \nL 191.967914 184.851594 \nL 192.577861 184.2631 \nL 193.187809 183.847639 \nL 193.797756 183.769832 \nL 194.407703 183.526515 \nL 195.01765 183.616295 \nL 196.237544 183.465476 \nL 196.847492 183.064507 \nL 198.067386 183.244184 \nL 199.28728 182.77895 \nL 199.897227 182.709102 \nL 201.117122 182.887972 \nL 201.727069 182.660831 \nL 202.337016 182.749717 \nL 202.946963 182.681465 \nL 204.166858 182.856829 \nL 205.386752 183.336858 \nL 205.996699 183.114434 \nL 207.216593 183.282656 \nL 207.826541 183.517015 \nL 208.436488 183.598804 \nL 209.046435 183.379821 \nL 209.656382 183.461505 \nL 210.266329 183.691385 \nL 210.876276 183.771163 \nL 211.486224 183.407325 \nL 212.096171 183.4876 \nL 212.706118 183.27425 \nL 213.926012 183.143263 \nL 214.535959 183.368101 \nL 215.145907 183.446968 \nL 215.755854 183.668884 \nL 216.365801 183.459776 \nL 216.975748 183.537378 \nL 219.415537 183.280353 \nL 220.025484 183.357171 \nL 220.635431 183.015402 \nL 221.245378 182.953822 \nL 223.07522 182.360004 \nL 224.295114 182.516451 \nL 224.905061 182.458052 \nL 226.124956 182.072978 \nL 226.734903 182.151111 \nL 227.34485 182.362478 \nL 227.954797 182.305686 \nL 228.564744 181.983612 \nL 229.784639 182.137729 \nL 230.394586 182.082538 \nL 231.004533 182.158699 \nL 231.61448 181.973317 \nL 232.224427 182.179383 \nL 232.834374 182.254406 \nL 233.444322 182.458052 \nL 234.054269 182.531595 \nL 234.664216 182.219882 \nL 235.274163 182.293735 \nL 235.88411 182.239709 \nL 236.494057 182.312993 \nL 237.104005 182.259272 \nL 238.323899 182.655485 \nL 238.933846 182.726372 \nL 239.543793 182.297606 \nL 240.15374 182.24484 \nL 240.763688 182.31639 \nL 241.373635 182.140363 \nL 241.983582 182.088647 \nL 243.203476 181.741598 \nL 243.813423 181.691698 \nL 244.423371 181.520615 \nL 246.253212 181.375026 \nL 248.083054 181.589773 \nL 248.693001 181.304056 \nL 249.302948 181.256996 \nL 249.912895 181.328269 \nL 250.522842 181.163769 \nL 251.132789 181.234887 \nL 251.742737 181.071718 \nL 252.352684 181.026127 \nL 252.962631 181.097008 \nL 253.572578 180.819973 \nL 254.792472 180.961697 \nL 256.012367 181.330456 \nL 256.622314 181.285052 \nL 257.232261 181.467308 \nL 257.842208 181.421761 \nL 258.452155 181.489494 \nL 259.062103 181.444156 \nL 260.891944 181.086509 \nL 262.721786 180.735268 \nL 265.161574 180.677499 \nL 269.431204 180.28504 \nL 270.041152 179.92509 \nL 271.870993 180.128339 \nL 273.090887 179.735439 \nL 273.700835 179.908146 \nL 277.360518 179.788531 \nL 279.190359 180.088557 \nL 279.800306 179.847118 \nL 281.020201 179.875931 \nL 281.630148 180.042121 \nL 282.240095 179.904429 \nL 287.729619 180.373926 \nL 290.169408 180.521272 \nL 290.779355 180.38738 \nL 291.389302 180.545269 \nL 295.048985 180.329213 \nL 296.878827 180.697635 \nL 299.318616 180.929934 \nL 300.53851 180.764252 \nL 302.978299 180.899984 \nL 303.588246 180.864344 \nL 304.80814 180.426631 \nL 305.418087 180.575457 \nL 307.247929 180.018289 \nL 307.857876 179.894797 \nL 309.07777 179.920153 \nL 310.297665 179.67604 \nL 314.567295 180.075391 \nL 315.177242 179.867249 \nL 316.397136 179.979634 \nL 317.007083 179.773188 \nL 317.617031 179.829339 \nL 318.836925 179.680453 \nL 321.276714 179.644808 \nL 323.106555 179.81065 \nL 323.716502 179.695017 \nL 324.326449 179.83494 \nL 325.546344 179.689764 \nL 326.156291 179.828743 \nL 327.376185 179.852674 \nL 329.206027 180.26381 \nL 330.425921 180.11932 \nL 331.035868 180.0061 \nL 332.255763 180.111361 \nL 333.475657 179.969146 \nL 335.915446 179.769924 \nL 336.525393 179.659703 \nL 337.745287 179.845334 \nL 342.624865 179.697027 \nL 343.844759 179.799339 \nL 344.454706 179.692112 \nL 345.064653 179.427625 \nL 346.894495 179.502814 \nL 347.504442 179.397343 \nL 348.114389 179.526402 \nL 348.724336 179.499191 \nL 349.334283 179.316692 \nL 351.164125 179.391477 \nL 352.993966 179.311865 \nL 353.603914 179.132392 \nL 354.213861 179.259336 \nL 354.823808 179.080709 \nL 357.873544 179.255288 \nL 358.483491 179.15418 \nL 359.093438 179.279025 \nL 363.363068 179.02702 \nL 363.363068 179.02702 \n\" style=\"fill:none;stroke:#9467bd;stroke-linecap:square;stroke-width:1.5;\"/>\n   </g>\n   <g id=\"line2d_19\">\n    <path clip-path=\"url(#p201f4d3dbd)\" d=\"M 58.999432 203.637274 \nL 59.609379 185.105455 \nL 60.219326 191.282727 \nL 60.829273 203.637274 \nL 61.43922 196.224548 \nL 62.049168 191.282727 \nL 62.659115 193.047662 \nL 63.269062 185.105455 \nL 63.879009 187.164545 \nL 65.098903 183.420745 \nL 65.708851 185.105455 \nL 66.318798 189.382028 \nL 66.928745 190.400259 \nL 67.538692 188.81182 \nL 68.148639 189.73841 \nL 68.758586 188.375775 \nL 69.368534 189.223636 \nL 69.978481 186.080817 \nL 70.588428 186.95864 \nL 71.198375 189.517792 \nL 71.808322 186.790169 \nL 72.418269 189.134115 \nL 73.028217 185.105455 \nL 73.638164 182.881637 \nL 74.248111 183.67993 \nL 74.858058 185.79182 \nL 75.468005 182.458052 \nL 76.077952 176.798089 \nL 76.6879 178.928182 \nL 77.297847 179.725249 \nL 77.907794 181.630742 \nL 78.517741 182.297606 \nL 79.127688 179.65492 \nL 79.737635 180.340131 \nL 80.347583 182.016821 \nL 80.95753 181.599438 \nL 81.567477 180.228663 \nL 82.177424 179.878532 \nL 82.787371 181.399095 \nL 83.397319 181.037498 \nL 84.007266 179.81065 \nL 84.617213 179.502814 \nL 86.447054 181.0768 \nL 87.057002 180.768223 \nL 87.666949 181.244663 \nL 88.276896 179.432452 \nL 88.886843 179.916546 \nL 89.49679 181.108396 \nL 90.106737 178.690598 \nL 90.716685 179.161288 \nL 91.326632 178.241823 \nL 93.156473 179.578422 \nL 94.376368 179.137584 \nL 94.986315 177.692729 \nL 95.596262 178.118049 \nL 96.816156 176.574936 \nL 99.255945 178.190598 \nL 99.865892 178.019763 \nL 101.085786 178.751692 \nL 101.695734 178.058147 \nL 102.305681 176.869092 \nL 102.915628 177.23578 \nL 103.525575 178.093416 \nL 104.135522 177.44564 \nL 104.745469 177.790264 \nL 105.355417 178.607285 \nL 106.575311 177.36432 \nL 107.795205 177.097884 \nL 108.405152 177.873527 \nL 110.234994 178.782836 \nL 110.844941 178.209895 \nL 111.454888 178.076146 \nL 112.064835 177.103081 \nL 112.674783 177.401219 \nL 115.724518 176.825284 \nL 116.334466 176.327228 \nL 116.944413 176.225628 \nL 118.164307 176.78505 \nL 118.774254 177.430661 \nL 119.384201 177.322092 \nL 120.604096 177.838076 \nL 121.214043 178.448396 \nL 122.433937 178.222211 \nL 123.043884 177.76266 \nL 123.653832 178.004481 \nL 124.263779 177.555457 \nL 124.873726 177.454708 \nL 125.483673 177.018845 \nL 126.09362 177.25865 \nL 126.703567 177.825102 \nL 127.313515 177.397535 \nL 127.923462 177.302585 \nL 128.533409 177.531582 \nL 129.143356 178.076146 \nL 130.36325 177.881187 \nL 131.583145 177.075002 \nL 132.193092 176.988215 \nL 133.412986 177.421532 \nL 134.022933 177.931849 \nL 134.632881 178.137495 \nL 135.242828 177.457403 \nL 138.292564 177.041992 \nL 138.902511 177.243473 \nL 139.512458 176.884578 \nL 140.122405 176.807627 \nL 140.732352 177.006364 \nL 141.952247 176.854064 \nL 142.562194 176.242412 \nL 143.172141 175.372918 \nL 144.392035 174.72238 \nL 145.001982 174.664997 \nL 145.61193 175.126784 \nL 146.221877 174.552617 \nL 146.831824 174.241975 \nL 147.441771 173.427876 \nL 148.051718 173.633378 \nL 148.661665 173.585676 \nL 149.271613 173.289869 \nL 149.88156 173.245095 \nL 150.491507 173.691821 \nL 151.711401 173.598771 \nL 152.321348 173.31248 \nL 153.541243 173.70126 \nL 154.15119 174.12801 \nL 154.761137 173.845618 \nL 155.371084 174.032988 \nL 155.981031 173.986364 \nL 156.590979 174.170531 \nL 157.200926 173.894849 \nL 159.030767 174.435625 \nL 159.640714 174.38826 \nL 160.250662 173.675656 \nL 160.860609 173.853996 \nL 161.470556 174.249541 \nL 162.080503 174.422409 \nL 163.300397 174.331142 \nL 163.910345 174.714786 \nL 164.520292 174.881004 \nL 165.130239 174.621742 \nL 165.740186 174.786606 \nL 166.350133 175.158999 \nL 166.96008 175.318993 \nL 169.399869 176.755955 \nL 170.009816 176.902848 \nL 170.619763 176.242412 \nL 171.229711 176.390493 \nL 171.839658 176.138449 \nL 172.449605 175.492694 \nL 173.059552 175.445252 \nL 173.669499 175.59442 \nL 174.279446 175.54694 \nL 174.889394 175.694009 \nL 175.499341 175.45347 \nL 176.719235 175.744025 \nL 177.329182 176.077134 \nL 178.549077 176.356936 \nL 179.768971 176.258611 \nL 180.378918 176.024865 \nL 180.988865 175.977843 \nL 182.20876 176.250354 \nL 182.818707 176.202918 \nL 183.428654 175.79435 \nL 184.038601 175.569667 \nL 184.648548 175.884312 \nL 185.258495 176.01774 \nL 186.47839 175.927794 \nL 187.088337 175.707806 \nL 187.698284 175.664721 \nL 189.528126 176.055037 \nL 190.138073 176.354323 \nL 190.74802 176.309251 \nL 191.357967 176.434604 \nL 191.967914 176.728059 \nL 193.187809 176.97158 \nL 193.797756 176.08998 \nL 195.01765 176.335937 \nL 195.627597 176.292549 \nL 196.847492 176.860023 \nL 197.457439 176.814906 \nL 198.067386 176.608333 \nL 198.677333 176.886997 \nL 199.28728 176.84235 \nL 199.897227 177.117606 \nL 201.117122 177.344267 \nL 201.727069 177.298437 \nL 202.337016 176.938896 \nL 202.946963 176.738773 \nL 203.55691 176.851788 \nL 204.166858 176.653709 \nL 205.386752 176.570054 \nL 205.996699 176.83506 \nL 206.606646 176.487779 \nL 207.216593 176.447147 \nL 207.826541 176.55813 \nL 208.436488 176.366877 \nL 210.266329 176.695435 \nL 211.486224 176.614784 \nL 212.096171 176.133705 \nL 212.706118 175.949422 \nL 213.316065 176.058428 \nL 213.926012 176.311929 \nL 214.535959 175.984327 \nL 215.145907 176.091924 \nL 215.755854 175.911375 \nL 216.975748 175.839549 \nL 217.585695 175.946053 \nL 218.195642 175.768817 \nL 219.415537 176.260726 \nL 220.025484 176.22417 \nL 220.635431 176.466565 \nL 221.245378 176.568325 \nL 221.855325 176.531034 \nL 222.465273 176.6318 \nL 223.07522 176.594548 \nL 223.685167 176.831105 \nL 224.905061 177.027483 \nL 225.515008 176.989331 \nL 226.124956 177.086236 \nL 226.734903 176.913855 \nL 227.34485 176.608918 \nL 227.954797 176.439498 \nL 228.564744 176.40414 \nL 229.174691 176.501398 \nL 229.784639 176.466068 \nL 230.394586 176.562421 \nL 231.004533 176.134224 \nL 231.61448 176.231063 \nL 232.224427 175.937084 \nL 232.834374 176.033939 \nL 233.444322 176.000973 \nL 235.88411 176.380855 \nL 238.323899 176.247875 \nL 239.543793 176.681904 \nL 240.15374 176.647982 \nL 241.373635 176.827913 \nL 241.983582 177.040114 \nL 243.203476 176.971028 \nL 243.813423 176.814906 \nL 244.423371 177.024368 \nL 245.643265 177.197744 \nL 246.253212 177.403919 \nL 246.863159 177.368871 \nL 247.473106 177.094929 \nL 248.083054 177.061101 \nL 248.693001 176.908691 \nL 251.132789 177.24703 \nL 251.742737 177.213357 \nL 252.352684 176.946794 \nL 252.962631 177.146651 \nL 254.182525 177.080774 \nL 254.792472 177.278356 \nL 255.40242 177.015714 \nL 256.012367 177.097884 \nL 257.842208 177.001327 \nL 258.452155 177.082536 \nL 259.062103 177.050591 \nL 260.281997 177.323213 \nL 262.111838 177.892476 \nL 266.381469 177.660122 \nL 268.821257 178.283598 \nL 269.431204 178.463998 \nL 270.651099 178.289154 \nL 271.261046 178.149386 \nL 272.48094 178.505807 \nL 273.090887 178.471907 \nL 273.700835 178.228209 \nL 274.920729 178.580167 \nL 276.75057 178.272497 \nL 277.360518 178.343151 \nL 277.970465 178.207503 \nL 278.580412 177.86727 \nL 279.190359 177.733682 \nL 281.020201 178.048134 \nL 281.630148 177.81425 \nL 284.069936 177.993247 \nL 285.899778 178.000764 \nL 286.509725 178.168412 \nL 287.119672 178.137495 \nL 287.729619 178.303884 \nL 288.949514 177.947667 \nL 290.169408 177.790264 \nL 290.779355 177.760827 \nL 291.99925 177.992723 \nL 294.439038 177.970465 \nL 295.048985 178.036619 \nL 295.658933 177.816591 \nL 300.53851 177.683395 \nL 302.978299 177.849856 \nL 303.588246 177.729611 \nL 304.198193 177.793898 \nL 305.418087 177.646972 \nL 306.028034 177.6197 \nL 307.857876 177.991778 \nL 309.687717 178.088556 \nL 312.737453 178.039369 \nL 313.3474 178.100607 \nL 314.567295 177.780974 \nL 316.397136 177.789115 \nL 317.007083 177.850077 \nL 317.617031 177.736333 \nL 319.446872 177.831288 \nL 320.666766 177.692729 \nL 321.886661 177.727048 \nL 322.496608 177.786889 \nL 323.106555 177.675652 \nL 325.546344 177.91274 \nL 326.766238 177.440023 \nL 328.59608 177.533769 \nL 329.206027 177.509081 \nL 330.425921 177.709348 \nL 332.255763 177.88259 \nL 332.86571 177.775092 \nL 334.695551 177.864547 \nL 336.525393 177.627708 \nL 339.575129 177.427414 \nL 341.40497 177.197484 \nL 342.014917 177.254342 \nL 343.234812 177.129237 \nL 345.064653 177.14072 \nL 347.504442 177.36432 \nL 348.724336 177.241115 \nL 350.554178 177.483814 \nL 351.164125 177.615513 \nL 352.384019 177.646591 \nL 353.603914 177.83057 \nL 359.703385 177.602695 \nL 360.92328 177.782399 \nL 363.363068 177.692729 \nL 363.363068 177.692729 \n\" style=\"fill:none;stroke:#8c564b;stroke-linecap:square;stroke-width:1.5;\"/>\n   </g>\n   <g id=\"line2d_20\">\n    <path clip-path=\"url(#p201f4d3dbd)\" d=\"M 43.78125 178.804639 \nL 378.58125 178.804639 \n\" style=\"fill:none;stroke:#000000;stroke-dasharray:5.55,2.4;stroke-dashoffset:0;stroke-width:1.5;\"/>\n   </g>\n   <g id=\"patch_3\">\n    <path d=\"M 43.78125 251.82 \nL 43.78125 7.2 \n\" style=\"fill:none;stroke:#000000;stroke-linecap:square;stroke-linejoin:miter;stroke-width:0.8;\"/>\n   </g>\n   <g id=\"patch_4\">\n    <path d=\"M 378.58125 251.82 \nL 378.58125 7.2 \n\" style=\"fill:none;stroke:#000000;stroke-linecap:square;stroke-linejoin:miter;stroke-width:0.8;\"/>\n   </g>\n   <g id=\"patch_5\">\n    <path d=\"M 43.78125 251.82 \nL 378.58125 251.82 \n\" style=\"fill:none;stroke:#000000;stroke-linecap:square;stroke-linejoin:miter;stroke-width:0.8;\"/>\n   </g>\n   <g id=\"patch_6\">\n    <path d=\"M 43.78125 7.2 \nL 378.58125 7.2 \n\" style=\"fill:none;stroke:#000000;stroke-linecap:square;stroke-linejoin:miter;stroke-width:0.8;\"/>\n   </g>\n   <g id=\"legend_1\">\n    <g id=\"patch_7\">\n     <path d=\"M 295.726562 103.26875 \nL 371.58125 103.26875 \nQ 373.58125 103.26875 373.58125 101.26875 \nL 373.58125 14.2 \nQ 373.58125 12.2 371.58125 12.2 \nL 295.726562 12.2 \nQ 293.726562 12.2 293.726562 14.2 \nL 293.726562 101.26875 \nQ 293.726562 103.26875 295.726562 103.26875 \nz\n\" style=\"fill:#ffffff;opacity:0.8;stroke:#cccccc;stroke-linejoin:miter;\"/>\n    </g>\n    <g id=\"line2d_21\">\n     <path d=\"M 297.726562 20.298437 \nL 317.726562 20.298437 \n\" style=\"fill:none;stroke:#1f77b4;stroke-linecap:square;stroke-width:1.5;\"/>\n    </g>\n    <g id=\"line2d_22\"/>\n    <g id=\"text_16\">\n     <!-- P(die=1) -->\n     <defs>\n      <path d=\"M 19.671875 64.796875 \nL 19.671875 37.40625 \nL 32.078125 37.40625 \nQ 38.96875 37.40625 42.71875 40.96875 \nQ 46.484375 44.53125 46.484375 51.125 \nQ 46.484375 57.671875 42.71875 61.234375 \nQ 38.96875 64.796875 32.078125 64.796875 \nz\nM 9.8125 72.90625 \nL 32.078125 72.90625 \nQ 44.34375 72.90625 50.609375 67.359375 \nQ 56.890625 61.8125 56.890625 51.125 \nQ 56.890625 40.328125 50.609375 34.8125 \nQ 44.34375 29.296875 32.078125 29.296875 \nL 19.671875 29.296875 \nL 19.671875 0 \nL 9.8125 0 \nz\n\" id=\"DejaVuSans-80\"/>\n      <path d=\"M 31 75.875 \nQ 24.46875 64.65625 21.28125 53.65625 \nQ 18.109375 42.671875 18.109375 31.390625 \nQ 18.109375 20.125 21.3125 9.0625 \nQ 24.515625 -2 31 -13.1875 \nL 23.1875 -13.1875 \nQ 15.875 -1.703125 12.234375 9.375 \nQ 8.59375 20.453125 8.59375 31.390625 \nQ 8.59375 42.28125 12.203125 53.3125 \nQ 15.828125 64.359375 23.1875 75.875 \nz\n\" id=\"DejaVuSans-40\"/>\n      <path d=\"M 10.59375 45.40625 \nL 73.1875 45.40625 \nL 73.1875 37.203125 \nL 10.59375 37.203125 \nz\nM 10.59375 25.484375 \nL 73.1875 25.484375 \nL 73.1875 17.1875 \nL 10.59375 17.1875 \nz\n\" id=\"DejaVuSans-61\"/>\n      <path d=\"M 8.015625 75.875 \nL 15.828125 75.875 \nQ 23.140625 64.359375 26.78125 53.3125 \nQ 30.421875 42.28125 30.421875 31.390625 \nQ 30.421875 20.453125 26.78125 9.375 \nQ 23.140625 -1.703125 15.828125 -13.1875 \nL 8.015625 -13.1875 \nQ 14.5 -2 17.703125 9.0625 \nQ 20.90625 20.125 20.90625 31.390625 \nQ 20.90625 42.671875 17.703125 53.65625 \nQ 14.5 64.65625 8.015625 75.875 \nz\n\" id=\"DejaVuSans-41\"/>\n     </defs>\n     <g transform=\"translate(325.726562 23.798437)scale(0.1 -0.1)\">\n      <use xlink:href=\"#DejaVuSans-80\"/>\n      <use x=\"60.302734\" xlink:href=\"#DejaVuSans-40\"/>\n      <use x=\"99.316406\" xlink:href=\"#DejaVuSans-100\"/>\n      <use x=\"162.792969\" xlink:href=\"#DejaVuSans-105\"/>\n      <use x=\"190.576172\" xlink:href=\"#DejaVuSans-101\"/>\n      <use x=\"252.099609\" xlink:href=\"#DejaVuSans-61\"/>\n      <use x=\"335.888672\" xlink:href=\"#DejaVuSans-49\"/>\n      <use x=\"399.511719\" xlink:href=\"#DejaVuSans-41\"/>\n     </g>\n    </g>\n    <g id=\"line2d_23\">\n     <path d=\"M 297.726562 34.976562 \nL 317.726562 34.976562 \n\" style=\"fill:none;stroke:#ff7f0e;stroke-linecap:square;stroke-width:1.5;\"/>\n    </g>\n    <g id=\"line2d_24\"/>\n    <g id=\"text_17\">\n     <!-- P(die=2) -->\n     <g transform=\"translate(325.726562 38.476562)scale(0.1 -0.1)\">\n      <use xlink:href=\"#DejaVuSans-80\"/>\n      <use x=\"60.302734\" xlink:href=\"#DejaVuSans-40\"/>\n      <use x=\"99.316406\" xlink:href=\"#DejaVuSans-100\"/>\n      <use x=\"162.792969\" xlink:href=\"#DejaVuSans-105\"/>\n      <use x=\"190.576172\" xlink:href=\"#DejaVuSans-101\"/>\n      <use x=\"252.099609\" xlink:href=\"#DejaVuSans-61\"/>\n      <use x=\"335.888672\" xlink:href=\"#DejaVuSans-50\"/>\n      <use x=\"399.511719\" xlink:href=\"#DejaVuSans-41\"/>\n     </g>\n    </g>\n    <g id=\"line2d_25\">\n     <path d=\"M 297.726562 49.654687 \nL 317.726562 49.654687 \n\" style=\"fill:none;stroke:#2ca02c;stroke-linecap:square;stroke-width:1.5;\"/>\n    </g>\n    <g id=\"line2d_26\"/>\n    <g id=\"text_18\">\n     <!-- P(die=3) -->\n     <g transform=\"translate(325.726562 53.154687)scale(0.1 -0.1)\">\n      <use xlink:href=\"#DejaVuSans-80\"/>\n      <use x=\"60.302734\" xlink:href=\"#DejaVuSans-40\"/>\n      <use x=\"99.316406\" xlink:href=\"#DejaVuSans-100\"/>\n      <use x=\"162.792969\" xlink:href=\"#DejaVuSans-105\"/>\n      <use x=\"190.576172\" xlink:href=\"#DejaVuSans-101\"/>\n      <use x=\"252.099609\" xlink:href=\"#DejaVuSans-61\"/>\n      <use x=\"335.888672\" xlink:href=\"#DejaVuSans-51\"/>\n      <use x=\"399.511719\" xlink:href=\"#DejaVuSans-41\"/>\n     </g>\n    </g>\n    <g id=\"line2d_27\">\n     <path d=\"M 297.726562 64.332812 \nL 317.726562 64.332812 \n\" style=\"fill:none;stroke:#d62728;stroke-linecap:square;stroke-width:1.5;\"/>\n    </g>\n    <g id=\"line2d_28\"/>\n    <g id=\"text_19\">\n     <!-- P(die=4) -->\n     <g transform=\"translate(325.726562 67.832812)scale(0.1 -0.1)\">\n      <use xlink:href=\"#DejaVuSans-80\"/>\n      <use x=\"60.302734\" xlink:href=\"#DejaVuSans-40\"/>\n      <use x=\"99.316406\" xlink:href=\"#DejaVuSans-100\"/>\n      <use x=\"162.792969\" xlink:href=\"#DejaVuSans-105\"/>\n      <use x=\"190.576172\" xlink:href=\"#DejaVuSans-101\"/>\n      <use x=\"252.099609\" xlink:href=\"#DejaVuSans-61\"/>\n      <use x=\"335.888672\" xlink:href=\"#DejaVuSans-52\"/>\n      <use x=\"399.511719\" xlink:href=\"#DejaVuSans-41\"/>\n     </g>\n    </g>\n    <g id=\"line2d_29\">\n     <path d=\"M 297.726562 79.010937 \nL 317.726562 79.010937 \n\" style=\"fill:none;stroke:#9467bd;stroke-linecap:square;stroke-width:1.5;\"/>\n    </g>\n    <g id=\"line2d_30\"/>\n    <g id=\"text_20\">\n     <!-- P(die=5) -->\n     <g transform=\"translate(325.726562 82.510937)scale(0.1 -0.1)\">\n      <use xlink:href=\"#DejaVuSans-80\"/>\n      <use x=\"60.302734\" xlink:href=\"#DejaVuSans-40\"/>\n      <use x=\"99.316406\" xlink:href=\"#DejaVuSans-100\"/>\n      <use x=\"162.792969\" xlink:href=\"#DejaVuSans-105\"/>\n      <use x=\"190.576172\" xlink:href=\"#DejaVuSans-101\"/>\n      <use x=\"252.099609\" xlink:href=\"#DejaVuSans-61\"/>\n      <use x=\"335.888672\" xlink:href=\"#DejaVuSans-53\"/>\n      <use x=\"399.511719\" xlink:href=\"#DejaVuSans-41\"/>\n     </g>\n    </g>\n    <g id=\"line2d_31\">\n     <path d=\"M 297.726562 93.689062 \nL 317.726562 93.689062 \n\" style=\"fill:none;stroke:#8c564b;stroke-linecap:square;stroke-width:1.5;\"/>\n    </g>\n    <g id=\"line2d_32\"/>\n    <g id=\"text_21\">\n     <!-- P(die=6) -->\n     <g transform=\"translate(325.726562 97.189062)scale(0.1 -0.1)\">\n      <use xlink:href=\"#DejaVuSans-80\"/>\n      <use x=\"60.302734\" xlink:href=\"#DejaVuSans-40\"/>\n      <use x=\"99.316406\" xlink:href=\"#DejaVuSans-100\"/>\n      <use x=\"162.792969\" xlink:href=\"#DejaVuSans-105\"/>\n      <use x=\"190.576172\" xlink:href=\"#DejaVuSans-101\"/>\n      <use x=\"252.099609\" xlink:href=\"#DejaVuSans-61\"/>\n      <use x=\"335.888672\" xlink:href=\"#DejaVuSans-54\"/>\n      <use x=\"399.511719\" xlink:href=\"#DejaVuSans-41\"/>\n     </g>\n    </g>\n   </g>\n  </g>\n </g>\n <defs>\n  <clipPath id=\"p201f4d3dbd\">\n   <rect height=\"244.62\" width=\"334.8\" x=\"43.78125\" y=\"7.2\"/>\n  </clipPath>\n </defs>\n</svg>\n"
          },
          "metadata": {
            "tags": [],
            "needs_background": "light"
          }
        }
      ]
    },
    {
      "cell_type": "markdown",
      "metadata": {
        "id": "UvAkjQaXJdwc"
      },
      "source": [
        "random한 value의 발생 확률을 정하고, 시행을 수차례 반복했을 때 \n",
        "나타나는 probability를 plot하여 한눈에 probability를 관찰한다.\n",
        "machine learning에서 probability가 큰 쪽의 parameter를 update하는데, \n",
        "이때 기본이 되는 probability에 대해 배웠다."
      ]
    },
    {
      "cell_type": "code",
      "metadata": {
        "id": "S2WmHmX2Jadd"
      },
      "source": [
        ""
      ],
      "execution_count": null,
      "outputs": []
    }
  ]
}